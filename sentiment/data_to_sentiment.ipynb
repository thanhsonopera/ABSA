{
 "cells": [
  {
   "cell_type": "code",
   "execution_count": 1,
   "metadata": {},
   "outputs": [],
   "source": [
    "import pandas as pd\n",
    "import numpy as np"
   ]
  },
  {
   "cell_type": "code",
   "execution_count": 2,
   "metadata": {},
   "outputs": [],
   "source": [
    "data = pd.read_csv('../datasets/vlsp2018_restaurant/1-VLSP2018-SA-Restaurant-train.csv')"
   ]
  },
  {
   "cell_type": "code",
   "execution_count": 13,
   "metadata": {},
   "outputs": [],
   "source": [
    "def merge2Setiment(row, category, newCategory):\n",
    "    init = np.zeros(len(newCategory))\n",
    "    oldCategory = np.array(category)\n",
    "    value = np.array(row)[1:]\n",
    "    \n",
    "    dt = pd.DataFrame([init], columns=newCategory, dtype=int)\n",
    "\n",
    "    for i, col in enumerate(oldCategory):\n",
    "        for k in newCategory:\n",
    "            if k in col:\n",
    "                if (value[i] > 0):\n",
    "                    dt.loc[0, k] = min(dt.loc[0, k], value[i]) if dt.loc[0, k] != 0 else value[i]\n",
    "    \n",
    "    return dt.iloc[0]"
   ]
  },
  {
   "cell_type": "code",
   "execution_count": 40,
   "metadata": {},
   "outputs": [],
   "source": [
    "newCategory = ['Review', 'AMBIENCE', 'QUALITY', 'PRICES', 'LOCATION', 'SERVICE']\n",
    "newCol = data.apply(lambda row : merge2Setiment(row, data.columns[1:], newCategory[1:]), axis=1)"
   ]
  },
  {
   "cell_type": "code",
   "execution_count": 41,
   "metadata": {},
   "outputs": [
    {
     "name": "stdout",
     "output_type": "stream",
     "text": [
      "<class 'pandas.core.frame.DataFrame'>\n",
      "Index: 2895 entries, 0 to 2960\n",
      "Data columns (total 6 columns):\n",
      " #   Column    Non-Null Count  Dtype \n",
      "---  ------    --------------  ----- \n",
      " 0   Review    2895 non-null   object\n",
      " 1   AMBIENCE  2895 non-null   int32 \n",
      " 2   QUALITY   2895 non-null   int32 \n",
      " 3   PRICES    2895 non-null   int32 \n",
      " 4   LOCATION  2895 non-null   int32 \n",
      " 5   SERVICE   2895 non-null   int32 \n",
      "dtypes: int32(5), object(1)\n",
      "memory usage: 101.8+ KB\n"
     ]
    }
   ],
   "source": [
    "newCol['Review'] = data['Review']\n",
    "resultPd = newCol[newCategory] \n",
    "resultPd = resultPd[(resultPd[newCategory[1:]] != 0).any(axis=1)] \n",
    "resultPd.info()"
   ]
  }
 ],
 "metadata": {
  "kernelspec": {
   "display_name": "vlsp2018",
   "language": "python",
   "name": "python3"
  },
  "language_info": {
   "codemirror_mode": {
    "name": "ipython",
    "version": 3
   },
   "file_extension": ".py",
   "mimetype": "text/x-python",
   "name": "python",
   "nbconvert_exporter": "python",
   "pygments_lexer": "ipython3",
   "version": "3.11.5"
  }
 },
 "nbformat": 4,
 "nbformat_minor": 2
}
