{
 "cells": [
  {
   "cell_type": "code",
   "execution_count": 1,
   "metadata": {},
   "outputs": [
    {
     "name": "stderr",
     "output_type": "stream",
     "text": [
      "c:\\Users\\thanh\\anaconda3\\envs\\vlsp2018\\Lib\\site-packages\\tqdm\\auto.py:21: TqdmWarning: IProgress not found. Please update jupyter and ipywidgets. See https://ipywidgets.readthedocs.io/en/stable/user_install.html\n",
      "  from .autonotebook import tqdm as notebook_tqdm\n"
     ]
    }
   ],
   "source": [
    "from train_sentiment import *"
   ]
  },
  {
   "cell_type": "code",
   "execution_count": 2,
   "metadata": {},
   "outputs": [],
   "source": [
    "model = Instructor(1)"
   ]
  },
  {
   "cell_type": "code",
   "execution_count": 3,
   "metadata": {},
   "outputs": [
    {
     "name": "stdout",
     "output_type": "stream",
     "text": [
      "Epoch : 1 / 25\n"
     ]
    },
    {
     "name": "stderr",
     "output_type": "stream",
     "text": [
      "100%|██████████| 373/373 [02:37<00:00,  2.37it/s]\n"
     ]
    },
    {
     "name": "stdout",
     "output_type": "stream",
     "text": [
      "Len Train Data :  5961\n",
      "Losses Train 0 : 0.32541453898343\n",
      "Losses Train 1 : 0.4203887579325481\n",
      "Losses Train 2 : 0.40829320992625134\n",
      "Losses Train 3 : 0.2943920864792523\n",
      "Losses Train 4 : 0.36218597804554115\n",
      "                         accuracy precision recall f1-score  support\n",
      "Aspect#Category,Polarity    0.675     0.402  0.315    0.303  29805.0\n",
      "Aspect#Category             0.722     0.731  0.465    0.509  29805.0\n",
      "Polarity                    0.675     0.493  0.367    0.363  29805.0\n"
     ]
    },
    {
     "name": "stderr",
     "output_type": "stream",
     "text": [
      "100%|██████████| 206/206 [00:30<00:00,  6.76it/s]\n"
     ]
    },
    {
     "name": "stdout",
     "output_type": "stream",
     "text": [
      "Len Val Data :  3290\n",
      "Losses Validate 0 : 0.28557201950021066\n",
      "Losses Validate 1 : 0.3654145422677501\n",
      "Losses Validate 2 : 0.1934811244529069\n",
      "Losses Validate 3 : 0.16267243083849503\n",
      "Losses Validate 4 : 0.1737688676564527\n",
      "Param optimizer : \n",
      "Learning rate 8.421723367223676e-05\n",
      "Beta (0.9, 0.999)\n",
      "Weight decay 0\n",
      "Learning rate 8.421723367223676e-05\n",
      "Beta (0.9, 0.999)\n",
      "Weight decay 0.0\n",
      "                         accuracy precision recall f1-score  support\n",
      "Aspect#Category,Polarity    0.809     0.821  0.434    0.414  16450.0\n",
      "Aspect#Category             0.859     0.885  0.724    0.753  16450.0\n",
      "Polarity                    0.809     0.683  0.459    0.458  16450.0\n",
      "Epoch : 2 / 25\n"
     ]
    },
    {
     "name": "stderr",
     "output_type": "stream",
     "text": [
      "100%|██████████| 373/373 [02:36<00:00,  2.39it/s]\n"
     ]
    },
    {
     "name": "stdout",
     "output_type": "stream",
     "text": [
      "Len Train Data :  5961\n",
      "Losses Train 0 : 0.1932485890886444\n",
      "Losses Train 1 : 0.30622030486398205\n",
      "Losses Train 2 : 0.19636427117281963\n",
      "Losses Train 3 : 0.15252337611635505\n",
      "Losses Train 4 : 0.15251618254766672\n",
      "                         accuracy precision recall f1-score  support\n",
      "Aspect#Category,Polarity    0.840     0.675  0.572    0.588  29805.0\n",
      "Aspect#Category             0.898     0.900  0.839    0.866  29805.0\n",
      "Polarity                    0.840     0.727  0.629    0.661  29805.0\n"
     ]
    },
    {
     "name": "stderr",
     "output_type": "stream",
     "text": [
      "100%|██████████| 206/206 [00:28<00:00,  7.28it/s]\n"
     ]
    },
    {
     "name": "stdout",
     "output_type": "stream",
     "text": [
      "Len Val Data :  3290\n",
      "Losses Validate 0 : 0.17022815042353692\n",
      "Losses Validate 1 : 0.2608648855273122\n",
      "Losses Validate 2 : 0.11164841943598808\n",
      "Losses Validate 3 : 0.09494526022563951\n",
      "Losses Validate 4 : 0.1102573351204214\n",
      "Param optimizer : \n",
      "Learning rate 4.793985526480394e-05\n",
      "Beta (0.9, 0.999)\n",
      "Weight decay 0\n",
      "Learning rate 4.793985526480394e-05\n",
      "Beta (0.9, 0.999)\n",
      "Weight decay 0.0\n",
      "                         accuracy precision recall f1-score  support\n",
      "Aspect#Category,Polarity    0.887     0.727  0.657    0.670  16450.0\n",
      "Aspect#Category             0.927     0.910  0.901    0.905  16450.0\n",
      "Polarity                    0.887     0.789  0.718    0.743  16450.0\n",
      "Epoch : 3 / 25\n"
     ]
    },
    {
     "name": "stderr",
     "output_type": "stream",
     "text": [
      "100%|██████████| 373/373 [02:35<00:00,  2.39it/s]\n"
     ]
    },
    {
     "name": "stdout",
     "output_type": "stream",
     "text": [
      "Len Train Data :  5961\n",
      "Losses Train 0 : 0.11518175586760594\n",
      "Losses Train 1 : 0.20019406173237617\n",
      "Losses Train 2 : 0.12492030708007096\n",
      "Losses Train 3 : 0.09247950110893845\n",
      "Losses Train 4 : 0.09525052051209419\n",
      "                         accuracy precision recall f1-score  support\n",
      "Aspect#Category,Polarity    0.907     0.791  0.731    0.745  29805.0\n",
      "Aspect#Category             0.948     0.947  0.926    0.936  29805.0\n",
      "Polarity                    0.907     0.814  0.774    0.790  29805.0\n"
     ]
    },
    {
     "name": "stderr",
     "output_type": "stream",
     "text": [
      "100%|██████████| 206/206 [00:28<00:00,  7.16it/s]\n"
     ]
    },
    {
     "name": "stdout",
     "output_type": "stream",
     "text": [
      "Len Val Data :  3290\n",
      "Losses Validate 0 : 0.14020558916326714\n",
      "Losses Validate 1 : 0.22840590339301206\n",
      "Losses Validate 2 : 0.10503486644895606\n",
      "Losses Validate 3 : 0.08268584715468542\n",
      "Losses Validate 4 : 0.08909096396712185\n",
      "Param optimizer : \n",
      "Learning rate 1.661485972829491e-05\n",
      "Beta (0.9, 0.999)\n",
      "Weight decay 0\n",
      "Learning rate 1.661485972829491e-05\n",
      "Beta (0.9, 0.999)\n",
      "Weight decay 0.0\n",
      "                         accuracy precision recall f1-score  support\n",
      "Aspect#Category,Polarity    0.905     0.776  0.720    0.733  16450.0\n",
      "Aspect#Category             0.940     0.926  0.921    0.923  16450.0\n",
      "Polarity                    0.905     0.808  0.755    0.777  16450.0\n",
      "Epoch : 4 / 25\n"
     ]
    },
    {
     "name": "stderr",
     "output_type": "stream",
     "text": [
      "100%|██████████| 373/373 [02:35<00:00,  2.40it/s]\n"
     ]
    },
    {
     "name": "stdout",
     "output_type": "stream",
     "text": [
      "Len Train Data :  5961\n",
      "Losses Train 0 : 0.08258619931515702\n",
      "Losses Train 1 : 0.13940630003502458\n",
      "Losses Train 2 : 0.0942947563434523\n",
      "Losses Train 3 : 0.06885250796409406\n",
      "Losses Train 4 : 0.06973251385679582\n",
      "                         accuracy precision recall f1-score  support\n",
      "Aspect#Category,Polarity    0.939     0.861  0.807    0.822  29805.0\n",
      "Aspect#Category             0.970     0.970  0.959    0.964  29805.0\n",
      "Polarity                    0.939     0.873  0.844    0.856  29805.0\n"
     ]
    },
    {
     "name": "stderr",
     "output_type": "stream",
     "text": [
      "100%|██████████| 206/206 [00:28<00:00,  7.21it/s]\n"
     ]
    },
    {
     "name": "stdout",
     "output_type": "stream",
     "text": [
      "Len Val Data :  3290\n",
      "Losses Validate 0 : 0.14952362150769102\n",
      "Losses Validate 1 : 0.2277248911310474\n",
      "Losses Validate 2 : 0.09468925040453038\n",
      "Losses Validate 3 : 0.07733248384346715\n",
      "Losses Validate 4 : 0.08580732955894571\n",
      "Param optimizer : \n",
      "Learning rate 1.2215361941407268e-05\n",
      "Beta (0.9, 0.999)\n",
      "Weight decay 0\n",
      "Learning rate 1.2215361941407268e-05\n",
      "Beta (0.9, 0.999)\n",
      "Weight decay 0.0\n",
      "                         accuracy precision recall f1-score  support\n",
      "Aspect#Category,Polarity    0.910     0.791  0.741    0.752  16450.0\n",
      "Aspect#Category             0.941     0.929  0.917    0.922  16450.0\n",
      "Polarity                    0.910     0.822  0.775    0.796  16450.0\n",
      "Epoch : 5 / 25\n"
     ]
    },
    {
     "name": "stderr",
     "output_type": "stream",
     "text": [
      "100%|██████████| 373/373 [02:37<00:00,  2.36it/s]\n"
     ]
    },
    {
     "name": "stdout",
     "output_type": "stream",
     "text": [
      "Len Train Data :  5961\n",
      "Losses Train 0 : 0.07200442706002742\n",
      "Losses Train 1 : 0.1254177980776142\n",
      "Losses Train 2 : 0.08727250033338045\n",
      "Losses Train 3 : 0.06253130654473969\n",
      "Losses Train 4 : 0.06433780548846915\n",
      "                         accuracy precision recall f1-score  support\n",
      "Aspect#Category,Polarity    0.946     0.870  0.824    0.838  29805.0\n",
      "Aspect#Category             0.973     0.973  0.962    0.968  29805.0\n",
      "Polarity                    0.946     0.885  0.857    0.869  29805.0\n"
     ]
    },
    {
     "name": "stderr",
     "output_type": "stream",
     "text": [
      "100%|██████████| 206/206 [00:28<00:00,  7.17it/s]\n"
     ]
    },
    {
     "name": "stdout",
     "output_type": "stream",
     "text": [
      "Len Val Data :  3290\n",
      "Losses Validate 0 : 0.1617050758882859\n",
      "Losses Validate 1 : 0.24645883467240898\n",
      "Losses Validate 2 : 0.10768862782912414\n",
      "Losses Validate 3 : 0.09912320771749983\n",
      "Losses Validate 4 : 0.08877469874171139\n",
      "Param optimizer : \n",
      "Learning rate 3.7827417260911765e-05\n",
      "Beta (0.9, 0.999)\n",
      "Weight decay 0\n",
      "Learning rate 3.7827417260911765e-05\n",
      "Beta (0.9, 0.999)\n",
      "Weight decay 0.0\n",
      "                         accuracy precision recall f1-score  support\n",
      "Aspect#Category,Polarity    0.902     0.782  0.747    0.748  16450.0\n",
      "Aspect#Category             0.937     0.909  0.931    0.919  16450.0\n",
      "Polarity                    0.902     0.796  0.780    0.786  16450.0\n",
      "Epoch : 6 / 25\n"
     ]
    },
    {
     "name": "stderr",
     "output_type": "stream",
     "text": [
      "100%|██████████| 373/373 [02:36<00:00,  2.39it/s]\n"
     ]
    },
    {
     "name": "stdout",
     "output_type": "stream",
     "text": [
      "Len Train Data :  5961\n",
      "Losses Train 0 : 0.08521110374362371\n",
      "Losses Train 1 : 0.1359263781362523\n",
      "Losses Train 2 : 0.09628771879422626\n",
      "Losses Train 3 : 0.06481316739421746\n",
      "Losses Train 4 : 0.06877445899271321\n",
      "                         accuracy precision recall f1-score  support\n",
      "Aspect#Category,Polarity    0.937     0.855  0.818    0.831  29805.0\n",
      "Aspect#Category             0.966     0.965  0.954    0.959  29805.0\n",
      "Polarity                    0.937     0.870  0.847    0.857  29805.0\n"
     ]
    },
    {
     "name": "stderr",
     "output_type": "stream",
     "text": [
      "100%|██████████| 206/206 [00:28<00:00,  7.26it/s]\n"
     ]
    },
    {
     "name": "stdout",
     "output_type": "stream",
     "text": [
      "Len Val Data :  3290\n",
      "Losses Validate 0 : 0.15436436791188085\n",
      "Losses Validate 1 : 0.260470922730614\n",
      "Losses Validate 2 : 0.11504530032083256\n",
      "Losses Validate 3 : 0.10554673246427872\n",
      "Losses Validate 4 : 0.10043455710617605\n",
      "Param optimizer : \n",
      "Learning rate 7.548528860759769e-05\n",
      "Beta (0.9, 0.999)\n",
      "Weight decay 0\n",
      "Learning rate 7.548528860759769e-05\n",
      "Beta (0.9, 0.999)\n",
      "Weight decay 0.0\n",
      "                         accuracy precision recall f1-score  support\n",
      "Aspect#Category,Polarity    0.899     0.779  0.710    0.731  16450.0\n",
      "Aspect#Category             0.933     0.918  0.909    0.913  16450.0\n",
      "Polarity                    0.899     0.803  0.758    0.778  16450.0\n",
      "Epoch : 7 / 25\n"
     ]
    },
    {
     "name": "stderr",
     "output_type": "stream",
     "text": [
      "100%|██████████| 373/373 [02:36<00:00,  2.39it/s]\n"
     ]
    },
    {
     "name": "stdout",
     "output_type": "stream",
     "text": [
      "Len Train Data :  5961\n",
      "Losses Train 0 : 0.08655493523231231\n",
      "Losses Train 1 : 0.12942730198568836\n",
      "Losses Train 2 : 0.0939674177134403\n",
      "Losses Train 3 : 0.07372702745293595\n",
      "Losses Train 4 : 0.06996193792651592\n",
      "                         accuracy precision recall f1-score  support\n",
      "Aspect#Category,Polarity    0.937     0.852  0.818    0.831  29805.0\n",
      "Aspect#Category             0.966     0.962  0.954    0.958  29805.0\n",
      "Polarity                    0.937     0.870  0.849    0.859  29805.0\n"
     ]
    },
    {
     "name": "stderr",
     "output_type": "stream",
     "text": [
      "100%|██████████| 206/206 [00:28<00:00,  7.23it/s]\n"
     ]
    },
    {
     "name": "stdout",
     "output_type": "stream",
     "text": [
      "Len Val Data :  3290\n",
      "Losses Validate 0 : 0.15222129540285803\n",
      "Losses Validate 1 : 0.2600073722811093\n",
      "Losses Validate 2 : 0.11965413104663504\n",
      "Losses Validate 3 : 0.09243834742477962\n",
      "Losses Validate 4 : 0.09898562693124846\n",
      "Param optimizer : \n",
      "Learning rate 9.877362558743278e-05\n",
      "Beta (0.9, 0.999)\n",
      "Weight decay 0\n",
      "Learning rate 9.877362558743278e-05\n",
      "Beta (0.9, 0.999)\n",
      "Weight decay 0.0\n",
      "                         accuracy precision recall f1-score  support\n",
      "Aspect#Category,Polarity    0.898     0.766  0.739    0.741  16450.0\n",
      "Aspect#Category             0.933     0.913  0.913    0.913  16450.0\n",
      "Polarity                    0.898     0.794  0.759    0.769  16450.0\n",
      "Epoch : 8 / 25\n"
     ]
    },
    {
     "name": "stderr",
     "output_type": "stream",
     "text": [
      "100%|██████████| 373/373 [02:36<00:00,  2.39it/s]\n"
     ]
    },
    {
     "name": "stdout",
     "output_type": "stream",
     "text": [
      "Len Train Data :  5961\n",
      "Losses Train 0 : 0.0747188094930248\n",
      "Losses Train 1 : 0.11365170389878791\n",
      "Losses Train 2 : 0.07760039005647908\n",
      "Losses Train 3 : 0.07211225507838717\n",
      "Losses Train 4 : 0.061723534965841105\n",
      "                         accuracy precision recall f1-score  support\n",
      "Aspect#Category,Polarity    0.947     0.875  0.846    0.858  29805.0\n",
      "Aspect#Category             0.972     0.970  0.960    0.965  29805.0\n",
      "Polarity                    0.947     0.891  0.870    0.879  29805.0\n"
     ]
    },
    {
     "name": "stderr",
     "output_type": "stream",
     "text": [
      "100%|██████████| 206/206 [00:28<00:00,  7.25it/s]\n"
     ]
    },
    {
     "name": "stdout",
     "output_type": "stream",
     "text": [
      "Len Val Data :  3290\n",
      "Losses Validate 0 : 0.15906048615245108\n",
      "Losses Validate 1 : 0.28950580536051\n",
      "Losses Validate 2 : 0.10728048612462714\n",
      "Losses Validate 3 : 0.08939738134346835\n",
      "Losses Validate 4 : 0.10700855975500718\n",
      "Param optimizer : \n",
      "Learning rate 9.13566779464197e-05\n",
      "Beta (0.9, 0.999)\n",
      "Weight decay 0\n",
      "Learning rate 9.13566779464197e-05\n",
      "Beta (0.9, 0.999)\n",
      "Weight decay 0.0\n",
      "                         accuracy precision recall f1-score  support\n",
      "Aspect#Category,Polarity    0.899     0.745  0.729    0.730  16450.0\n",
      "Aspect#Category             0.936     0.913  0.929    0.921  16450.0\n",
      "Polarity                    0.899     0.784  0.776    0.778  16450.0\n",
      "Epoch : 9 / 25\n"
     ]
    },
    {
     "name": "stderr",
     "output_type": "stream",
     "text": [
      "100%|██████████| 373/373 [02:36<00:00,  2.39it/s]\n"
     ]
    },
    {
     "name": "stdout",
     "output_type": "stream",
     "text": [
      "Len Train Data :  5961\n",
      "Losses Train 0 : 0.05485430379588619\n",
      "Losses Train 1 : 0.0718122977745291\n",
      "Losses Train 2 : 0.05527206817652791\n",
      "Losses Train 3 : 0.04806032766958468\n",
      "Losses Train 4 : 0.05084623797735578\n",
      "                         accuracy precision recall f1-score  support\n",
      "Aspect#Category,Polarity    0.964     0.905  0.888    0.896  29805.0\n",
      "Aspect#Category             0.982     0.979  0.975    0.977  29805.0\n",
      "Polarity                    0.964     0.920  0.909    0.915  29805.0\n"
     ]
    },
    {
     "name": "stderr",
     "output_type": "stream",
     "text": [
      "100%|██████████| 206/206 [00:28<00:00,  7.21it/s]\n"
     ]
    },
    {
     "name": "stdout",
     "output_type": "stream",
     "text": [
      "Len Val Data :  3290\n",
      "Losses Validate 0 : 0.18137870967206984\n",
      "Losses Validate 1 : 0.30224205054863607\n",
      "Losses Validate 2 : 0.1166951216983759\n",
      "Losses Validate 3 : 0.09729765554420129\n",
      "Losses Validate 4 : 0.0951857289395615\n",
      "Param optimizer : \n",
      "Learning rate 5.843711019493033e-05\n",
      "Beta (0.9, 0.999)\n",
      "Weight decay 0\n",
      "Learning rate 5.843711019493033e-05\n",
      "Beta (0.9, 0.999)\n",
      "Weight decay 0.0\n",
      "                         accuracy precision recall f1-score  support\n",
      "Aspect#Category,Polarity    0.905     0.767  0.762    0.762  16450.0\n",
      "Aspect#Category             0.938     0.916  0.925    0.920  16450.0\n",
      "Polarity                    0.905     0.794  0.790    0.791  16450.0\n",
      "Epoch : 10 / 25\n"
     ]
    },
    {
     "name": "stderr",
     "output_type": "stream",
     "text": [
      "100%|██████████| 373/373 [02:37<00:00,  2.36it/s]\n"
     ]
    },
    {
     "name": "stdout",
     "output_type": "stream",
     "text": [
      "Len Train Data :  5961\n",
      "Losses Train 0 : 0.03320872308703562\n",
      "Losses Train 1 : 0.037810625228140306\n",
      "Losses Train 2 : 0.02979873342014883\n",
      "Losses Train 3 : 0.031788884765988644\n",
      "Losses Train 4 : 0.033560758171925865\n",
      "                         accuracy precision recall f1-score  support\n",
      "Aspect#Category,Polarity    0.982     0.949  0.936    0.942  29805.0\n",
      "Aspect#Category             0.992     0.990  0.988    0.989  29805.0\n",
      "Polarity                    0.982     0.958  0.951    0.954  29805.0\n"
     ]
    },
    {
     "name": "stderr",
     "output_type": "stream",
     "text": [
      "100%|██████████| 206/206 [00:28<00:00,  7.23it/s]\n"
     ]
    },
    {
     "name": "stdout",
     "output_type": "stream",
     "text": [
      "Len Val Data :  3290\n",
      "Losses Validate 0 : 0.17503564659630635\n",
      "Losses Validate 1 : 0.28250051837833456\n",
      "Losses Validate 2 : 0.119005145779089\n",
      "Losses Validate 3 : 0.09217305149781124\n",
      "Losses Validate 4 : 0.0938429383147723\n",
      "Param optimizer : \n",
      "Learning rate 2.3106559907752417e-05\n",
      "Beta (0.9, 0.999)\n",
      "Weight decay 0\n",
      "Learning rate 2.3106559907752417e-05\n",
      "Beta (0.9, 0.999)\n",
      "Weight decay 0.0\n",
      "                         accuracy precision recall f1-score  support\n",
      "Aspect#Category,Polarity    0.909     0.768  0.770    0.767  16450.0\n",
      "Aspect#Category             0.942     0.915  0.935    0.925  16450.0\n",
      "Polarity                    0.909     0.804  0.790    0.796  16450.0\n",
      "Epoch : 11 / 25\n"
     ]
    },
    {
     "name": "stderr",
     "output_type": "stream",
     "text": [
      "100%|██████████| 373/373 [02:36<00:00,  2.39it/s]\n"
     ]
    },
    {
     "name": "stdout",
     "output_type": "stream",
     "text": [
      "Len Train Data :  5961\n",
      "Losses Train 0 : 0.02158908787824187\n",
      "Losses Train 1 : 0.02208633067558484\n",
      "Losses Train 2 : 0.01888297665711118\n",
      "Losses Train 3 : 0.02251291391388959\n",
      "Losses Train 4 : 0.02002077584817813\n",
      "                         accuracy precision recall f1-score  support\n",
      "Aspect#Category,Polarity    0.991     0.975  0.967    0.971  29805.0\n",
      "Aspect#Category             0.996     0.995  0.994    0.995  29805.0\n",
      "Polarity                    0.991     0.980  0.975    0.978  29805.0\n"
     ]
    },
    {
     "name": "stderr",
     "output_type": "stream",
     "text": [
      "100%|██████████| 206/206 [00:28<00:00,  7.24it/s]\n"
     ]
    },
    {
     "name": "stdout",
     "output_type": "stream",
     "text": [
      "Len Val Data :  3290\n",
      "Losses Validate 0 : 0.17504945299885374\n",
      "Losses Validate 1 : 0.28883633089101785\n",
      "Losses Validate 2 : 0.11979348968635214\n",
      "Losses Validate 3 : 0.09370505422534914\n",
      "Losses Validate 4 : 0.09429115892747435\n",
      "Param optimizer : \n",
      "Learning rate 1.0147863503277814e-05\n",
      "Beta (0.9, 0.999)\n",
      "Weight decay 0\n",
      "Learning rate 1.0147863503277814e-05\n",
      "Beta (0.9, 0.999)\n",
      "Weight decay 0.0\n",
      "                         accuracy precision recall f1-score  support\n",
      "Aspect#Category,Polarity    0.908     0.762  0.775    0.766  16450.0\n",
      "Aspect#Category             0.941     0.914  0.936    0.925  16450.0\n",
      "Polarity                    0.908     0.797  0.798    0.797  16450.0\n",
      "Epoch : 12 / 25\n"
     ]
    },
    {
     "name": "stderr",
     "output_type": "stream",
     "text": [
      "100%|██████████| 373/373 [02:35<00:00,  2.39it/s]\n"
     ]
    },
    {
     "name": "stdout",
     "output_type": "stream",
     "text": [
      "Len Train Data :  5961\n",
      "Losses Train 0 : 0.018712195154855043\n",
      "Losses Train 1 : 0.018379495511507353\n",
      "Losses Train 2 : 0.01581389502608282\n",
      "Losses Train 3 : 0.01839856531316653\n",
      "Losses Train 4 : 0.01800065034288945\n",
      "                         accuracy precision recall f1-score  support\n",
      "Aspect#Category,Polarity    0.994     0.980  0.976    0.978  29805.0\n",
      "Aspect#Category             0.997     0.997  0.997    0.997  29805.0\n",
      "Polarity                    0.994     0.985  0.982    0.984  29805.0\n"
     ]
    },
    {
     "name": "stderr",
     "output_type": "stream",
     "text": [
      "100%|██████████| 206/206 [00:28<00:00,  7.27it/s]\n"
     ]
    },
    {
     "name": "stdout",
     "output_type": "stream",
     "text": [
      "Len Val Data :  3290\n",
      "Losses Validate 0 : 0.16068559766359242\n",
      "Losses Validate 1 : 0.2922064440817456\n",
      "Losses Validate 2 : 0.12095782354836405\n",
      "Losses Validate 3 : 0.09499888637055018\n",
      "Losses Validate 4 : 0.0949252003062188\n",
      "Param optimizer : \n",
      "Learning rate 2.865097997102748e-05\n",
      "Beta (0.9, 0.999)\n",
      "Weight decay 0\n",
      "Learning rate 2.865097997102748e-05\n",
      "Beta (0.9, 0.999)\n",
      "Weight decay 0.0\n",
      "                         accuracy precision recall f1-score  support\n",
      "Aspect#Category,Polarity    0.913     0.771  0.790    0.779  16450.0\n",
      "Aspect#Category             0.944     0.919  0.937    0.928  16450.0\n",
      "Polarity                    0.913     0.803  0.812    0.808  16450.0\n",
      "Epoch : 13 / 25\n"
     ]
    },
    {
     "name": "stderr",
     "output_type": "stream",
     "text": [
      "100%|██████████| 373/373 [02:35<00:00,  2.39it/s]\n"
     ]
    },
    {
     "name": "stdout",
     "output_type": "stream",
     "text": [
      "Len Train Data :  5961\n",
      "Losses Train 0 : 0.02192222382738934\n",
      "Losses Train 1 : 0.02314254649032224\n",
      "Losses Train 2 : 0.017896380081755307\n",
      "Losses Train 3 : 0.020015049658277013\n",
      "Losses Train 4 : 0.020139437933142924\n",
      "                         accuracy precision recall f1-score  support\n",
      "Aspect#Category,Polarity    0.991     0.975  0.969    0.972  29805.0\n",
      "Aspect#Category             0.996     0.995  0.994    0.995  29805.0\n",
      "Polarity                    0.991     0.980  0.977    0.979  29805.0\n"
     ]
    },
    {
     "name": "stderr",
     "output_type": "stream",
     "text": [
      "100%|██████████| 206/206 [00:28<00:00,  7.26it/s]\n"
     ]
    },
    {
     "name": "stdout",
     "output_type": "stream",
     "text": [
      "Len Val Data :  3290\n",
      "Losses Validate 0 : 0.2438607927309887\n",
      "Losses Validate 1 : 0.28176948959885395\n",
      "Losses Validate 2 : 0.13509874710852796\n",
      "Losses Validate 3 : 0.1307486339452419\n",
      "Losses Validate 4 : 0.14439030577935347\n",
      "Param optimizer : \n",
      "Learning rate 6.563678204229494e-05\n",
      "Beta (0.9, 0.999)\n",
      "Weight decay 0\n",
      "Learning rate 6.563678204229494e-05\n",
      "Beta (0.9, 0.999)\n",
      "Weight decay 0.0\n",
      "                         accuracy precision recall f1-score  support\n",
      "Aspect#Category,Polarity    0.895     0.743  0.763    0.749  16450.0\n",
      "Aspect#Category             0.930     0.888  0.936    0.910  16450.0\n",
      "Polarity                    0.895     0.784  0.783    0.782  16450.0\n",
      "Epoch : 14 / 25\n"
     ]
    },
    {
     "name": "stderr",
     "output_type": "stream",
     "text": [
      "100%|██████████| 373/373 [02:35<00:00,  2.39it/s]\n"
     ]
    },
    {
     "name": "stdout",
     "output_type": "stream",
     "text": [
      "Len Train Data :  5961\n",
      "Losses Train 0 : 0.05267111047029975\n",
      "Losses Train 1 : 0.06297451805906434\n",
      "Losses Train 2 : 0.050643132950481284\n",
      "Losses Train 3 : 0.038292978874460364\n",
      "Losses Train 4 : 0.04382742543915258\n",
      "                         accuracy precision recall f1-score  support\n",
      "Aspect#Category,Polarity    0.969     0.921  0.906    0.913  29805.0\n",
      "Aspect#Category             0.985     0.982  0.980    0.981  29805.0\n",
      "Polarity                    0.969     0.933  0.924    0.928  29805.0\n"
     ]
    },
    {
     "name": "stderr",
     "output_type": "stream",
     "text": [
      "100%|██████████| 206/206 [00:28<00:00,  7.23it/s]\n"
     ]
    },
    {
     "name": "stdout",
     "output_type": "stream",
     "text": [
      "Len Val Data :  3290\n",
      "Losses Validate 0 : 0.18447465863543078\n",
      "Losses Validate 1 : 0.3168415863644388\n",
      "Losses Validate 2 : 0.14547818657010794\n",
      "Losses Validate 3 : 0.10845427436238908\n",
      "Losses Validate 4 : 0.1253746348062366\n",
      "Param optimizer : \n",
      "Learning rate 9.516134653771494e-05\n",
      "Beta (0.9, 0.999)\n",
      "Weight decay 0\n",
      "Learning rate 9.516134653771494e-05\n",
      "Beta (0.9, 0.999)\n",
      "Weight decay 0.0\n",
      "                         accuracy precision recall f1-score  support\n",
      "Aspect#Category,Polarity    0.896     0.757  0.737    0.737  16450.0\n",
      "Aspect#Category             0.930     0.909  0.913    0.911  16450.0\n",
      "Polarity                    0.896     0.792  0.771    0.778  16450.0\n",
      "Epoch : 15 / 25\n"
     ]
    },
    {
     "name": "stderr",
     "output_type": "stream",
     "text": [
      "100%|██████████| 373/373 [02:35<00:00,  2.39it/s]\n"
     ]
    },
    {
     "name": "stdout",
     "output_type": "stream",
     "text": [
      "Len Train Data :  5961\n",
      "Losses Train 0 : 0.05756520130323936\n",
      "Losses Train 1 : 0.08713078796313606\n",
      "Losses Train 2 : 0.05864137224884286\n",
      "Losses Train 3 : 0.059754405560644056\n",
      "Losses Train 4 : 0.05018837919817777\n",
      "                         accuracy precision recall f1-score  support\n",
      "Aspect#Category,Polarity    0.959     0.899  0.883    0.890  29805.0\n",
      "Aspect#Category             0.978     0.973  0.970    0.972  29805.0\n",
      "Polarity                    0.959     0.914  0.903    0.908  29805.0\n"
     ]
    },
    {
     "name": "stderr",
     "output_type": "stream",
     "text": [
      "100%|██████████| 206/206 [00:28<00:00,  7.25it/s]\n"
     ]
    },
    {
     "name": "stdout",
     "output_type": "stream",
     "text": [
      "Len Val Data :  3290\n",
      "Losses Validate 0 : 0.1900951655451378\n",
      "Losses Validate 1 : 0.3844259782515942\n",
      "Losses Validate 2 : 0.14244746782429132\n",
      "Losses Validate 3 : 0.1132413709485241\n",
      "Losses Validate 4 : 0.11847310142653873\n",
      "Param optimizer : \n",
      "Learning rate 9.65144822412788e-05\n",
      "Beta (0.9, 0.999)\n",
      "Weight decay 0\n",
      "Learning rate 9.65144822412788e-05\n",
      "Beta (0.9, 0.999)\n",
      "Weight decay 0.0\n",
      "                         accuracy precision recall f1-score  support\n",
      "Aspect#Category,Polarity    0.892     0.760  0.715    0.727  16450.0\n",
      "Aspect#Category             0.929     0.912  0.914    0.912  16450.0\n",
      "Polarity                    0.892     0.775  0.755    0.763  16450.0\n",
      "Epoch : 16 / 25\n"
     ]
    },
    {
     "name": "stderr",
     "output_type": "stream",
     "text": [
      "100%|██████████| 373/373 [02:35<00:00,  2.39it/s]\n"
     ]
    },
    {
     "name": "stdout",
     "output_type": "stream",
     "text": [
      "Len Train Data :  5961\n",
      "Losses Train 0 : 0.043959250907068224\n",
      "Losses Train 1 : 0.04772295113143615\n",
      "Losses Train 2 : 0.04099474081323063\n",
      "Losses Train 3 : 0.04429983829298569\n",
      "Losses Train 4 : 0.03453794072371684\n",
      "                         accuracy precision recall f1-score  support\n",
      "Aspect#Category,Polarity    0.975     0.934  0.924    0.928  29805.0\n",
      "Aspect#Category             0.987     0.984  0.982    0.983  29805.0\n",
      "Polarity                    0.975     0.946  0.939    0.943  29805.0\n"
     ]
    },
    {
     "name": "stderr",
     "output_type": "stream",
     "text": [
      "100%|██████████| 206/206 [00:28<00:00,  7.26it/s]\n"
     ]
    },
    {
     "name": "stdout",
     "output_type": "stream",
     "text": [
      "Len Val Data :  3290\n",
      "Losses Validate 0 : 0.2144036830728449\n",
      "Losses Validate 1 : 0.29757024608892146\n",
      "Losses Validate 2 : 0.19711089344825425\n",
      "Losses Validate 3 : 0.1136444792615697\n",
      "Losses Validate 4 : 0.1103493186715979\n",
      "Param optimizer : \n",
      "Learning rate 6.874702361436e-05\n",
      "Beta (0.9, 0.999)\n",
      "Weight decay 0\n",
      "Learning rate 6.874702361436e-05\n",
      "Beta (0.9, 0.999)\n",
      "Weight decay 0.0\n",
      "                         accuracy precision recall f1-score  support\n",
      "Aspect#Category,Polarity    0.899     0.754  0.763    0.750  16450.0\n",
      "Aspect#Category             0.939     0.906  0.938    0.921  16450.0\n",
      "Polarity                    0.899     0.773  0.757    0.763  16450.0\n",
      "Epoch : 17 / 25\n"
     ]
    },
    {
     "name": "stderr",
     "output_type": "stream",
     "text": [
      "100%|██████████| 373/373 [02:35<00:00,  2.40it/s]\n"
     ]
    },
    {
     "name": "stdout",
     "output_type": "stream",
     "text": [
      "Len Train Data :  5961\n",
      "Losses Train 0 : 0.022077424745744877\n",
      "Losses Train 1 : 0.025089764311682194\n",
      "Losses Train 2 : 0.01890983787124498\n",
      "Losses Train 3 : 0.020419247030981875\n",
      "Losses Train 4 : 0.02161392466301207\n",
      "                         accuracy precision recall f1-score  support\n",
      "Aspect#Category,Polarity    0.988     0.971  0.963    0.967  29805.0\n",
      "Aspect#Category             0.994     0.993  0.993    0.993  29805.0\n",
      "Polarity                    0.988     0.976  0.970    0.973  29805.0\n"
     ]
    },
    {
     "name": "stderr",
     "output_type": "stream",
     "text": [
      "100%|██████████| 206/206 [00:28<00:00,  7.29it/s]\n"
     ]
    },
    {
     "name": "stdout",
     "output_type": "stream",
     "text": [
      "Len Val Data :  3290\n",
      "Losses Validate 0 : 0.19835954837184003\n",
      "Losses Validate 1 : 0.3331249199807644\n",
      "Losses Validate 2 : 0.13285970100198835\n",
      "Losses Validate 3 : 0.11696303003668604\n",
      "Losses Validate 4 : 0.11830727480872787\n",
      "Param optimizer : \n",
      "Learning rate 3.133662892471391e-05\n",
      "Beta (0.9, 0.999)\n",
      "Weight decay 0\n",
      "Learning rate 3.133662892471391e-05\n",
      "Beta (0.9, 0.999)\n",
      "Weight decay 0.0\n",
      "                         accuracy precision recall f1-score  support\n",
      "Aspect#Category,Polarity    0.907     0.763  0.774    0.764  16450.0\n",
      "Aspect#Category             0.941     0.915  0.936    0.925  16450.0\n",
      "Polarity                    0.907     0.794  0.796    0.795  16450.0\n",
      "Epoch : 18 / 25\n"
     ]
    },
    {
     "name": "stderr",
     "output_type": "stream",
     "text": [
      "100%|██████████| 373/373 [02:37<00:00,  2.37it/s]\n"
     ]
    },
    {
     "name": "stdout",
     "output_type": "stream",
     "text": [
      "Len Train Data :  5961\n",
      "Losses Train 0 : 0.012785155771088028\n",
      "Losses Train 1 : 0.014481536239745572\n",
      "Losses Train 2 : 0.011352226961165982\n",
      "Losses Train 3 : 0.013192232004514458\n",
      "Losses Train 4 : 0.012111597049358287\n",
      "                         accuracy precision recall f1-score  support\n",
      "Aspect#Category,Polarity    0.995     0.987  0.984    0.985  29805.0\n",
      "Aspect#Category             0.998     0.997  0.997    0.997  29805.0\n",
      "Polarity                    0.995     0.990  0.987    0.989  29805.0\n"
     ]
    },
    {
     "name": "stderr",
     "output_type": "stream",
     "text": [
      "100%|██████████| 206/206 [00:28<00:00,  7.19it/s]\n"
     ]
    },
    {
     "name": "stdout",
     "output_type": "stream",
     "text": [
      "Len Val Data :  3290\n",
      "Losses Validate 0 : 0.19434696629326395\n",
      "Losses Validate 1 : 0.321000530332961\n",
      "Losses Validate 2 : 0.13719621283429645\n",
      "Losses Validate 3 : 0.11373640829442483\n",
      "Losses Validate 4 : 0.114778870731411\n",
      "Param optimizer : \n",
      "Learning rate 1.0525054510832692e-05\n",
      "Beta (0.9, 0.999)\n",
      "Weight decay 0\n",
      "Learning rate 1.0525054510832692e-05\n",
      "Beta (0.9, 0.999)\n",
      "Weight decay 0.0\n",
      "                         accuracy precision recall f1-score  support\n",
      "Aspect#Category,Polarity    0.909     0.765  0.769    0.765  16450.0\n",
      "Aspect#Category             0.942     0.919  0.932    0.925  16450.0\n",
      "Polarity                    0.909     0.802  0.795    0.798  16450.0\n",
      "Epoch : 19 / 25\n"
     ]
    },
    {
     "name": "stderr",
     "output_type": "stream",
     "text": [
      "100%|██████████| 373/373 [02:38<00:00,  2.35it/s]\n"
     ]
    },
    {
     "name": "stdout",
     "output_type": "stream",
     "text": [
      "Len Train Data :  5961\n",
      "Losses Train 0 : 0.010175040680737008\n",
      "Losses Train 1 : 0.010079733501807932\n",
      "Losses Train 2 : 0.008939758358116098\n",
      "Losses Train 3 : 0.010964668134183337\n",
      "Losses Train 4 : 0.008622877621631697\n",
      "                         accuracy precision recall f1-score  support\n",
      "Aspect#Category,Polarity    0.997     0.994  0.991    0.992  29805.0\n",
      "Aspect#Category             0.999     0.998  0.998    0.998  29805.0\n",
      "Polarity                    0.997     0.995  0.993    0.994  29805.0\n"
     ]
    },
    {
     "name": "stderr",
     "output_type": "stream",
     "text": [
      "100%|██████████| 206/206 [00:28<00:00,  7.19it/s]\n"
     ]
    },
    {
     "name": "stdout",
     "output_type": "stream",
     "text": [
      "Len Val Data :  3290\n",
      "Losses Validate 0 : 0.19761327303108112\n",
      "Losses Validate 1 : 0.3223100581067674\n",
      "Losses Validate 2 : 0.13620579721672194\n",
      "Losses Validate 3 : 0.11840915660116266\n",
      "Losses Validate 4 : 0.11917022410157423\n",
      "Param optimizer : \n",
      "Learning rate 2.0910709967701353e-05\n",
      "Beta (0.9, 0.999)\n",
      "Weight decay 0\n",
      "Learning rate 2.0910709967701353e-05\n",
      "Beta (0.9, 0.999)\n",
      "Weight decay 0.0\n",
      "                         accuracy precision recall f1-score  support\n",
      "Aspect#Category,Polarity    0.910     0.766  0.772    0.768  16450.0\n",
      "Aspect#Category             0.942     0.917  0.936    0.926  16450.0\n",
      "Polarity                    0.910     0.805  0.798    0.801  16450.0\n",
      "Epoch : 20 / 25\n"
     ]
    },
    {
     "name": "stderr",
     "output_type": "stream",
     "text": [
      "100%|██████████| 373/373 [02:37<00:00,  2.37it/s]\n"
     ]
    },
    {
     "name": "stdout",
     "output_type": "stream",
     "text": [
      "Len Train Data :  5961\n",
      "Losses Train 0 : 0.010335707133037495\n",
      "Losses Train 1 : 0.012306136072726882\n",
      "Losses Train 2 : 0.007785117053991595\n",
      "Losses Train 3 : 0.010518291794829791\n",
      "Losses Train 4 : 0.010022151814653378\n",
      "                         accuracy precision recall f1-score  support\n",
      "Aspect#Category,Polarity    0.997     0.992  0.990    0.991  29805.0\n",
      "Aspect#Category             0.998     0.998  0.998    0.998  29805.0\n",
      "Polarity                    0.997     0.993  0.992    0.993  29805.0\n"
     ]
    },
    {
     "name": "stderr",
     "output_type": "stream",
     "text": [
      "100%|██████████| 206/206 [00:29<00:00,  6.96it/s]\n"
     ]
    },
    {
     "name": "stdout",
     "output_type": "stream",
     "text": [
      "Len Val Data :  3290\n",
      "Losses Validate 0 : 0.1982565166343762\n",
      "Losses Validate 1 : 0.3447400797532141\n",
      "Losses Validate 2 : 0.1474898746271128\n",
      "Losses Validate 3 : 0.12729791141536914\n",
      "Losses Validate 4 : 0.11880154138527199\n",
      "Param optimizer : \n",
      "Learning rate 5.5208512040369344e-05\n",
      "Beta (0.9, 0.999)\n",
      "Weight decay 0\n",
      "Learning rate 5.5208512040369344e-05\n",
      "Beta (0.9, 0.999)\n",
      "Weight decay 0.0\n",
      "                         accuracy precision recall f1-score  support\n",
      "Aspect#Category,Polarity    0.907     0.766  0.768    0.763  16450.0\n",
      "Aspect#Category             0.941     0.918  0.931    0.924  16450.0\n",
      "Polarity                    0.907     0.797  0.796    0.795  16450.0\n",
      "Epoch : 21 / 25\n"
     ]
    },
    {
     "name": "stderr",
     "output_type": "stream",
     "text": [
      "100%|██████████| 373/373 [02:38<00:00,  2.35it/s]\n"
     ]
    },
    {
     "name": "stdout",
     "output_type": "stream",
     "text": [
      "Len Train Data :  5961\n",
      "Losses Train 0 : 0.026779201507288384\n",
      "Losses Train 1 : 0.02369993422014804\n",
      "Losses Train 2 : 0.014643286296563788\n",
      "Losses Train 3 : 0.016997560656557165\n",
      "Losses Train 4 : 0.020232532137148415\n",
      "                         accuracy precision recall f1-score  support\n",
      "Aspect#Category,Polarity    0.989     0.969  0.963    0.966  29805.0\n",
      "Aspect#Category             0.995     0.994  0.992    0.993  29805.0\n",
      "Polarity                    0.989     0.976  0.971    0.974  29805.0\n"
     ]
    },
    {
     "name": "stderr",
     "output_type": "stream",
     "text": [
      "100%|██████████| 206/206 [00:28<00:00,  7.13it/s]\n"
     ]
    },
    {
     "name": "stdout",
     "output_type": "stream",
     "text": [
      "Len Val Data :  3290\n",
      "Losses Validate 0 : 0.2357758906933176\n",
      "Losses Validate 1 : 0.36594429779401483\n",
      "Losses Validate 2 : 0.13819365560057315\n",
      "Losses Validate 3 : 0.12961688982747427\n",
      "Losses Validate 4 : 0.12669078287835542\n",
      "Param optimizer : \n",
      "Learning rate 8.93600520324459e-05\n",
      "Beta (0.9, 0.999)\n",
      "Weight decay 0\n",
      "Learning rate 8.93600520324459e-05\n",
      "Beta (0.9, 0.999)\n",
      "Weight decay 0.0\n",
      "                         accuracy precision recall f1-score  support\n",
      "Aspect#Category,Polarity    0.899     0.743  0.745    0.740  16450.0\n",
      "Aspect#Category             0.937     0.911  0.920    0.915  16450.0\n",
      "Polarity                    0.899     0.786  0.772    0.776  16450.0\n",
      "Epoch : 22 / 25\n"
     ]
    },
    {
     "name": "stderr",
     "output_type": "stream",
     "text": [
      "100%|██████████| 373/373 [02:37<00:00,  2.36it/s]\n"
     ]
    },
    {
     "name": "stdout",
     "output_type": "stream",
     "text": [
      "Len Train Data :  5961\n",
      "Losses Train 0 : 0.05813371379136529\n",
      "Losses Train 1 : 0.07210717711462068\n",
      "Losses Train 2 : 0.052541738083235194\n",
      "Losses Train 3 : 0.05251133408803025\n",
      "Losses Train 4 : 0.05936327397715843\n",
      "                         accuracy precision recall f1-score  support\n",
      "Aspect#Category,Polarity    0.962     0.907  0.899    0.903  29805.0\n",
      "Aspect#Category             0.979     0.973  0.971    0.972  29805.0\n",
      "Polarity                    0.962     0.921  0.916    0.919  29805.0\n"
     ]
    },
    {
     "name": "stderr",
     "output_type": "stream",
     "text": [
      "100%|██████████| 206/206 [00:28<00:00,  7.16it/s]\n"
     ]
    },
    {
     "name": "stdout",
     "output_type": "stream",
     "text": [
      "Len Val Data :  3290\n",
      "Losses Validate 0 : 0.19345764416782327\n",
      "Losses Validate 1 : 0.3665619624557828\n",
      "Losses Validate 2 : 0.16975680852484376\n",
      "Losses Validate 3 : 0.13853987518324315\n",
      "Losses Validate 4 : 0.12909664413509578\n",
      "Param optimizer : \n",
      "Learning rate 9.940951770267716e-05\n",
      "Beta (0.9, 0.999)\n",
      "Weight decay 0\n",
      "Learning rate 9.940951770267716e-05\n",
      "Beta (0.9, 0.999)\n",
      "Weight decay 0.0\n",
      "                         accuracy precision recall f1-score  support\n",
      "Aspect#Category,Polarity    0.887     0.721  0.738    0.725  16450.0\n",
      "Aspect#Category             0.929     0.890  0.932    0.909  16450.0\n",
      "Polarity                    0.887     0.748  0.768    0.758  16450.0\n",
      "Epoch : 23 / 25\n"
     ]
    },
    {
     "name": "stderr",
     "output_type": "stream",
     "text": [
      "100%|██████████| 373/373 [02:38<00:00,  2.35it/s]\n"
     ]
    },
    {
     "name": "stdout",
     "output_type": "stream",
     "text": [
      "Len Train Data :  5961\n",
      "Losses Train 0 : 0.033430347011315704\n",
      "Losses Train 1 : 0.054567949672964994\n",
      "Losses Train 2 : 0.038368936589356736\n",
      "Losses Train 3 : 0.03298816023648505\n",
      "Losses Train 4 : 0.046811999195355176\n",
      "                         accuracy precision recall f1-score  support\n",
      "Aspect#Category,Polarity    0.975     0.939  0.932    0.935  29805.0\n",
      "Aspect#Category             0.986     0.983  0.983    0.983  29805.0\n",
      "Polarity                    0.975     0.948  0.942    0.945  29805.0\n"
     ]
    },
    {
     "name": "stderr",
     "output_type": "stream",
     "text": [
      "100%|██████████| 206/206 [00:28<00:00,  7.14it/s]\n"
     ]
    },
    {
     "name": "stdout",
     "output_type": "stream",
     "text": [
      "Len Val Data :  3290\n",
      "Losses Validate 0 : 0.21307673332674887\n",
      "Losses Validate 1 : 0.3214570138592126\n",
      "Losses Validate 2 : 0.14342253488010095\n",
      "Losses Validate 3 : 0.11718460698314803\n",
      "Losses Validate 4 : 0.10914805378980007\n",
      "Param optimizer : \n",
      "Learning rate 7.830764823363495e-05\n",
      "Beta (0.9, 0.999)\n",
      "Weight decay 0\n",
      "Learning rate 7.830764823363495e-05\n",
      "Beta (0.9, 0.999)\n",
      "Weight decay 0.0\n",
      "                         accuracy precision recall f1-score  support\n",
      "Aspect#Category,Polarity    0.902     0.758  0.758    0.754  16450.0\n",
      "Aspect#Category             0.937     0.912  0.923    0.917  16450.0\n",
      "Polarity                    0.902     0.794  0.786    0.790  16450.0\n",
      "Epoch : 24 / 25\n"
     ]
    },
    {
     "name": "stderr",
     "output_type": "stream",
     "text": [
      "100%|██████████| 373/373 [02:38<00:00,  2.36it/s]\n"
     ]
    },
    {
     "name": "stdout",
     "output_type": "stream",
     "text": [
      "Len Train Data :  5961\n",
      "Losses Train 0 : 0.01644613564444396\n",
      "Losses Train 1 : 0.019353547795164648\n",
      "Losses Train 2 : 0.017595352538428716\n",
      "Losses Train 3 : 0.016492578463003633\n",
      "Losses Train 4 : 0.021607467006330143\n",
      "                         accuracy precision recall f1-score  support\n",
      "Aspect#Category,Polarity    0.991     0.975  0.974    0.974  29805.0\n",
      "Aspect#Category             0.995     0.994  0.995    0.994  29805.0\n",
      "Polarity                    0.991     0.980  0.978    0.979  29805.0\n"
     ]
    },
    {
     "name": "stderr",
     "output_type": "stream",
     "text": [
      "100%|██████████| 206/206 [00:28<00:00,  7.13it/s]\n"
     ]
    },
    {
     "name": "stdout",
     "output_type": "stream",
     "text": [
      "Len Val Data :  3290\n",
      "Losses Validate 0 : 0.21449288706037592\n",
      "Losses Validate 1 : 0.3423138845632685\n",
      "Losses Validate 2 : 0.1464595058695116\n",
      "Losses Validate 3 : 0.15354723621691976\n",
      "Losses Validate 4 : 0.12377938682264379\n",
      "Param optimizer : \n",
      "Learning rate 4.0856482510157334e-05\n",
      "Beta (0.9, 0.999)\n",
      "Weight decay 0\n",
      "Learning rate 4.0856482510157334e-05\n",
      "Beta (0.9, 0.999)\n",
      "Weight decay 0.0\n",
      "                         accuracy precision recall f1-score  support\n",
      "Aspect#Category,Polarity    0.904     0.764  0.760    0.759  16450.0\n",
      "Aspect#Category             0.937     0.908  0.929    0.918  16450.0\n",
      "Polarity                    0.904     0.798  0.792    0.795  16450.0\n",
      "Epoch : 25 / 25\n"
     ]
    },
    {
     "name": "stderr",
     "output_type": "stream",
     "text": [
      "100%|██████████| 373/373 [02:35<00:00,  2.40it/s]\n"
     ]
    },
    {
     "name": "stdout",
     "output_type": "stream",
     "text": [
      "Len Train Data :  5961\n",
      "Losses Train 0 : 0.010535345879467596\n",
      "Losses Train 1 : 0.009672186460056634\n",
      "Losses Train 2 : 0.009080060054791032\n",
      "Losses Train 3 : 0.009235678590312938\n",
      "Losses Train 4 : 0.010589298065217464\n",
      "                         accuracy precision recall f1-score  support\n",
      "Aspect#Category,Polarity    0.996     0.988  0.988    0.988  29805.0\n",
      "Aspect#Category             0.998     0.996  0.998    0.997  29805.0\n",
      "Polarity                    0.996     0.991  0.990    0.990  29805.0\n"
     ]
    },
    {
     "name": "stderr",
     "output_type": "stream",
     "text": [
      "100%|██████████| 206/206 [00:28<00:00,  7.26it/s]\n"
     ]
    },
    {
     "name": "stdout",
     "output_type": "stream",
     "text": [
      "Len Val Data :  3290\n",
      "Losses Validate 0 : 0.21607704141140438\n",
      "Losses Validate 1 : 0.3434051968304491\n",
      "Losses Validate 2 : 0.15043607815635876\n",
      "Losses Validate 3 : 0.13206070978817244\n",
      "Losses Validate 4 : 0.11593906274603222\n",
      "Param optimizer : \n",
      "Learning rate 1.3326375968510038e-05\n",
      "Beta (0.9, 0.999)\n",
      "Weight decay 0\n",
      "Learning rate 1.3326375968510038e-05\n",
      "Beta (0.9, 0.999)\n",
      "Weight decay 0.0\n",
      "                         accuracy precision recall f1-score  support\n",
      "Aspect#Category,Polarity    0.909     0.770  0.767    0.767  16450.0\n",
      "Aspect#Category             0.941     0.921  0.922    0.922  16450.0\n",
      "Polarity                    0.909     0.809  0.796    0.802  16450.0\n"
     ]
    }
   ],
   "source": [
    "model.train()"
   ]
  }
 ],
 "metadata": {
  "kernelspec": {
   "display_name": "vlsp2018",
   "language": "python",
   "name": "python3"
  },
  "language_info": {
   "codemirror_mode": {
    "name": "ipython",
    "version": 3
   },
   "file_extension": ".py",
   "mimetype": "text/x-python",
   "name": "python",
   "nbconvert_exporter": "python",
   "pygments_lexer": "ipython3",
   "version": "3.11.5"
  }
 },
 "nbformat": 4,
 "nbformat_minor": 2
}
