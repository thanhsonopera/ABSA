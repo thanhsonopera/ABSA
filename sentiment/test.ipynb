{
 "cells": [
  {
   "cell_type": "code",
   "execution_count": 1,
   "metadata": {},
   "outputs": [
    {
     "name": "stderr",
     "output_type": "stream",
     "text": [
      "c:\\Users\\thanh\\anaconda3\\envs\\vlsp2018\\Lib\\site-packages\\tqdm\\auto.py:21: TqdmWarning: IProgress not found. Please update jupyter and ipywidgets. See https://ipywidgets.readthedocs.io/en/stable/user_install.html\n",
      "  from .autonotebook import tqdm as notebook_tqdm\n"
     ]
    }
   ],
   "source": [
    "from train_sentiment import *"
   ]
  },
  {
   "cell_type": "code",
   "execution_count": 2,
   "metadata": {},
   "outputs": [],
   "source": [
    "model = Instructor()"
   ]
  },
  {
   "cell_type": "code",
   "execution_count": 3,
   "metadata": {},
   "outputs": [
    {
     "name": "stdout",
     "output_type": "stream",
     "text": [
      "Epoch : 1 / 25\n"
     ]
    },
    {
     "name": "stderr",
     "output_type": "stream",
     "text": [
      "100%|██████████| 353/353 [02:29<00:00,  2.37it/s]\n"
     ]
    },
    {
     "name": "stdout",
     "output_type": "stream",
     "text": [
      "Len Train Data :  5633\n",
      "Losses Train 0 : 0.30882961401269804\n",
      "Losses Train 1 : 0.3788365978723137\n",
      "Losses Train 2 : 0.30527573339303815\n",
      "Losses Train 3 : 0.24848180716718765\n",
      "Losses Train 4 : 0.2513377403738908\n",
      "                         accuracy precision recall f1-score  support\n",
      "Aspect#Category,Polarity    0.747     0.529  0.405    0.411  28165.0\n",
      "Aspect#Category             0.812     0.808  0.661    0.702  28165.0\n",
      "Polarity                    0.747     0.597  0.461    0.477  28165.0\n"
     ]
    },
    {
     "name": "stderr",
     "output_type": "stream",
     "text": [
      "100%|██████████| 196/196 [00:28<00:00,  6.88it/s]\n"
     ]
    },
    {
     "name": "stdout",
     "output_type": "stream",
     "text": [
      "Len Val Data :  3133\n",
      "Losses Validate 0 : 0.26845415807401946\n",
      "Losses Validate 1 : 0.3591503584076717\n",
      "Losses Validate 2 : 0.1648625755629675\n",
      "Losses Validate 3 : 0.14234257785040388\n",
      "Losses Validate 4 : 0.14792749195330218\n",
      "Param optimizer : \n",
      "Learning rate 8.577116392540876e-05\n",
      "Beta (0.9, 0.999)\n",
      "Weight decay 0\n",
      "                         accuracy precision recall f1-score  support\n",
      "Aspect#Category,Polarity    0.827     0.729  0.567    0.559  15665.0\n",
      "Aspect#Category             0.886     0.846  0.889    0.865  15665.0\n",
      "Polarity                    0.827     0.671  0.649    0.656  15665.0\n",
      "Epoch : 2 / 25\n"
     ]
    },
    {
     "name": "stderr",
     "output_type": "stream",
     "text": [
      "100%|██████████| 353/353 [02:36<00:00,  2.26it/s]\n"
     ]
    },
    {
     "name": "stdout",
     "output_type": "stream",
     "text": [
      "Len Train Data :  5633\n",
      "Losses Train 0 : 0.1884327779469303\n",
      "Losses Train 1 : 0.28751847393957564\n",
      "Losses Train 2 : 0.17354960073253178\n",
      "Losses Train 3 : 0.14973725980062078\n",
      "Losses Train 4 : 0.13760915834548607\n",
      "                         accuracy precision recall f1-score  support\n",
      "Aspect#Category,Polarity    0.852     0.686  0.591    0.601  28165.0\n",
      "Aspect#Category             0.911     0.910  0.868    0.887  28165.0\n",
      "Polarity                    0.852     0.738  0.649    0.680  28165.0\n"
     ]
    },
    {
     "name": "stderr",
     "output_type": "stream",
     "text": [
      "100%|██████████| 196/196 [00:28<00:00,  6.81it/s]\n"
     ]
    },
    {
     "name": "stdout",
     "output_type": "stream",
     "text": [
      "Len Val Data :  3133\n",
      "Losses Validate 0 : 0.17505290143565175\n",
      "Losses Validate 1 : 0.2777651503867628\n",
      "Losses Validate 2 : 0.12016662745060268\n",
      "Losses Validate 3 : 0.11613268754541627\n",
      "Losses Validate 4 : 0.11203940540428478\n",
      "Param optimizer : \n",
      "Learning rate 5.2082867969972473e-05\n",
      "Beta (0.9, 0.999)\n",
      "Weight decay 0\n",
      "                         accuracy precision recall f1-score  support\n",
      "Aspect#Category,Polarity    0.878     0.692  0.658    0.661  15665.0\n",
      "Aspect#Category             0.920     0.900  0.910    0.904  15665.0\n",
      "Polarity                    0.878     0.744  0.735    0.739  15665.0\n",
      "Epoch : 3 / 25\n"
     ]
    },
    {
     "name": "stderr",
     "output_type": "stream",
     "text": [
      "100%|██████████| 353/353 [02:33<00:00,  2.30it/s]\n"
     ]
    },
    {
     "name": "stdout",
     "output_type": "stream",
     "text": [
      "Len Train Data :  5633\n",
      "Losses Train 0 : 0.12033146088878405\n",
      "Losses Train 1 : 0.21273086465380658\n",
      "Losses Train 2 : 0.11975883940502952\n",
      "Losses Train 3 : 0.10155052247149851\n",
      "Losses Train 4 : 0.09041018929936293\n",
      "                         accuracy precision recall f1-score  support\n",
      "Aspect#Category,Polarity    0.901     0.773  0.709    0.724  28165.0\n",
      "Aspect#Category             0.947     0.947  0.929    0.937  28165.0\n",
      "Polarity                    0.901     0.806  0.754    0.775  28165.0\n"
     ]
    },
    {
     "name": "stderr",
     "output_type": "stream",
     "text": [
      "100%|██████████| 196/196 [00:27<00:00,  7.16it/s]\n"
     ]
    },
    {
     "name": "stdout",
     "output_type": "stream",
     "text": [
      "Len Val Data :  3133\n",
      "Losses Validate 0 : 0.15922618259970386\n",
      "Losses Validate 1 : 0.25284672207699926\n",
      "Losses Validate 2 : 0.11059840986171622\n",
      "Losses Validate 3 : 0.09153340871041855\n",
      "Losses Validate 4 : 0.10094875502027036\n",
      "Param optimizer : \n",
      "Learning rate 2.0239345057345063e-05\n",
      "Beta (0.9, 0.999)\n",
      "Weight decay 0\n",
      "                         accuracy precision recall f1-score  support\n",
      "Aspect#Category,Polarity    0.896     0.733  0.689    0.698  15665.0\n",
      "Aspect#Category             0.932     0.913  0.923    0.918  15665.0\n",
      "Polarity                    0.896     0.794  0.740    0.762  15665.0\n",
      "Epoch : 4 / 25\n"
     ]
    },
    {
     "name": "stderr",
     "output_type": "stream",
     "text": [
      "100%|██████████| 353/353 [02:34<00:00,  2.29it/s]\n"
     ]
    },
    {
     "name": "stdout",
     "output_type": "stream",
     "text": [
      "Len Train Data :  5633\n",
      "Losses Train 0 : 0.08245688498538657\n",
      "Losses Train 1 : 0.1601144701702735\n",
      "Losses Train 2 : 0.08734650726050017\n",
      "Losses Train 3 : 0.07507140836060926\n",
      "Losses Train 4 : 0.06548964875948148\n",
      "                         accuracy precision recall f1-score  support\n",
      "Aspect#Category,Polarity    0.932     0.847  0.783    0.797  28165.0\n",
      "Aspect#Category             0.965     0.968  0.954    0.961  28165.0\n",
      "Polarity                    0.932     0.859  0.820    0.836  28165.0\n"
     ]
    },
    {
     "name": "stderr",
     "output_type": "stream",
     "text": [
      "100%|██████████| 196/196 [00:27<00:00,  7.10it/s]\n"
     ]
    },
    {
     "name": "stdout",
     "output_type": "stream",
     "text": [
      "Len Val Data :  3133\n",
      "Losses Validate 0 : 0.16441368037924536\n",
      "Losses Validate 1 : 0.24396651079583923\n",
      "Losses Validate 2 : 0.1057243894843906\n",
      "Losses Validate 3 : 0.09042233228683472\n",
      "Losses Validate 4 : 0.0985610947854748\n",
      "Param optimizer : \n",
      "Learning rate 1.0378207079136446e-05\n",
      "Beta (0.9, 0.999)\n",
      "Weight decay 0\n",
      "                         accuracy precision recall f1-score  support\n",
      "Aspect#Category,Polarity    0.901     0.756  0.724    0.732  15665.0\n",
      "Aspect#Category             0.933     0.917  0.921    0.919  15665.0\n",
      "Polarity                    0.901     0.804  0.754    0.776  15665.0\n",
      "Epoch : 5 / 25\n"
     ]
    },
    {
     "name": "stderr",
     "output_type": "stream",
     "text": [
      "100%|██████████| 353/353 [02:30<00:00,  2.34it/s]\n"
     ]
    },
    {
     "name": "stdout",
     "output_type": "stream",
     "text": [
      "Len Train Data :  5633\n",
      "Losses Train 0 : 0.07201023177357353\n",
      "Losses Train 1 : 0.13415011024466633\n",
      "Losses Train 2 : 0.07581018582819707\n",
      "Losses Train 3 : 0.06335189156320238\n",
      "Losses Train 4 : 0.05857666275936355\n",
      "                         accuracy precision recall f1-score  support\n",
      "Aspect#Category,Polarity    0.945     0.873  0.819    0.835  28165.0\n",
      "Aspect#Category             0.973     0.975  0.965    0.970  28165.0\n",
      "Polarity                    0.945     0.885  0.850    0.865  28165.0\n"
     ]
    },
    {
     "name": "stderr",
     "output_type": "stream",
     "text": [
      "100%|██████████| 196/196 [00:28<00:00,  6.82it/s]\n"
     ]
    },
    {
     "name": "stdout",
     "output_type": "stream",
     "text": [
      "Len Val Data :  3133\n",
      "Losses Validate 0 : 0.15435836682238216\n",
      "Losses Validate 1 : 0.24968851706565395\n",
      "Losses Validate 2 : 0.11306713365001721\n",
      "Losses Validate 3 : 0.09412572870106503\n",
      "Losses Validate 4 : 0.09875511609200963\n",
      "Param optimizer : \n",
      "Learning rate 2.873556584862671e-05\n",
      "Beta (0.9, 0.999)\n",
      "Weight decay 0\n",
      "                         accuracy precision recall f1-score  support\n",
      "Aspect#Category,Polarity    0.900     0.738  0.719    0.721  15665.0\n",
      "Aspect#Category             0.936     0.918  0.925    0.921  15665.0\n",
      "Polarity                    0.900     0.788  0.765    0.774  15665.0\n",
      "Epoch : 6 / 25\n"
     ]
    },
    {
     "name": "stderr",
     "output_type": "stream",
     "text": [
      "100%|██████████| 353/353 [02:38<00:00,  2.23it/s]\n"
     ]
    },
    {
     "name": "stdout",
     "output_type": "stream",
     "text": [
      "Len Train Data :  5633\n",
      "Losses Train 0 : 0.07139267234639929\n",
      "Losses Train 1 : 0.12758442762423722\n",
      "Losses Train 2 : 0.07544487563983471\n",
      "Losses Train 3 : 0.06119205373341504\n",
      "Losses Train 4 : 0.057406652109694485\n",
      "                         accuracy precision recall f1-score  support\n",
      "Aspect#Category,Polarity    0.946     0.874  0.831    0.847  28165.0\n",
      "Aspect#Category             0.973     0.975  0.965    0.970  28165.0\n",
      "Polarity                    0.946     0.886  0.859    0.871  28165.0\n"
     ]
    },
    {
     "name": "stderr",
     "output_type": "stream",
     "text": [
      "100%|██████████| 196/196 [00:28<00:00,  6.95it/s]\n"
     ]
    },
    {
     "name": "stdout",
     "output_type": "stream",
     "text": [
      "Len Val Data :  3133\n",
      "Losses Validate 0 : 0.16778750159262545\n",
      "Losses Validate 1 : 0.25928428591229913\n",
      "Losses Validate 2 : 0.12247622468022162\n",
      "Losses Validate 3 : 0.08916745639735808\n",
      "Losses Validate 4 : 0.09593499775534806\n",
      "Param optimizer : \n",
      "Learning rate 6.370236142382878e-05\n",
      "Beta (0.9, 0.999)\n",
      "Weight decay 0\n",
      "                         accuracy precision recall f1-score  support\n",
      "Aspect#Category,Polarity    0.901     0.755  0.736    0.736  15665.0\n",
      "Aspect#Category             0.936     0.925  0.917    0.921  15665.0\n",
      "Polarity                    0.901     0.793  0.767    0.777  15665.0\n",
      "Epoch : 7 / 25\n"
     ]
    },
    {
     "name": "stderr",
     "output_type": "stream",
     "text": [
      "100%|██████████| 353/353 [02:35<00:00,  2.28it/s]\n"
     ]
    },
    {
     "name": "stdout",
     "output_type": "stream",
     "text": [
      "Len Train Data :  5633\n",
      "Losses Train 0 : 0.07979897179665794\n",
      "Losses Train 1 : 0.12864604025428425\n",
      "Losses Train 2 : 0.08032233659267299\n",
      "Losses Train 3 : 0.060807220243643684\n",
      "Losses Train 4 : 0.05716608696713575\n",
      "                         accuracy precision recall f1-score  support\n",
      "Aspect#Category,Polarity    0.944     0.866  0.826    0.842  28165.0\n",
      "Aspect#Category             0.973     0.974  0.964    0.969  28165.0\n",
      "Polarity                    0.944     0.882  0.851    0.865  28165.0\n"
     ]
    },
    {
     "name": "stderr",
     "output_type": "stream",
     "text": [
      "100%|██████████| 196/196 [00:28<00:00,  6.96it/s]\n"
     ]
    },
    {
     "name": "stdout",
     "output_type": "stream",
     "text": [
      "Len Val Data :  3133\n",
      "Losses Validate 0 : 0.17356257201991368\n",
      "Losses Validate 1 : 0.2410489097213806\n",
      "Losses Validate 2 : 0.13294142289660893\n",
      "Losses Validate 3 : 0.10737705963404841\n",
      "Losses Validate 4 : 0.11089118609803575\n",
      "Param optimizer : \n",
      "Learning rate 9.316584703615157e-05\n",
      "Beta (0.9, 0.999)\n",
      "Weight decay 0\n",
      "                         accuracy precision recall f1-score  support\n",
      "Aspect#Category,Polarity    0.899     0.746  0.734    0.735  15665.0\n",
      "Aspect#Category             0.935     0.919  0.919    0.919  15665.0\n",
      "Polarity                    0.899     0.782  0.771    0.776  15665.0\n",
      "Epoch : 8 / 25\n"
     ]
    },
    {
     "name": "stderr",
     "output_type": "stream",
     "text": [
      "100%|██████████| 353/353 [02:38<00:00,  2.23it/s]\n"
     ]
    },
    {
     "name": "stdout",
     "output_type": "stream",
     "text": [
      "Len Train Data :  5633\n",
      "Losses Train 0 : 0.07699751216417601\n",
      "Losses Train 1 : 0.12211439565033086\n",
      "Losses Train 2 : 0.08014081057823087\n",
      "Losses Train 3 : 0.06899458702178148\n",
      "Losses Train 4 : 0.06390489218037357\n",
      "                         accuracy precision recall f1-score  support\n",
      "Aspect#Category,Polarity    0.944     0.864  0.828    0.843  28165.0\n",
      "Aspect#Category             0.971     0.971  0.962    0.966  28165.0\n",
      "Polarity                    0.944     0.883  0.857    0.869  28165.0\n"
     ]
    },
    {
     "name": "stderr",
     "output_type": "stream",
     "text": [
      "100%|██████████| 196/196 [00:28<00:00,  6.87it/s]\n"
     ]
    },
    {
     "name": "stdout",
     "output_type": "stream",
     "text": [
      "Len Val Data :  3133\n",
      "Losses Validate 0 : 0.1856233701419039\n",
      "Losses Validate 1 : 0.27463756050787297\n",
      "Losses Validate 2 : 0.1232043534583875\n",
      "Losses Validate 3 : 0.09604063118337405\n",
      "Losses Validate 4 : 0.12264081762025732\n",
      "Param optimizer : \n",
      "Learning rate 9.849352904275862e-05\n",
      "Beta (0.9, 0.999)\n",
      "Weight decay 0\n",
      "                         accuracy precision recall f1-score  support\n",
      "Aspect#Category,Polarity    0.896     0.730  0.734    0.724  15665.0\n",
      "Aspect#Category             0.936     0.916  0.924    0.920  15665.0\n",
      "Polarity                    0.896     0.769  0.778    0.772  15665.0\n",
      "Epoch : 9 / 25\n"
     ]
    },
    {
     "name": "stderr",
     "output_type": "stream",
     "text": [
      "100%|██████████| 353/353 [02:37<00:00,  2.25it/s]\n"
     ]
    },
    {
     "name": "stdout",
     "output_type": "stream",
     "text": [
      "Len Train Data :  5633\n",
      "Losses Train 0 : 0.06968464035347048\n",
      "Losses Train 1 : 0.09348978926625236\n",
      "Losses Train 2 : 0.0674094642227631\n",
      "Losses Train 3 : 0.05638438686741704\n",
      "Losses Train 4 : 0.05380248336179968\n",
      "                         accuracy precision recall f1-score  support\n",
      "Aspect#Category,Polarity    0.954     0.882  0.852    0.865  28165.0\n",
      "Aspect#Category             0.978     0.977  0.968    0.973  28165.0\n",
      "Polarity                    0.954     0.899  0.876    0.887  28165.0\n"
     ]
    },
    {
     "name": "stderr",
     "output_type": "stream",
     "text": [
      "100%|██████████| 196/196 [00:28<00:00,  6.88it/s]\n"
     ]
    },
    {
     "name": "stdout",
     "output_type": "stream",
     "text": [
      "Len Val Data :  3133\n",
      "Losses Validate 0 : 0.19642803651877305\n",
      "Losses Validate 1 : 0.26902226933913986\n",
      "Losses Validate 2 : 0.1379076630766499\n",
      "Losses Validate 3 : 0.10356426921052138\n",
      "Losses Validate 4 : 0.1062555127999214\n",
      "Param optimizer : \n",
      "Learning rate 7.631622015789157e-05\n",
      "Beta (0.9, 0.999)\n",
      "Weight decay 0\n",
      "                         accuracy precision recall f1-score  support\n",
      "Aspect#Category,Polarity    0.901     0.753  0.748    0.734  15665.0\n",
      "Aspect#Category             0.936     0.906  0.937    0.921  15665.0\n",
      "Polarity                    0.901     0.777  0.798    0.787  15665.0\n",
      "Epoch : 10 / 25\n"
     ]
    },
    {
     "name": "stderr",
     "output_type": "stream",
     "text": [
      "100%|██████████| 353/353 [02:38<00:00,  2.22it/s]\n"
     ]
    },
    {
     "name": "stdout",
     "output_type": "stream",
     "text": [
      "Len Train Data :  5633\n",
      "Losses Train 0 : 0.047466959967645814\n",
      "Losses Train 1 : 0.0637057897013647\n",
      "Losses Train 2 : 0.04259475990838889\n",
      "Losses Train 3 : 0.03978976325330187\n",
      "Losses Train 4 : 0.03698038379814672\n",
      "                         accuracy precision recall f1-score  support\n",
      "Aspect#Category,Polarity    0.970     0.918  0.897    0.906  28165.0\n",
      "Aspect#Category             0.988     0.987  0.985    0.986  28165.0\n",
      "Polarity                    0.970     0.931  0.917    0.923  28165.0\n"
     ]
    },
    {
     "name": "stderr",
     "output_type": "stream",
     "text": [
      "100%|██████████| 196/196 [00:28<00:00,  6.81it/s]\n"
     ]
    },
    {
     "name": "stdout",
     "output_type": "stream",
     "text": [
      "Len Val Data :  3133\n",
      "Losses Validate 0 : 0.19354018183027333\n",
      "Losses Validate 1 : 0.2723531822902571\n",
      "Losses Validate 2 : 0.12580201178646452\n",
      "Losses Validate 3 : 0.10204436546420464\n",
      "Losses Validate 4 : 0.11083504644529035\n",
      "Param optimizer : \n",
      "Learning rate 4.065868894592202e-05\n",
      "Beta (0.9, 0.999)\n",
      "Weight decay 0\n",
      "                         accuracy precision recall f1-score  support\n",
      "Aspect#Category,Polarity    0.907     0.761  0.761    0.758  15665.0\n",
      "Aspect#Category             0.940     0.917  0.934    0.926  15665.0\n",
      "Polarity                    0.907     0.801  0.788    0.793  15665.0\n",
      "Epoch : 11 / 25\n"
     ]
    },
    {
     "name": "stderr",
     "output_type": "stream",
     "text": [
      "100%|██████████| 353/353 [02:38<00:00,  2.23it/s]\n"
     ]
    },
    {
     "name": "stdout",
     "output_type": "stream",
     "text": [
      "Len Train Data :  5633\n",
      "Losses Train 0 : 0.03085351857237191\n",
      "Losses Train 1 : 0.0339081023128486\n",
      "Losses Train 2 : 0.02594039152025351\n",
      "Losses Train 3 : 0.02523149528666159\n",
      "Losses Train 4 : 0.02164218631372472\n",
      "                         accuracy precision recall f1-score  support\n",
      "Aspect#Category,Polarity    0.984     0.954  0.934    0.943  28165.0\n",
      "Aspect#Category             0.994     0.995  0.991    0.993  28165.0\n",
      "Polarity                    0.984     0.961  0.949    0.955  28165.0\n"
     ]
    },
    {
     "name": "stderr",
     "output_type": "stream",
     "text": [
      "100%|██████████| 196/196 [00:28<00:00,  6.82it/s]\n"
     ]
    },
    {
     "name": "stdout",
     "output_type": "stream",
     "text": [
      "Len Val Data :  3133\n",
      "Losses Validate 0 : 0.1794201409211754\n",
      "Losses Validate 1 : 0.2883070377574118\n",
      "Losses Validate 2 : 0.13429698885138752\n",
      "Losses Validate 3 : 0.11126840752042637\n",
      "Losses Validate 4 : 0.11287625390706905\n",
      "Param optimizer : \n",
      "Learning rate 1.4070498359726603e-05\n",
      "Beta (0.9, 0.999)\n",
      "Weight decay 0\n",
      "                         accuracy precision recall f1-score  support\n",
      "Aspect#Category,Polarity    0.909     0.763  0.781    0.769  15665.0\n",
      "Aspect#Category             0.943     0.920  0.936    0.928  15665.0\n",
      "Polarity                    0.909     0.794  0.795    0.794  15665.0\n",
      "Epoch : 12 / 25\n"
     ]
    },
    {
     "name": "stderr",
     "output_type": "stream",
     "text": [
      "100%|██████████| 353/353 [02:37<00:00,  2.24it/s]\n"
     ]
    },
    {
     "name": "stdout",
     "output_type": "stream",
     "text": [
      "Len Train Data :  5633\n",
      "Losses Train 0 : 0.018189094346310938\n",
      "Losses Train 1 : 0.01860401430295391\n",
      "Losses Train 2 : 0.015412200209214296\n",
      "Losses Train 3 : 0.01637914972887377\n",
      "Losses Train 4 : 0.01299279594432497\n",
      "                         accuracy precision recall f1-score  support\n",
      "Aspect#Category,Polarity    0.993     0.980  0.970    0.975  28165.0\n",
      "Aspect#Category             0.998     0.998  0.996    0.997  28165.0\n",
      "Polarity                    0.993     0.983  0.977    0.980  28165.0\n"
     ]
    },
    {
     "name": "stderr",
     "output_type": "stream",
     "text": [
      "100%|██████████| 196/196 [00:27<00:00,  7.15it/s]\n"
     ]
    },
    {
     "name": "stdout",
     "output_type": "stream",
     "text": [
      "Len Val Data :  3133\n",
      "Losses Validate 0 : 0.18655368756232954\n",
      "Losses Validate 1 : 0.29183961223469657\n",
      "Losses Validate 2 : 0.13552996447262886\n",
      "Losses Validate 3 : 0.11417445750770917\n",
      "Losses Validate 4 : 0.11527761244808109\n",
      "Param optimizer : \n",
      "Learning rate 1.3365826415792703e-05\n",
      "Beta (0.9, 0.999)\n",
      "Weight decay 0\n",
      "                         accuracy precision recall f1-score  support\n",
      "Aspect#Category,Polarity    0.910     0.760  0.776    0.766  15665.0\n",
      "Aspect#Category             0.943     0.921  0.935    0.928  15665.0\n",
      "Polarity                    0.910     0.794  0.797    0.795  15665.0\n",
      "Epoch : 13 / 25\n"
     ]
    },
    {
     "name": "stderr",
     "output_type": "stream",
     "text": [
      "100%|██████████| 353/353 [02:28<00:00,  2.38it/s]\n"
     ]
    },
    {
     "name": "stdout",
     "output_type": "stream",
     "text": [
      "Len Train Data :  5633\n",
      "Losses Train 0 : 0.015533789385228518\n",
      "Losses Train 1 : 0.016262626257233525\n",
      "Losses Train 2 : 0.013476629899383205\n",
      "Losses Train 3 : 0.013949329847264581\n",
      "Losses Train 4 : 0.011084517890932335\n",
      "                         accuracy precision recall f1-score  support\n",
      "Aspect#Category,Polarity    0.994     0.983  0.979    0.981  28165.0\n",
      "Aspect#Category             0.998     0.998  0.996    0.997  28165.0\n",
      "Polarity                    0.994     0.986  0.983    0.985  28165.0\n"
     ]
    },
    {
     "name": "stderr",
     "output_type": "stream",
     "text": [
      "100%|██████████| 196/196 [00:26<00:00,  7.30it/s]\n"
     ]
    },
    {
     "name": "stdout",
     "output_type": "stream",
     "text": [
      "Len Val Data :  3133\n",
      "Losses Validate 0 : 0.20837576160349483\n",
      "Losses Validate 1 : 0.3275086675178137\n",
      "Losses Validate 2 : 0.14919294359651744\n",
      "Losses Validate 3 : 0.12318499953368012\n",
      "Losses Validate 4 : 0.12078534496161566\n",
      "Param optimizer : \n",
      "Learning rate 3.899030251752321e-05\n",
      "Beta (0.9, 0.999)\n",
      "Weight decay 0\n",
      "                         accuracy precision recall f1-score  support\n",
      "Aspect#Category,Polarity    0.907     0.765  0.790    0.773  15665.0\n",
      "Aspect#Category             0.940     0.909  0.944    0.925  15665.0\n",
      "Polarity                    0.907     0.792  0.801    0.796  15665.0\n",
      "Epoch : 14 / 25\n"
     ]
    },
    {
     "name": "stderr",
     "output_type": "stream",
     "text": [
      "100%|██████████| 353/353 [02:27<00:00,  2.40it/s]\n"
     ]
    },
    {
     "name": "stdout",
     "output_type": "stream",
     "text": [
      "Len Train Data :  5633\n",
      "Losses Train 0 : 0.019028806037501164\n",
      "Losses Train 1 : 0.022209926466207067\n",
      "Losses Train 2 : 0.01547806040471006\n",
      "Losses Train 3 : 0.018569336826808072\n",
      "Losses Train 4 : 0.01792609632099879\n",
      "                         accuracy precision recall f1-score  support\n",
      "Aspect#Category,Polarity    0.991     0.973  0.967    0.970  28165.0\n",
      "Aspect#Category             0.996     0.996  0.995    0.995  28165.0\n",
      "Polarity                    0.991     0.978  0.974    0.976  28165.0\n"
     ]
    },
    {
     "name": "stderr",
     "output_type": "stream",
     "text": [
      "100%|██████████| 196/196 [00:26<00:00,  7.32it/s]\n"
     ]
    },
    {
     "name": "stdout",
     "output_type": "stream",
     "text": [
      "Len Val Data :  3133\n",
      "Losses Validate 0 : 0.2064884784864782\n",
      "Losses Validate 1 : 0.3151874439193348\n",
      "Losses Validate 2 : 0.15901741834147515\n",
      "Losses Validate 3 : 0.12507646980505477\n",
      "Losses Validate 4 : 0.11440536758169517\n",
      "Param optimizer : \n",
      "Learning rate 7.473919466719362e-05\n",
      "Beta (0.9, 0.999)\n",
      "Weight decay 0\n",
      "                         accuracy precision recall f1-score  support\n",
      "Aspect#Category,Polarity    0.908     0.762  0.763    0.759  15665.0\n",
      "Aspect#Category             0.943     0.921  0.937    0.929  15665.0\n",
      "Polarity                    0.908     0.792  0.785    0.788  15665.0\n",
      "Epoch : 15 / 25\n"
     ]
    },
    {
     "name": "stderr",
     "output_type": "stream",
     "text": [
      "100%|██████████| 353/353 [02:27<00:00,  2.40it/s]\n"
     ]
    },
    {
     "name": "stdout",
     "output_type": "stream",
     "text": [
      "Len Train Data :  5633\n",
      "Losses Train 0 : 0.037655776857631405\n",
      "Losses Train 1 : 0.042756909167252846\n",
      "Losses Train 2 : 0.031453436371167175\n",
      "Losses Train 3 : 0.025720724317837243\n",
      "Losses Train 4 : 0.029600413831289127\n",
      "                         accuracy precision recall f1-score  support\n",
      "Aspect#Category,Polarity    0.979     0.946  0.931    0.938  28165.0\n",
      "Aspect#Category             0.990     0.990  0.987    0.988  28165.0\n",
      "Polarity                    0.979     0.956  0.945    0.950  28165.0\n"
     ]
    },
    {
     "name": "stderr",
     "output_type": "stream",
     "text": [
      "100%|██████████| 196/196 [00:26<00:00,  7.34it/s]\n"
     ]
    },
    {
     "name": "stdout",
     "output_type": "stream",
     "text": [
      "Len Val Data :  3133\n",
      "Losses Validate 0 : 0.23429711577546433\n",
      "Losses Validate 1 : 0.3443593685591027\n",
      "Losses Validate 2 : 0.17118151253460887\n",
      "Losses Validate 3 : 0.13093158019486037\n",
      "Losses Validate 4 : 0.14349712800511605\n",
      "Param optimizer : \n",
      "Learning rate 9.800516392054109e-05\n",
      "Beta (0.9, 0.999)\n",
      "Weight decay 0\n",
      "                         accuracy precision recall f1-score  support\n",
      "Aspect#Category,Polarity    0.897     0.728  0.785    0.751  15665.0\n",
      "Aspect#Category             0.936     0.900  0.943    0.920  15665.0\n",
      "Polarity                    0.897     0.762  0.798    0.778  15665.0\n",
      "Epoch : 16 / 25\n"
     ]
    },
    {
     "name": "stderr",
     "output_type": "stream",
     "text": [
      "100%|██████████| 353/353 [02:27<00:00,  2.40it/s]\n"
     ]
    },
    {
     "name": "stdout",
     "output_type": "stream",
     "text": [
      "Len Train Data :  5633\n",
      "Losses Train 0 : 0.04327040439057939\n",
      "Losses Train 1 : 0.05356463274430598\n",
      "Losses Train 2 : 0.036370433851105693\n",
      "Losses Train 3 : 0.038813821183768554\n",
      "Losses Train 4 : 0.036118417311001474\n",
      "                         accuracy precision recall f1-score  support\n",
      "Aspect#Category,Polarity    0.975     0.936  0.921    0.928  28165.0\n",
      "Aspect#Category             0.989     0.988  0.984    0.986  28165.0\n",
      "Polarity                    0.975     0.944  0.936    0.940  28165.0\n"
     ]
    },
    {
     "name": "stderr",
     "output_type": "stream",
     "text": [
      "100%|██████████| 196/196 [00:28<00:00,  6.82it/s]\n"
     ]
    },
    {
     "name": "stdout",
     "output_type": "stream",
     "text": [
      "Len Val Data :  3133\n",
      "Losses Validate 0 : 0.24358876495174125\n",
      "Losses Validate 1 : 0.33371979209121483\n",
      "Losses Validate 2 : 0.16913879503597953\n",
      "Losses Validate 3 : 0.14315515237943913\n",
      "Losses Validate 4 : 0.1211366034916965\n",
      "Param optimizer : \n",
      "Learning rate 9.40749808276832e-05\n",
      "Beta (0.9, 0.999)\n",
      "Weight decay 0\n",
      "                         accuracy precision recall f1-score  support\n",
      "Aspect#Category,Polarity    0.900     0.739  0.787    0.755  15665.0\n",
      "Aspect#Category             0.938     0.907  0.938    0.921  15665.0\n",
      "Polarity                    0.900     0.770  0.798    0.783  15665.0\n",
      "Epoch : 17 / 25\n"
     ]
    },
    {
     "name": "stderr",
     "output_type": "stream",
     "text": [
      "100%|██████████| 353/353 [02:35<00:00,  2.26it/s]\n"
     ]
    },
    {
     "name": "stdout",
     "output_type": "stream",
     "text": [
      "Len Train Data :  5633\n",
      "Losses Train 0 : 0.04377928197968499\n",
      "Losses Train 1 : 0.04204118141589348\n",
      "Losses Train 2 : 0.031177967219364996\n",
      "Losses Train 3 : 0.024091887738659497\n",
      "Losses Train 4 : 0.02797105618399222\n",
      "                         accuracy precision recall f1-score  support\n",
      "Aspect#Category,Polarity    0.979     0.945  0.937    0.941  28165.0\n",
      "Aspect#Category             0.990     0.989  0.986    0.987  28165.0\n",
      "Polarity                    0.979     0.954  0.948    0.951  28165.0\n"
     ]
    },
    {
     "name": "stderr",
     "output_type": "stream",
     "text": [
      "100%|██████████| 196/196 [00:28<00:00,  6.91it/s]\n"
     ]
    },
    {
     "name": "stdout",
     "output_type": "stream",
     "text": [
      "Len Val Data :  3133\n",
      "Losses Validate 0 : 0.23144006172413267\n",
      "Losses Validate 1 : 0.34512906213713995\n",
      "Losses Validate 2 : 0.18982159617504696\n",
      "Losses Validate 3 : 0.13494042397565614\n",
      "Losses Validate 4 : 0.12506098522451828\n",
      "Param optimizer : \n",
      "Learning rate 6.543406454290471e-05\n",
      "Beta (0.9, 0.999)\n",
      "Weight decay 0\n",
      "                         accuracy precision recall f1-score  support\n",
      "Aspect#Category,Polarity    0.901     0.758  0.746    0.746  15665.0\n",
      "Aspect#Category             0.937     0.906  0.936    0.921  15665.0\n",
      "Polarity                    0.901     0.785  0.770    0.775  15665.0\n",
      "Epoch : 18 / 25\n"
     ]
    },
    {
     "name": "stderr",
     "output_type": "stream",
     "text": [
      "100%|██████████| 353/353 [02:36<00:00,  2.25it/s]\n"
     ]
    },
    {
     "name": "stdout",
     "output_type": "stream",
     "text": [
      "Len Train Data :  5633\n",
      "Losses Train 0 : 0.023606625418483778\n",
      "Losses Train 1 : 0.02232555582783435\n",
      "Losses Train 2 : 0.02016481693080808\n",
      "Losses Train 3 : 0.017648743092881496\n",
      "Losses Train 4 : 0.014679484087534047\n",
      "                         accuracy precision recall f1-score  support\n",
      "Aspect#Category,Polarity    0.990     0.975  0.967    0.971  28165.0\n",
      "Aspect#Category             0.995     0.995  0.993    0.994  28165.0\n",
      "Polarity                    0.990     0.979  0.974    0.976  28165.0\n"
     ]
    },
    {
     "name": "stderr",
     "output_type": "stream",
     "text": [
      "100%|██████████| 196/196 [00:28<00:00,  6.91it/s]\n"
     ]
    },
    {
     "name": "stdout",
     "output_type": "stream",
     "text": [
      "Len Val Data :  3133\n",
      "Losses Validate 0 : 0.22430847832226178\n",
      "Losses Validate 1 : 0.3883351125738661\n",
      "Losses Validate 2 : 0.15430795511202883\n",
      "Losses Validate 3 : 0.1392329056737448\n",
      "Losses Validate 4 : 0.12135025576717778\n",
      "Param optimizer : \n",
      "Learning rate 3.019472185919221e-05\n",
      "Beta (0.9, 0.999)\n",
      "Weight decay 0\n",
      "                         accuracy precision recall f1-score  support\n",
      "Aspect#Category,Polarity    0.907     0.761  0.767    0.762  15665.0\n",
      "Aspect#Category             0.941     0.914  0.940    0.927  15665.0\n",
      "Polarity                    0.907     0.791  0.797    0.794  15665.0\n",
      "Epoch : 19 / 25\n"
     ]
    },
    {
     "name": "stderr",
     "output_type": "stream",
     "text": [
      "100%|██████████| 353/353 [02:32<00:00,  2.31it/s]\n"
     ]
    },
    {
     "name": "stdout",
     "output_type": "stream",
     "text": [
      "Len Train Data :  5633\n",
      "Losses Train 0 : 0.00835684364995217\n",
      "Losses Train 1 : 0.009921672173835086\n",
      "Losses Train 2 : 0.00894066686141021\n",
      "Losses Train 3 : 0.008062518968088322\n",
      "Losses Train 4 : 0.011253710800790774\n",
      "                         accuracy precision recall f1-score  support\n",
      "Aspect#Category,Polarity    0.996     0.991  0.986    0.989  28165.0\n",
      "Aspect#Category             0.998     0.998  0.997    0.998  28165.0\n",
      "Polarity                    0.996     0.992  0.990    0.991  28165.0\n"
     ]
    },
    {
     "name": "stderr",
     "output_type": "stream",
     "text": [
      "100%|██████████| 196/196 [00:26<00:00,  7.30it/s]\n"
     ]
    },
    {
     "name": "stdout",
     "output_type": "stream",
     "text": [
      "Len Val Data :  3133\n",
      "Losses Validate 0 : 0.2352354079253075\n",
      "Losses Validate 1 : 0.3647570690973057\n",
      "Losses Validate 2 : 0.15664369779577414\n",
      "Losses Validate 3 : 0.136602449328649\n",
      "Losses Validate 4 : 0.12250577336301485\n",
      "Param optimizer : \n",
      "Learning rate 1.0642056350896552e-05\n",
      "Beta (0.9, 0.999)\n",
      "Weight decay 0\n",
      "                         accuracy precision recall f1-score  support\n",
      "Aspect#Category,Polarity    0.910     0.770  0.784    0.775  15665.0\n",
      "Aspect#Category             0.943     0.919  0.936    0.927  15665.0\n",
      "Polarity                    0.910     0.802  0.801    0.801  15665.0\n",
      "Epoch : 20 / 25\n"
     ]
    },
    {
     "name": "stderr",
     "output_type": "stream",
     "text": [
      "100%|██████████| 353/353 [02:27<00:00,  2.39it/s]\n"
     ]
    },
    {
     "name": "stdout",
     "output_type": "stream",
     "text": [
      "Len Train Data :  5633\n",
      "Losses Train 0 : 0.005160184287112792\n",
      "Losses Train 1 : 0.00659745515613674\n",
      "Losses Train 2 : 0.005890137116682163\n",
      "Losses Train 3 : 0.005035513498784487\n",
      "Losses Train 4 : 0.006115236192460215\n",
      "                         accuracy precision recall f1-score  support\n",
      "Aspect#Category,Polarity    0.998     0.997  0.993    0.995  28165.0\n",
      "Aspect#Category             0.999     0.999  0.998    0.999  28165.0\n",
      "Polarity                    0.998     0.997  0.995    0.996  28165.0\n"
     ]
    },
    {
     "name": "stderr",
     "output_type": "stream",
     "text": [
      "100%|██████████| 196/196 [00:26<00:00,  7.31it/s]\n"
     ]
    },
    {
     "name": "stdout",
     "output_type": "stream",
     "text": [
      "Len Val Data :  3133\n",
      "Losses Validate 0 : 0.24009138146671594\n",
      "Losses Validate 1 : 0.3800446529136397\n",
      "Losses Validate 2 : 0.16230620533059076\n",
      "Losses Validate 3 : 0.12984522927922257\n",
      "Losses Validate 4 : 0.1254008335810175\n",
      "Param optimizer : \n",
      "Learning rate 1.9141031233078578e-05\n",
      "Beta (0.9, 0.999)\n",
      "Weight decay 0\n",
      "                         accuracy precision recall f1-score  support\n",
      "Aspect#Category,Polarity    0.911     0.767  0.788    0.776  15665.0\n",
      "Aspect#Category             0.943     0.920  0.938    0.929  15665.0\n",
      "Polarity                    0.911     0.799  0.813    0.806  15665.0\n",
      "Epoch : 21 / 25\n"
     ]
    },
    {
     "name": "stderr",
     "output_type": "stream",
     "text": [
      "100%|██████████| 353/353 [02:31<00:00,  2.33it/s]\n"
     ]
    },
    {
     "name": "stdout",
     "output_type": "stream",
     "text": [
      "Len Train Data :  5633\n",
      "Losses Train 0 : 0.006665319680821064\n",
      "Losses Train 1 : 0.007151150652375248\n",
      "Losses Train 2 : 0.006602707835297569\n",
      "Losses Train 3 : 0.005313268274904757\n",
      "Losses Train 4 : 0.004919403887519336\n",
      "                         accuracy precision recall f1-score  support\n",
      "Aspect#Category,Polarity    0.998     0.995  0.993    0.994  28165.0\n",
      "Aspect#Category             0.999     0.999  0.999    0.999  28165.0\n",
      "Polarity                    0.998     0.995  0.995    0.995  28165.0\n"
     ]
    },
    {
     "name": "stderr",
     "output_type": "stream",
     "text": [
      "100%|██████████| 196/196 [00:27<00:00,  7.11it/s]\n"
     ]
    },
    {
     "name": "stdout",
     "output_type": "stream",
     "text": [
      "Len Val Data :  3133\n",
      "Losses Validate 0 : 0.26252084840303114\n",
      "Losses Validate 1 : 0.3779152347142946\n",
      "Losses Validate 2 : 0.172060328758385\n",
      "Losses Validate 3 : 0.15198931602676133\n",
      "Losses Validate 4 : 0.1313230366773958\n",
      "Param optimizer : \n",
      "Learning rate 5.031695671015555e-05\n",
      "Beta (0.9, 0.999)\n",
      "Weight decay 0\n",
      "                         accuracy precision recall f1-score  support\n",
      "Aspect#Category,Polarity    0.907     0.757  0.793    0.771  15665.0\n",
      "Aspect#Category             0.941     0.913  0.940    0.926  15665.0\n",
      "Polarity                    0.907     0.788  0.801    0.794  15665.0\n",
      "Epoch : 22 / 25\n"
     ]
    },
    {
     "name": "stderr",
     "output_type": "stream",
     "text": [
      "100%|██████████| 353/353 [02:31<00:00,  2.32it/s]\n"
     ]
    },
    {
     "name": "stdout",
     "output_type": "stream",
     "text": [
      "Len Train Data :  5633\n",
      "Losses Train 0 : 0.01411334257695236\n",
      "Losses Train 1 : 0.021010421126711892\n",
      "Losses Train 2 : 0.009462489283412362\n",
      "Losses Train 3 : 0.011218576427676761\n",
      "Losses Train 4 : 0.012518044783355668\n",
      "                         accuracy precision recall f1-score  support\n",
      "Aspect#Category,Polarity    0.994     0.983  0.980    0.982  28165.0\n",
      "Aspect#Category             0.997     0.996  0.996    0.996  28165.0\n",
      "Polarity                    0.994     0.986  0.985    0.985  28165.0\n"
     ]
    },
    {
     "name": "stderr",
     "output_type": "stream",
     "text": [
      "100%|██████████| 196/196 [00:28<00:00,  6.89it/s]\n"
     ]
    },
    {
     "name": "stdout",
     "output_type": "stream",
     "text": [
      "Len Val Data :  3133\n",
      "Losses Validate 0 : 0.26066407187346297\n",
      "Losses Validate 1 : 0.41092067827793727\n",
      "Losses Validate 2 : 0.21117430639729984\n",
      "Losses Validate 3 : 0.15953141939997237\n",
      "Losses Validate 4 : 0.1580417947929877\n",
      "Param optimizer : \n",
      "Learning rate 8.445440464492758e-05\n",
      "Beta (0.9, 0.999)\n",
      "Weight decay 0\n",
      "                         accuracy precision recall f1-score  support\n",
      "Aspect#Category,Polarity    0.902     0.753  0.751    0.746  15665.0\n",
      "Aspect#Category             0.939     0.920  0.926    0.923  15665.0\n",
      "Polarity                    0.902     0.785  0.758    0.769  15665.0\n",
      "Epoch : 23 / 25\n"
     ]
    },
    {
     "name": "stderr",
     "output_type": "stream",
     "text": [
      "100%|██████████| 353/353 [02:34<00:00,  2.28it/s]\n"
     ]
    },
    {
     "name": "stdout",
     "output_type": "stream",
     "text": [
      "Len Train Data :  5633\n",
      "Losses Train 0 : 0.030168314729419585\n",
      "Losses Train 1 : 0.04370395225563185\n",
      "Losses Train 2 : 0.0296178073389993\n",
      "Losses Train 3 : 0.03350895528294531\n",
      "Losses Train 4 : 0.02666001761794757\n",
      "                         accuracy precision recall f1-score  support\n",
      "Aspect#Category,Polarity    0.981     0.953  0.943    0.948  28165.0\n",
      "Aspect#Category             0.990     0.989  0.986    0.988  28165.0\n",
      "Polarity                    0.981     0.960  0.953    0.956  28165.0\n"
     ]
    },
    {
     "name": "stderr",
     "output_type": "stream",
     "text": [
      "100%|██████████| 196/196 [00:28<00:00,  6.89it/s]\n"
     ]
    },
    {
     "name": "stdout",
     "output_type": "stream",
     "text": [
      "Len Val Data :  3133\n",
      "Losses Validate 0 : 0.25500359357073976\n",
      "Losses Validate 1 : 0.3750372663784761\n",
      "Losses Validate 2 : 0.16339556193422136\n",
      "Losses Validate 3 : 0.15890951289599442\n",
      "Losses Validate 4 : 0.17850394668982048\n",
      "Param optimizer : \n",
      "Learning rate 9.9965101674338e-05\n",
      "Beta (0.9, 0.999)\n",
      "Weight decay 0\n",
      "                         accuracy precision recall f1-score  support\n",
      "Aspect#Category,Polarity    0.901     0.750  0.747    0.741  15665.0\n",
      "Aspect#Category             0.934     0.904  0.933    0.918  15665.0\n",
      "Polarity                    0.901     0.795  0.779    0.785  15665.0\n",
      "Epoch : 24 / 25\n"
     ]
    },
    {
     "name": "stderr",
     "output_type": "stream",
     "text": [
      "100%|██████████| 353/353 [02:39<00:00,  2.21it/s]\n"
     ]
    },
    {
     "name": "stdout",
     "output_type": "stream",
     "text": [
      "Len Train Data :  5633\n",
      "Losses Train 0 : 0.032946260930854905\n",
      "Losses Train 1 : 0.046976807763174734\n",
      "Losses Train 2 : 0.039353880632821504\n",
      "Losses Train 3 : 0.02478700228261626\n",
      "Losses Train 4 : 0.027403786823420675\n",
      "                         accuracy precision recall f1-score  support\n",
      "Aspect#Category,Polarity    0.980     0.957  0.948    0.952  28165.0\n",
      "Aspect#Category             0.989     0.988  0.986    0.987  28165.0\n",
      "Polarity                    0.980     0.960  0.954    0.957  28165.0\n"
     ]
    },
    {
     "name": "stderr",
     "output_type": "stream",
     "text": [
      "100%|██████████| 196/196 [00:29<00:00,  6.72it/s]\n"
     ]
    },
    {
     "name": "stdout",
     "output_type": "stream",
     "text": [
      "Len Val Data :  3133\n",
      "Losses Validate 0 : 0.25817001515632615\n",
      "Losses Validate 1 : 0.4264805998886227\n",
      "Losses Validate 2 : 0.1806193066203828\n",
      "Losses Validate 3 : 0.16159195237889043\n",
      "Losses Validate 4 : 0.14447952915004436\n",
      "Param optimizer : \n",
      "Learning rate 8.704019600131467e-05\n",
      "Beta (0.9, 0.999)\n",
      "Weight decay 0\n",
      "                         accuracy precision recall f1-score  support\n",
      "Aspect#Category,Polarity    0.904     0.769  0.727    0.742  15665.0\n",
      "Aspect#Category             0.939     0.921  0.922    0.921  15665.0\n",
      "Polarity                    0.904     0.809  0.755    0.777  15665.0\n",
      "Epoch : 25 / 25\n"
     ]
    },
    {
     "name": "stderr",
     "output_type": "stream",
     "text": [
      "100%|██████████| 353/353 [02:38<00:00,  2.23it/s]\n"
     ]
    },
    {
     "name": "stdout",
     "output_type": "stream",
     "text": [
      "Len Train Data :  5633\n",
      "Losses Train 0 : 0.02835037551814326\n",
      "Losses Train 1 : 0.03655190389459867\n",
      "Losses Train 2 : 0.028349165044316237\n",
      "Losses Train 3 : 0.016942430588175534\n",
      "Losses Train 4 : 0.021392494103129437\n",
      "                         accuracy precision recall f1-score  support\n",
      "Aspect#Category,Polarity    0.986     0.969  0.961    0.965  28165.0\n",
      "Aspect#Category             0.993     0.991  0.991    0.991  28165.0\n",
      "Polarity                    0.986     0.970  0.965    0.968  28165.0\n"
     ]
    },
    {
     "name": "stderr",
     "output_type": "stream",
     "text": [
      "100%|██████████| 196/196 [00:28<00:00,  6.79it/s]\n"
     ]
    },
    {
     "name": "stdout",
     "output_type": "stream",
     "text": [
      "Len Val Data :  3133\n",
      "Losses Validate 0 : 0.23535627850646168\n",
      "Losses Validate 1 : 0.40991029766335624\n",
      "Losses Validate 2 : 0.18929750069843868\n",
      "Losses Validate 3 : 0.15845237899585926\n",
      "Losses Validate 4 : 0.1488293004173166\n",
      "Param optimizer : \n",
      "Learning rate 5.385330380812465e-05\n",
      "Beta (0.9, 0.999)\n",
      "Weight decay 0\n",
      "                         accuracy precision recall f1-score  support\n",
      "Aspect#Category,Polarity    0.905     0.759  0.761    0.758  15665.0\n",
      "Aspect#Category             0.940     0.923  0.927    0.925  15665.0\n",
      "Polarity                    0.905     0.790  0.779    0.784  15665.0\n"
     ]
    }
   ],
   "source": [
    "model.train()"
   ]
  }
 ],
 "metadata": {
  "kernelspec": {
   "display_name": "vlsp2018",
   "language": "python",
   "name": "python3"
  },
  "language_info": {
   "codemirror_mode": {
    "name": "ipython",
    "version": 3
   },
   "file_extension": ".py",
   "mimetype": "text/x-python",
   "name": "python",
   "nbconvert_exporter": "python",
   "pygments_lexer": "ipython3",
   "version": "3.11.5"
  }
 },
 "nbformat": 4,
 "nbformat_minor": 2
}
