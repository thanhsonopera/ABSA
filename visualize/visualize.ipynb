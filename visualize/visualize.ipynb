{
 "cells": [
  {
   "cell_type": "code",
   "execution_count": 22,
   "metadata": {},
   "outputs": [],
   "source": [
    "from pandas_profiling import ProfileReport"
   ]
  },
  {
   "cell_type": "code",
   "execution_count": 23,
   "metadata": {},
   "outputs": [],
   "source": [
    "import pandas as pd\n",
    "import webbrowser\n",
    "import os"
   ]
  },
  {
   "cell_type": "markdown",
   "metadata": {},
   "source": [
    "### Train _ dev _"
   ]
  },
  {
   "cell_type": "code",
   "execution_count": 17,
   "metadata": {},
   "outputs": [],
   "source": [
    "\n",
    "data = pd.read_csv('../relabel/train_dev.csv')\n",
    "\n",
    "data_test = pd.read_csv('../relabel/test_merge.csv')"
   ]
  },
  {
   "cell_type": "code",
   "execution_count": 18,
   "metadata": {},
   "outputs": [
    {
     "name": "stderr",
     "output_type": "stream",
     "text": [
      "Summarize dataset: 100%|██████████| 15/15 [00:01<00:00, 14.03it/s, Completed]                \n",
      "Generate report structure: 100%|██████████| 1/1 [00:02<00:00,  2.68s/it]\n",
      "Render HTML: 100%|██████████| 1/1 [00:00<00:00,  5.29it/s]\n",
      "Export report to file: 100%|██████████| 1/1 [00:00<00:00, 200.02it/s]\n",
      "Summarize dataset: 100%|██████████| 15/15 [00:00<00:00, 28.85it/s, Completed]                \n",
      "Generate report structure: 100%|██████████| 1/1 [00:02<00:00,  2.52s/it]\n",
      "Render HTML: 100%|██████████| 1/1 [00:00<00:00,  6.02it/s]\n",
      "Export report to file: 100%|██████████| 1/1 [00:00<00:00, 329.82it/s]\n"
     ]
    }
   ],
   "source": [
    "profile = ProfileReport(\n",
    "            data, title=\"Profiling Report For Train\", explorative=True)\n",
    "profile.to_file(\"ProflingTrain.html\")\n",
    "profile = ProfileReport(\n",
    "            data_test, title=\"Profiling Report For Test\", explorative=True)\n",
    "profile.to_file(\"ProflingTest.html\")"
   ]
  },
  {
   "cell_type": "code",
   "execution_count": 19,
   "metadata": {},
   "outputs": [
    {
     "data": {
      "text/plain": [
       "True"
      ]
     },
     "execution_count": 19,
     "metadata": {},
     "output_type": "execute_result"
    }
   ],
   "source": [
    "\n",
    "file_path = os.path.abspath(\"ProflingTrain.html\")\n",
    "\n",
    "webbrowser.open(f\"file://{file_path}\")"
   ]
  },
  {
   "cell_type": "code",
   "execution_count": 20,
   "metadata": {},
   "outputs": [
    {
     "data": {
      "text/plain": [
       "True"
      ]
     },
     "execution_count": 20,
     "metadata": {},
     "output_type": "execute_result"
    }
   ],
   "source": [
    "file_path = os.path.abspath(\"ProflingTest.html\")\n",
    "\n",
    "webbrowser.open(f\"file://{file_path}\")"
   ]
  },
  {
   "cell_type": "markdown",
   "metadata": {},
   "source": [
    "### Data gốc"
   ]
  },
  {
   "cell_type": "code",
   "execution_count": 59,
   "metadata": {},
   "outputs": [],
   "source": [
    "data = pd.read_csv('../semeval/restaurant/turkish/reviews_aspects.csv')"
   ]
  },
  {
   "cell_type": "code",
   "execution_count": 61,
   "metadata": {},
   "outputs": [
    {
     "name": "stderr",
     "output_type": "stream",
     "text": [
      "c:\\Users\\thanh\\anaconda3\\envs\\vlsp2\\Lib\\site-packages\\ydata_profiling\\utils\\dataframe.py:137: SettingWithCopyWarning: \n",
      "A value is trying to be set on a copy of a slice from a DataFrame\n",
      "\n",
      "See the caveats in the documentation: https://pandas.pydata.org/pandas-docs/stable/user_guide/indexing.html#returning-a-view-versus-a-copy\n",
      "  df.rename(columns={\"index\": \"df_index\"}, inplace=True)\n",
      "Summarize dataset: 100%|██████████| 22/22 [00:00<00:00, 34.54it/s, Completed]                                \n",
      "Generate report structure: 100%|██████████| 1/1 [00:03<00:00,  3.82s/it]\n",
      "Render HTML: 100%|██████████| 1/1 [00:00<00:00,  3.37it/s]\n",
      "Export report to file: 100%|██████████| 1/1 [00:00<00:00, 333.49it/s]\n"
     ]
    }
   ],
   "source": [
    "profile = ProfileReport(\n",
    "            data[data['DRINKS#PRICES'] > 0], title=\"Profiling Report Restaurant-train\", explorative=True)\n",
    "profile.to_file(\"ProflingRestaurant-train.html\")"
   ]
  },
  {
   "cell_type": "code",
   "execution_count": 62,
   "metadata": {},
   "outputs": [
    {
     "data": {
      "text/plain": [
       "True"
      ]
     },
     "execution_count": 62,
     "metadata": {},
     "output_type": "execute_result"
    }
   ],
   "source": [
    "file_path = os.path.abspath(\"ProflingRestaurant-train.html\")\n",
    "\n",
    "webbrowser.open(f\"file://{file_path}\")"
   ]
  },
  {
   "cell_type": "code",
   "execution_count": 53,
   "metadata": {},
   "outputs": [],
   "source": [
    "# dutch , russian, spanish"
   ]
  }
 ],
 "metadata": {
  "kernelspec": {
   "display_name": "vlsp2",
   "language": "python",
   "name": "python3"
  },
  "language_info": {
   "codemirror_mode": {
    "name": "ipython",
    "version": 3
   },
   "file_extension": ".py",
   "mimetype": "text/x-python",
   "name": "python",
   "nbconvert_exporter": "python",
   "pygments_lexer": "ipython3",
   "version": "3.11.5"
  }
 },
 "nbformat": 4,
 "nbformat_minor": 2
}
