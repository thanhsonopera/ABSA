{
 "cells": [
  {
   "cell_type": "code",
   "execution_count": 73,
   "metadata": {},
   "outputs": [],
   "source": [
    "import pandas as pd\n",
    "import numpy as np"
   ]
  },
  {
   "cell_type": "code",
   "execution_count": 97,
   "metadata": {},
   "outputs": [],
   "source": [
    "data = pd.read_csv('enData/restaurant/ABSA16_Restaurants_Train_SB1_v2.csv', encoding='ISO-8859-1')"
   ]
  },
  {
   "cell_type": "code",
   "execution_count": 84,
   "metadata": {},
   "outputs": [],
   "source": [
    "def split(data):\n",
    "    if isinstance(data, float):\n",
    "        return np.nan\n",
    "    return data.split('~')[:-1]"
   ]
  },
  {
   "cell_type": "code",
   "execution_count": 85,
   "metadata": {},
   "outputs": [],
   "source": [
    "label = ['AMBIENCE#GENERAL','DRINKS#PRICES','DRINKS#QUALITY','DRINKS#STYLE&OPTIONS','FOOD#PRICES','FOOD#QUALITY','FOOD#STYLE&OPTIONS','LOCATION#GENERAL','RESTAURANT#GENERAL','RESTAURANT#MISCELLANEOUS','RESTAURANT#PRICES','SERVICE#GENERAL']\n",
    "def get_label(data):\n",
    "    target = []\n",
    "    for l in label:\n",
    "        if l == 'DRINKS#STYLE&OPTIONS':\n",
    "            l = 'DRINKS#STYLE_OPTIONS'\n",
    "        if l == 'FOOD#STYLE&OPTIONS':\n",
    "            l = 'FOOD#STYLE_OPTIONS'\n",
    "        if l in data:\n",
    "            target.append(1)\n",
    "        else:\n",
    "            target.append(0)\n",
    "    return target"
   ]
  },
  {
   "cell_type": "code",
   "execution_count": 77,
   "metadata": {},
   "outputs": [
    {
     "data": {
      "text/plain": [
       "Index(['text', 'target', 'category', 'polarity', 'from', 'to'], dtype='object')"
      ]
     },
     "execution_count": 77,
     "metadata": {},
     "output_type": "execute_result"
    }
   ],
   "source": [
    "data.columns"
   ]
  },
  {
   "cell_type": "code",
   "execution_count": 98,
   "metadata": {},
   "outputs": [
    {
     "name": "stderr",
     "output_type": "stream",
     "text": [
      "C:\\Users\\thanh\\AppData\\Local\\Temp\\ipykernel_21680\\151462918.py:2: SettingWithCopyWarning: \n",
      "A value is trying to be set on a copy of a slice from a DataFrame.\n",
      "Try using .loc[row_indexer,col_indexer] = value instead\n",
      "\n",
      "See the caveats in the documentation: https://pandas.pydata.org/pandas-docs/stable/user_guide/indexing.html#returning-a-view-versus-a-copy\n",
      "  cateData['category'] = cateData['category'].apply(split)\n",
      "C:\\Users\\thanh\\AppData\\Local\\Temp\\ipykernel_21680\\151462918.py:3: SettingWithCopyWarning: \n",
      "A value is trying to be set on a copy of a slice from a DataFrame\n",
      "\n",
      "See the caveats in the documentation: https://pandas.pydata.org/pandas-docs/stable/user_guide/indexing.html#returning-a-view-versus-a-copy\n",
      "  cateData.dropna(inplace=True)\n"
     ]
    }
   ],
   "source": [
    "cateData = data[['text', 'category']]\n",
    "cateData['category'] = cateData['category'].apply(split)\n",
    "cateData.dropna(inplace=True)\n",
    "cateData = cateData.reset_index(drop=True)"
   ]
  },
  {
   "cell_type": "code",
   "execution_count": 99,
   "metadata": {},
   "outputs": [],
   "source": [
    "cateData['target'] = cateData['category'].apply(get_label)"
   ]
  },
  {
   "cell_type": "code",
   "execution_count": 100,
   "metadata": {},
   "outputs": [],
   "source": [
    "target = pd.DataFrame(cateData['target'].tolist(), columns=label)"
   ]
  },
  {
   "cell_type": "code",
   "execution_count": 101,
   "metadata": {},
   "outputs": [],
   "source": [
    "cateData = pd.concat([cateData, target], axis=1)"
   ]
  },
  {
   "cell_type": "code",
   "execution_count": 102,
   "metadata": {},
   "outputs": [],
   "source": [
    "cateData['Review'] = cateData['text']"
   ]
  },
  {
   "cell_type": "code",
   "execution_count": 103,
   "metadata": {},
   "outputs": [],
   "source": [
    "columns = ['Review', 'AMBIENCE#GENERAL', 'DRINKS#PRICES', 'DRINKS#QUALITY',\n",
    "       'DRINKS#STYLE&OPTIONS', 'FOOD#PRICES', 'FOOD#QUALITY',\n",
    "       'FOOD#STYLE&OPTIONS', 'LOCATION#GENERAL', 'RESTAURANT#GENERAL',\n",
    "       'RESTAURANT#MISCELLANEOUS', 'RESTAURANT#PRICES', 'SERVICE#GENERAL',\n",
    "       ]\n",
    "lastData = cateData[columns]"
   ]
  },
  {
   "cell_type": "code",
   "execution_count": 104,
   "metadata": {},
   "outputs": [],
   "source": [
    "lastData.to_csv('enData/restaurant/ABSA16_Restaurants_Train_SB1_v2_Aspect.csv', index=False)"
   ]
  },
  {
   "cell_type": "markdown",
   "metadata": {},
   "source": [
    "### Other"
   ]
  },
  {
   "cell_type": "code",
   "execution_count": null,
   "metadata": {},
   "outputs": [],
   "source": [
    "dict = set()\n",
    "for cate in cateData['category']:\n",
    "\n",
    "    for item in cate:\n",
    "        # print(item)\n",
    "        dict.add(item)\n",
    "    # dict.update(i)\n",
    "print(dict, '\\n', len(dict))"
   ]
  }
 ],
 "metadata": {
  "kernelspec": {
   "display_name": "vlsp2018",
   "language": "python",
   "name": "python3"
  },
  "language_info": {
   "codemirror_mode": {
    "name": "ipython",
    "version": 3
   },
   "file_extension": ".py",
   "mimetype": "text/x-python",
   "name": "python",
   "nbconvert_exporter": "python",
   "pygments_lexer": "ipython3",
   "version": "3.11.5"
  }
 },
 "nbformat": 4,
 "nbformat_minor": 2
}
