{
 "cells": [
  {
   "cell_type": "code",
   "execution_count": 1,
   "metadata": {},
   "outputs": [],
   "source": [
    "# config = {\n",
    "#     'name_model' : 'vinai/phobert-base',\n",
    "#     'max_length' : 256,\n",
    "#     'device' : 'cuda',\n",
    "#     'batch_size' : 16,\n",
    "#     'drop_rate' : 0.2,\n",
    "#     'num_classes' : 5,\n",
    "#     'num_epochs' : 25,\n",
    "#     'weights' : [0.2, 0.3, 0.2, 0.15, 0.15],\n",
    "#     'type' : 'Hotel',\n",
    "# }\n",
    "# Restaurant Classification\n",
    "config = {\n",
    "    'name_model' : 'vinai/phobert-base',\n",
    "    'max_length' : 256,\n",
    "    'device' : 'cuda',\n",
    "    'batch_size' : 8,\n",
    "    'drop_rate' : 0.2,\n",
    "    'num_classes' : 5,\n",
    "    'num_epochs' : 10,\n",
    "    'weights' : [0.35, 0.35, 0.1, 0.1, 0.1],\n",
    "    'type' : 'Restaurant',\n",
    "    'seed' : 42,\n",
    "    'isKaggle' : False\n",
    "}"
   ]
  },
  {
   "cell_type": "code",
   "execution_count": 2,
   "metadata": {},
   "outputs": [
    {
     "name": "stderr",
     "output_type": "stream",
     "text": [
      "c:\\Users\\thanh\\anaconda3\\envs\\vlsp2018\\Lib\\site-packages\\tqdm\\auto.py:21: TqdmWarning: IProgress not found. Please update jupyter and ipywidgets. See https://ipywidgets.readthedocs.io/en/stable/user_install.html\n",
      "  from .autonotebook import tqdm as notebook_tqdm\n"
     ]
    }
   ],
   "source": [
    "from train import Instructor, InstructorVer2"
   ]
  },
  {
   "cell_type": "code",
   "execution_count": 3,
   "metadata": {},
   "outputs": [],
   "source": [
    "ins = Instructor(config)"
   ]
  },
  {
   "cell_type": "code",
   "execution_count": 4,
   "metadata": {},
   "outputs": [
    {
     "name": "stdout",
     "output_type": "stream",
     "text": [
      "Epoch : 1 / 10\n"
     ]
    },
    {
     "name": "stderr",
     "output_type": "stream",
     "text": [
      "100%|██████████| 711/711 [02:48<00:00,  4.22it/s]\n"
     ]
    },
    {
     "name": "stdout",
     "output_type": "stream",
     "text": [
      "Len Train Data :  5685\n",
      "Losses Train 0 : 0.4264590172255993\n",
      "Losses Train 1 : 0.4046319681820161\n",
      "Losses Train 2 : 0.5242029457209713\n",
      "Losses Train 3 : 0.49901007274419673\n",
      "Losses Train 4 : 0.5057749364705283\n",
      "Best Loss :  [999, 999, 999, 999, 999]\n"
     ]
    },
    {
     "name": "stderr",
     "output_type": "stream",
     "text": [
      "100%|██████████| 69/69 [00:09<00:00,  7.14it/s]\n"
     ]
    },
    {
     "name": "stdout",
     "output_type": "stream",
     "text": [
      "Len Val Data :  1100\n",
      "Losses Validate 0 : 0.22151160651987248\n",
      "Losses Validate 1 : 0.1697851477427916\n",
      "Losses Validate 2 : 0.1565001078085466\n",
      "Losses Validate 3 : 0.2809492022340948\n",
      "Losses Validate 4 : 0.18572450334375554\n",
      "Param optimizer : \n",
      "Learning rate 1e-05\n",
      "Beta (0.9, 0.999)\n",
      "Eps 1e-08\n",
      "Weight decay 0.01\n",
      "Initial lr 1e-05\n",
      "AdamGrad False\n",
      "Epoch : 2 / 10\n"
     ]
    },
    {
     "name": "stderr",
     "output_type": "stream",
     "text": [
      "100%|██████████| 711/711 [02:50<00:00,  4.18it/s]\n"
     ]
    },
    {
     "name": "stdout",
     "output_type": "stream",
     "text": [
      "Len Train Data :  5685\n",
      "Losses Train 0 : 0.21936475305098027\n",
      "Losses Train 1 : 0.2886685051227098\n",
      "Losses Train 2 : 0.2788071358528909\n",
      "Losses Train 3 : 0.3380402426291896\n",
      "Losses Train 4 : 0.31651831864262214\n",
      "Best Loss :  [0.22151160651987248, 0.1697851477427916, 0.1565001078085466, 0.2809492022340948, 0.18572450334375554]\n"
     ]
    },
    {
     "name": "stderr",
     "output_type": "stream",
     "text": [
      "100%|██████████| 69/69 [00:09<00:00,  6.97it/s]\n"
     ]
    },
    {
     "name": "stdout",
     "output_type": "stream",
     "text": [
      "Len Val Data :  1100\n",
      "Losses Validate 0 : 0.1741123709895394\n",
      "Losses Validate 1 : 0.17275648377158426\n",
      "Losses Validate 2 : 0.09988094167275863\n",
      "Losses Validate 3 : 0.1901614335450259\n",
      "Losses Validate 4 : 0.13659012230959805\n",
      "Param optimizer : \n",
      "Learning rate 1e-05\n",
      "Beta (0.9, 0.999)\n",
      "Eps 1e-08\n",
      "Weight decay 0.01\n",
      "Initial lr 1e-05\n",
      "AdamGrad False\n",
      "Epoch : 3 / 10\n"
     ]
    },
    {
     "name": "stderr",
     "output_type": "stream",
     "text": [
      "100%|██████████| 711/711 [02:50<00:00,  4.18it/s]\n"
     ]
    },
    {
     "name": "stdout",
     "output_type": "stream",
     "text": [
      "Len Train Data :  5685\n",
      "Losses Train 0 : 0.1669628568563738\n",
      "Losses Train 1 : 0.21338678727363847\n",
      "Losses Train 2 : 0.22881950052977656\n",
      "Losses Train 3 : 0.26382700928282926\n",
      "Losses Train 4 : 0.2552735698359413\n",
      "Best Loss :  [0.1741123709895394, 0.17275648377158426, 0.09988094167275863, 0.1901614335450259, 0.13659012230959805]\n"
     ]
    },
    {
     "name": "stderr",
     "output_type": "stream",
     "text": [
      "100%|██████████| 69/69 [00:10<00:00,  6.89it/s]\n"
     ]
    },
    {
     "name": "stdout",
     "output_type": "stream",
     "text": [
      "Len Val Data :  1100\n",
      "Losses Validate 0 : 0.17659681699492716\n",
      "Losses Validate 1 : 0.13460074045441367\n",
      "Losses Validate 2 : 0.09570121125741439\n",
      "Losses Validate 3 : 0.13675476242195475\n",
      "Losses Validate 4 : 0.13761758251623674\n",
      "Param optimizer : \n",
      "Learning rate 1e-05\n",
      "Beta (0.9, 0.999)\n",
      "Eps 1e-08\n",
      "Weight decay 0.01\n",
      "Initial lr 1e-05\n",
      "AdamGrad False\n",
      "Epoch : 4 / 10\n"
     ]
    },
    {
     "name": "stderr",
     "output_type": "stream",
     "text": [
      "100%|██████████| 711/711 [02:52<00:00,  4.12it/s]\n"
     ]
    },
    {
     "name": "stdout",
     "output_type": "stream",
     "text": [
      "Len Train Data :  5685\n",
      "Losses Train 0 : 0.12572533105587685\n",
      "Losses Train 1 : 0.16601699985950372\n",
      "Losses Train 2 : 0.212323766301993\n",
      "Losses Train 3 : 0.22750499104866356\n",
      "Losses Train 4 : 0.22931760658584568\n",
      "Best Loss :  [0.17659681699492716, 0.13460074045441367, 0.09570121125741439, 0.13675476242195475, 0.13761758251623674]\n"
     ]
    },
    {
     "name": "stderr",
     "output_type": "stream",
     "text": [
      "100%|██████████| 69/69 [00:09<00:00,  7.13it/s]\n"
     ]
    },
    {
     "name": "stdout",
     "output_type": "stream",
     "text": [
      "Len Val Data :  1100\n",
      "Losses Validate 0 : 0.16517266105521808\n",
      "Losses Validate 1 : 0.1433815422925082\n",
      "Losses Validate 2 : 0.09238166451454162\n",
      "Losses Validate 3 : 0.12756577963178808\n",
      "Losses Validate 4 : 0.13547082575884734\n",
      "Param optimizer : \n",
      "Learning rate 1e-05\n",
      "Beta (0.9, 0.999)\n",
      "Eps 1e-08\n",
      "Weight decay 0.01\n",
      "Initial lr 1e-05\n",
      "AdamGrad False\n",
      "Epoch : 5 / 10\n"
     ]
    },
    {
     "name": "stderr",
     "output_type": "stream",
     "text": [
      "100%|██████████| 711/711 [02:52<00:00,  4.13it/s]\n"
     ]
    },
    {
     "name": "stdout",
     "output_type": "stream",
     "text": [
      "Len Train Data :  5685\n",
      "Losses Train 0 : 0.10567345529034564\n",
      "Losses Train 1 : 0.12401168883213791\n",
      "Losses Train 2 : 0.1960230780465622\n",
      "Losses Train 3 : 0.2099033013287614\n",
      "Losses Train 4 : 0.20656790662042487\n",
      "Best Loss :  [0.16517266105521808, 0.1433815422925082, 0.09238166451454162, 0.12756577963178808, 0.13547082575884734]\n"
     ]
    },
    {
     "name": "stderr",
     "output_type": "stream",
     "text": [
      "100%|██████████| 69/69 [00:09<00:00,  7.09it/s]\n"
     ]
    },
    {
     "name": "stdout",
     "output_type": "stream",
     "text": [
      "Len Val Data :  1100\n",
      "Losses Validate 0 : 0.15187187893824144\n",
      "Losses Validate 1 : 0.1341522469845685\n",
      "Losses Validate 2 : 0.09497867058623921\n",
      "Losses Validate 3 : 0.12093973441557451\n",
      "Losses Validate 4 : 0.11704084737734362\n",
      "Param optimizer : \n",
      "Learning rate 1e-05\n",
      "Beta (0.9, 0.999)\n",
      "Eps 1e-08\n",
      "Weight decay 0.01\n",
      "Initial lr 1e-05\n",
      "AdamGrad False\n",
      "Epoch : 6 / 10\n"
     ]
    },
    {
     "name": "stderr",
     "output_type": "stream",
     "text": [
      "100%|██████████| 711/711 [02:51<00:00,  4.14it/s]\n"
     ]
    },
    {
     "name": "stdout",
     "output_type": "stream",
     "text": [
      "Len Train Data :  5685\n",
      "Losses Train 0 : 0.0873746473456855\n",
      "Losses Train 1 : 0.10007000669325876\n",
      "Losses Train 2 : 0.18605514570821663\n",
      "Losses Train 3 : 0.19196231192208846\n",
      "Losses Train 4 : 0.19195608877779208\n",
      "Best Loss :  [0.15187187893824144, 0.1341522469845685, 0.09497867058623921, 0.12093973441557451, 0.11704084737734362]\n"
     ]
    },
    {
     "name": "stderr",
     "output_type": "stream",
     "text": [
      "100%|██████████| 69/69 [00:09<00:00,  6.98it/s]\n"
     ]
    },
    {
     "name": "stdout",
     "output_type": "stream",
     "text": [
      "Len Val Data :  1100\n",
      "Losses Validate 0 : 0.167850328494202\n",
      "Losses Validate 1 : 0.14238413589921864\n",
      "Losses Validate 2 : 0.09419899680397727\n",
      "Losses Validate 3 : 0.1106384346701882\n",
      "Losses Validate 4 : 0.12244683579965071\n",
      "Param optimizer : \n",
      "Learning rate 1e-05\n",
      "Beta (0.9, 0.999)\n",
      "Eps 1e-08\n",
      "Weight decay 0.01\n",
      "Initial lr 1e-05\n",
      "AdamGrad False\n",
      "Epoch : 7 / 10\n"
     ]
    },
    {
     "name": "stderr",
     "output_type": "stream",
     "text": [
      "100%|██████████| 711/711 [02:51<00:00,  4.16it/s]\n"
     ]
    },
    {
     "name": "stdout",
     "output_type": "stream",
     "text": [
      "Len Train Data :  5685\n",
      "Losses Train 0 : 0.07300927183978266\n",
      "Losses Train 1 : 0.07779473029109817\n",
      "Losses Train 2 : 0.16921406546075196\n",
      "Losses Train 3 : 0.17627229330931826\n",
      "Losses Train 4 : 0.1773593167726052\n",
      "Best Loss :  [0.15187187893824144, 0.1341522469845685, 0.09497867058623921, 0.12093973441557451, 0.11704084737734362]\n"
     ]
    },
    {
     "name": "stderr",
     "output_type": "stream",
     "text": [
      "100%|██████████| 69/69 [00:09<00:00,  7.00it/s]\n"
     ]
    },
    {
     "name": "stdout",
     "output_type": "stream",
     "text": [
      "Len Val Data :  1100\n",
      "Losses Validate 0 : 0.15896471310745586\n",
      "Losses Validate 1 : 0.13832718071612446\n",
      "Losses Validate 2 : 0.09217830061912537\n",
      "Losses Validate 3 : 0.10871660969474099\n",
      "Losses Validate 4 : 0.11615962559526617\n",
      "Param optimizer : \n",
      "Learning rate 1e-05\n",
      "Beta (0.9, 0.999)\n",
      "Eps 1e-08\n",
      "Weight decay 0.01\n",
      "Initial lr 1e-05\n",
      "AdamGrad False\n",
      "Epoch : 8 / 10\n"
     ]
    },
    {
     "name": "stderr",
     "output_type": "stream",
     "text": [
      "100%|██████████| 711/711 [02:52<00:00,  4.11it/s]\n"
     ]
    },
    {
     "name": "stdout",
     "output_type": "stream",
     "text": [
      "Len Train Data :  5685\n",
      "Losses Train 0 : 0.06567956463432983\n",
      "Losses Train 1 : 0.06737124391994459\n",
      "Losses Train 2 : 0.16162914878565068\n",
      "Losses Train 3 : 0.1633849388796086\n",
      "Losses Train 4 : 0.16622210855324643\n",
      "Best Loss :  [0.15896471310745586, 0.13832718071612446, 0.09217830061912537, 0.10871660969474099, 0.11615962559526617]\n"
     ]
    },
    {
     "name": "stderr",
     "output_type": "stream",
     "text": [
      "100%|██████████| 69/69 [00:09<00:00,  7.04it/s]\n"
     ]
    },
    {
     "name": "stdout",
     "output_type": "stream",
     "text": [
      "Len Val Data :  1100\n",
      "Losses Validate 0 : 0.17682836364616047\n",
      "Losses Validate 1 : 0.14180485550652852\n",
      "Losses Validate 2 : 0.09462325150316411\n",
      "Losses Validate 3 : 0.1030163346637379\n",
      "Losses Validate 4 : 0.11019855483011766\n",
      "Param optimizer : \n",
      "Learning rate 1e-05\n",
      "Beta (0.9, 0.999)\n",
      "Eps 1e-08\n",
      "Weight decay 0.01\n",
      "Initial lr 1e-05\n",
      "AdamGrad False\n",
      "Epoch : 9 / 10\n"
     ]
    },
    {
     "name": "stderr",
     "output_type": "stream",
     "text": [
      "100%|██████████| 711/711 [02:50<00:00,  4.17it/s]\n"
     ]
    },
    {
     "name": "stdout",
     "output_type": "stream",
     "text": [
      "Len Train Data :  5685\n",
      "Losses Train 0 : 0.06181497207155538\n",
      "Losses Train 1 : 0.05820984127968157\n",
      "Losses Train 2 : 0.14956317708066608\n",
      "Losses Train 3 : 0.14844142280342082\n",
      "Losses Train 4 : 0.15290203565238544\n",
      "Best Loss :  [0.15896471310745586, 0.13832718071612446, 0.09217830061912537, 0.10871660969474099, 0.11615962559526617]\n"
     ]
    },
    {
     "name": "stderr",
     "output_type": "stream",
     "text": [
      "100%|██████████| 69/69 [00:09<00:00,  7.07it/s]\n"
     ]
    },
    {
     "name": "stdout",
     "output_type": "stream",
     "text": [
      "Len Val Data :  1100\n",
      "Losses Validate 0 : 0.1703016998822039\n",
      "Losses Validate 1 : 0.1600718927654353\n",
      "Losses Validate 2 : 0.08735608285123651\n",
      "Losses Validate 3 : 0.10211238996549087\n",
      "Losses Validate 4 : 0.11803524667566473\n",
      "Param optimizer : \n",
      "Learning rate 1e-05\n",
      "Beta (0.9, 0.999)\n",
      "Eps 1e-08\n",
      "Weight decay 0.01\n",
      "Initial lr 1e-05\n",
      "AdamGrad False\n",
      "Epoch : 10 / 10\n"
     ]
    },
    {
     "name": "stderr",
     "output_type": "stream",
     "text": [
      "100%|██████████| 711/711 [02:50<00:00,  4.18it/s]\n"
     ]
    },
    {
     "name": "stdout",
     "output_type": "stream",
     "text": [
      "Len Train Data :  5685\n",
      "Losses Train 0 : 0.05934847312059545\n",
      "Losses Train 1 : 0.055291070372993315\n",
      "Losses Train 2 : 0.13746380402314212\n",
      "Losses Train 3 : 0.13674270640157668\n",
      "Losses Train 4 : 0.1406904727613706\n",
      "Best Loss :  [0.15896471310745586, 0.13832718071612446, 0.09217830061912537, 0.10871660969474099, 0.11615962559526617]\n"
     ]
    },
    {
     "name": "stderr",
     "output_type": "stream",
     "text": [
      "100%|██████████| 69/69 [00:09<00:00,  7.11it/s]\n"
     ]
    },
    {
     "name": "stdout",
     "output_type": "stream",
     "text": [
      "Len Val Data :  1100\n",
      "Losses Validate 0 : 0.1584197519855066\n",
      "Losses Validate 1 : 0.15074262992902235\n",
      "Losses Validate 2 : 0.08558547545563092\n",
      "Losses Validate 3 : 0.09913065135478974\n",
      "Losses Validate 4 : 0.10397098682143471\n",
      "Param optimizer : \n",
      "Learning rate 1e-05\n",
      "Beta (0.9, 0.999)\n",
      "Eps 1e-08\n",
      "Weight decay 0.01\n",
      "Initial lr 1e-05\n",
      "AdamGrad False\n"
     ]
    }
   ],
   "source": [
    "ins.train()"
   ]
  },
  {
   "cell_type": "code",
   "execution_count": 6,
   "metadata": {},
   "outputs": [
    {
     "name": "stdout",
     "output_type": "stream",
     "text": [
      "[[0 0 0 0 1]]\n",
      "[[1 0 1 0 1]]\n"
     ]
    }
   ],
   "source": [
    "# key=['AMBIENCE', 'QUALITY', 'PRICES', 'LOCATION', 'SERVICE']\n",
    "str = 'Ở đây cà phê ngon, rẻ, mát mẻ'\n",
    "\n",
    "str2 = 'Đồ ăn ngon, phục vụ như lol'\n",
    "# [1,1,1,0,0]\n",
    "# [0,1,0,0,1]\n",
    "ins.prediction(str, True)\n",
    "ins.prediction(str2, True)"
   ]
  }
 ],
 "metadata": {
  "kernelspec": {
   "display_name": "ml",
   "language": "python",
   "name": "python3"
  },
  "language_info": {
   "codemirror_mode": {
    "name": "ipython",
    "version": 3
   },
   "file_extension": ".py",
   "mimetype": "text/x-python",
   "name": "python",
   "nbconvert_exporter": "python",
   "pygments_lexer": "ipython3",
   "version": "3.11.5"
  }
 },
 "nbformat": 4,
 "nbformat_minor": 2
}
