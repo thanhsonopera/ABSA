{
 "cells": [
  {
   "cell_type": "code",
   "execution_count": 1,
   "metadata": {},
   "outputs": [],
   "source": [
    "# config = {\n",
    "#     'name_model' : 'vinai/phobert-base',\n",
    "#     'max_length' : 256,\n",
    "#     'device' : 'cuda',\n",
    "#     'batch_size' : 16,\n",
    "#     'drop_rate' : 0.2,\n",
    "#     'num_classes' : 5,\n",
    "#     'num_epochs' : 25,\n",
    "#     'weights' : [0.2, 0.3, 0.2, 0.15, 0.15],\n",
    "#     'type' : 'Hotel',\n",
    "# }\n",
    "# Restaurant Classification\n",
    "config = {\n",
    "    'name_model' : 'vinai/phobert-base',\n",
    "    'max_length' : 256,\n",
    "    'device' : 'cuda',\n",
    "    'batch_size' : 8,\n",
    "    'drop_rate' : 0.2,\n",
    "    'num_classes' : 5,\n",
    "    'num_epochs' : 10,\n",
    "    'weights' : [0.35, 0.35, 0.1, 0.1, 0.1],\n",
    "    'type' : 'Restaurant',\n",
    "    'seed' : 42\n",
    "}"
   ]
  },
  {
   "cell_type": "code",
   "execution_count": 2,
   "metadata": {},
   "outputs": [
    {
     "name": "stderr",
     "output_type": "stream",
     "text": [
      "c:\\Users\\thanh\\anaconda3\\envs\\vlsp2018\\Lib\\site-packages\\tqdm\\auto.py:21: TqdmWarning: IProgress not found. Please update jupyter and ipywidgets. See https://ipywidgets.readthedocs.io/en/stable/user_install.html\n",
      "  from .autonotebook import tqdm as notebook_tqdm\n"
     ]
    }
   ],
   "source": [
    "from train import Instructor, InstructorVer2"
   ]
  },
  {
   "cell_type": "code",
   "execution_count": 3,
   "metadata": {},
   "outputs": [],
   "source": [
    "ins = Instructor(config)"
   ]
  },
  {
   "cell_type": "code",
   "execution_count": 7,
   "metadata": {},
   "outputs": [
    {
     "name": "stdout",
     "output_type": "stream",
     "text": [
      "Epoch : 1 / 10\n"
     ]
    },
    {
     "name": "stderr",
     "output_type": "stream",
     "text": [
      "100%|██████████| 711/711 [02:49<00:00,  4.19it/s]\n"
     ]
    },
    {
     "name": "stdout",
     "output_type": "stream",
     "text": [
      "Len Train Data :  5685\n",
      "Losses Train 0 : 0.44806810719146994\n",
      "Losses Train 1 : 0.4148926987916415\n",
      "Losses Train 2 : 0.5505406191816641\n",
      "Losses Train 3 : 0.5128043154193942\n",
      "Losses Train 4 : 0.5238636467471496\n",
      "Best Loss :  [999, 999, 999, 999, 999]\n"
     ]
    },
    {
     "name": "stderr",
     "output_type": "stream",
     "text": [
      "100%|██████████| 69/69 [00:09<00:00,  7.11it/s]\n"
     ]
    },
    {
     "name": "stdout",
     "output_type": "stream",
     "text": [
      "Len Val Data :  1100\n",
      "Losses Validate 0 : 0.2606896009228446\n",
      "Losses Validate 1 : 0.17611480496146462\n",
      "Losses Validate 2 : 0.16457194382494147\n",
      "Losses Validate 3 : 0.31065351995554835\n",
      "Losses Validate 4 : 0.20171906276182694\n",
      "Epoch : 2 / 10\n"
     ]
    },
    {
     "name": "stderr",
     "output_type": "stream",
     "text": [
      "100%|██████████| 711/711 [02:49<00:00,  4.19it/s]\n"
     ]
    },
    {
     "name": "stdout",
     "output_type": "stream",
     "text": [
      "Len Train Data :  5685\n",
      "Losses Train 0 : 0.23365869133642292\n",
      "Losses Train 1 : 0.29587154633241886\n",
      "Losses Train 2 : 0.2987212913227165\n",
      "Losses Train 3 : 0.3686880285423265\n",
      "Losses Train 4 : 0.3319745177119682\n",
      "Best Loss :  [0.2606896009228446, 0.17611480496146462, 0.16457194382494147, 0.31065351995554835, 0.20171906276182694]\n"
     ]
    },
    {
     "name": "stderr",
     "output_type": "stream",
     "text": [
      "100%|██████████| 69/69 [00:09<00:00,  7.18it/s]\n"
     ]
    },
    {
     "name": "stdout",
     "output_type": "stream",
     "text": [
      "Len Val Data :  1100\n",
      "Losses Validate 0 : 0.18197323834354226\n",
      "Losses Validate 1 : 0.18105719923973085\n",
      "Losses Validate 2 : 0.09679930573159998\n",
      "Losses Validate 3 : 0.1899734091758728\n",
      "Losses Validate 4 : 0.13991464387286792\n",
      "Epoch : 3 / 10\n"
     ]
    },
    {
     "name": "stderr",
     "output_type": "stream",
     "text": [
      "100%|██████████| 711/711 [02:49<00:00,  4.18it/s]\n"
     ]
    },
    {
     "name": "stdout",
     "output_type": "stream",
     "text": [
      "Len Train Data :  5685\n",
      "Losses Train 0 : 0.1770367396433519\n",
      "Losses Train 1 : 0.22133938945377724\n",
      "Losses Train 2 : 0.2330440313646221\n",
      "Losses Train 3 : 0.282514445521691\n",
      "Losses Train 4 : 0.26675199040636854\n",
      "Best Loss :  [0.18197323834354226, 0.18105719923973085, 0.09679930573159998, 0.1899734091758728, 0.13991464387286792]\n"
     ]
    },
    {
     "name": "stderr",
     "output_type": "stream",
     "text": [
      "100%|██████████| 69/69 [00:09<00:00,  7.07it/s]\n"
     ]
    },
    {
     "name": "stdout",
     "output_type": "stream",
     "text": [
      "Len Val Data :  1100\n",
      "Losses Validate 0 : 0.2002543376792561\n",
      "Losses Validate 1 : 0.13588085998188365\n",
      "Losses Validate 2 : 0.09417904815890572\n",
      "Losses Validate 3 : 0.1542002441666343\n",
      "Losses Validate 4 : 0.13472301331433384\n",
      "Epoch : 4 / 10\n"
     ]
    },
    {
     "name": "stderr",
     "output_type": "stream",
     "text": [
      "100%|██████████| 711/711 [02:49<00:00,  4.18it/s]\n"
     ]
    },
    {
     "name": "stdout",
     "output_type": "stream",
     "text": [
      "Len Train Data :  5685\n",
      "Losses Train 0 : 0.13425542690194062\n",
      "Losses Train 1 : 0.17155822964226244\n",
      "Losses Train 2 : 0.21733099349046237\n",
      "Losses Train 3 : 0.24067483372927342\n",
      "Losses Train 4 : 0.24124941706342873\n",
      "Best Loss :  [0.18197323834354226, 0.18105719923973085, 0.09679930573159998, 0.1899734091758728, 0.13991464387286792]\n"
     ]
    },
    {
     "name": "stderr",
     "output_type": "stream",
     "text": [
      "100%|██████████| 69/69 [00:09<00:00,  7.12it/s]\n"
     ]
    },
    {
     "name": "stdout",
     "output_type": "stream",
     "text": [
      "Len Val Data :  1100\n",
      "Losses Validate 0 : 0.17447603052312677\n",
      "Losses Validate 1 : 0.141718459806659\n",
      "Losses Validate 2 : 0.08817343993620438\n",
      "Losses Validate 3 : 0.13258564233779907\n",
      "Losses Validate 4 : 0.1385864800756628\n",
      "Epoch : 5 / 10\n"
     ]
    },
    {
     "name": "stderr",
     "output_type": "stream",
     "text": [
      "100%|██████████| 711/711 [02:50<00:00,  4.18it/s]\n"
     ]
    },
    {
     "name": "stdout",
     "output_type": "stream",
     "text": [
      "Len Train Data :  5685\n",
      "Losses Train 0 : 0.10876710881710891\n",
      "Losses Train 1 : 0.12984111312721106\n",
      "Losses Train 2 : 0.197072384089048\n",
      "Losses Train 3 : 0.21870002541084926\n",
      "Losses Train 4 : 0.21515284571190518\n",
      "Best Loss :  [0.17447603052312677, 0.141718459806659, 0.08817343993620438, 0.13258564233779907, 0.1385864800756628]\n"
     ]
    },
    {
     "name": "stderr",
     "output_type": "stream",
     "text": [
      "100%|██████████| 69/69 [00:09<00:00,  7.23it/s]\n"
     ]
    },
    {
     "name": "stdout",
     "output_type": "stream",
     "text": [
      "Len Val Data :  1100\n",
      "Losses Validate 0 : 0.16287497287446803\n",
      "Losses Validate 1 : 0.1385940660400824\n",
      "Losses Validate 2 : 0.0952326637506485\n",
      "Losses Validate 3 : 0.12220717240463604\n",
      "Losses Validate 4 : 0.11810715491121465\n",
      "Epoch : 6 / 10\n"
     ]
    },
    {
     "name": "stderr",
     "output_type": "stream",
     "text": [
      "100%|██████████| 711/711 [02:50<00:00,  4.18it/s]\n"
     ]
    },
    {
     "name": "stdout",
     "output_type": "stream",
     "text": [
      "Len Train Data :  5685\n",
      "Losses Train 0 : 0.08901540248039634\n",
      "Losses Train 1 : 0.1058547918851059\n",
      "Losses Train 2 : 0.19188225828143937\n",
      "Losses Train 3 : 0.20253355304924353\n",
      "Losses Train 4 : 0.19615734559774609\n",
      "Best Loss :  [0.16287497287446803, 0.1385940660400824, 0.0952326637506485, 0.12220717240463604, 0.11810715491121465]\n"
     ]
    },
    {
     "name": "stderr",
     "output_type": "stream",
     "text": [
      "100%|██████████| 69/69 [00:09<00:00,  7.17it/s]\n"
     ]
    },
    {
     "name": "stdout",
     "output_type": "stream",
     "text": [
      "Len Val Data :  1100\n",
      "Losses Validate 0 : 0.18110527130690487\n",
      "Losses Validate 1 : 0.14579454099590128\n",
      "Losses Validate 2 : 0.08718970033255491\n",
      "Losses Validate 3 : 0.113259897665544\n",
      "Losses Validate 4 : 0.12148797988891602\n",
      "Epoch : 7 / 10\n"
     ]
    },
    {
     "name": "stderr",
     "output_type": "stream",
     "text": [
      "100%|██████████| 711/711 [02:50<00:00,  4.18it/s]\n"
     ]
    },
    {
     "name": "stdout",
     "output_type": "stream",
     "text": [
      "Len Train Data :  5685\n",
      "Losses Train 0 : 0.07848398067129214\n",
      "Losses Train 1 : 0.08174401874487716\n",
      "Losses Train 2 : 0.17263622226270542\n",
      "Losses Train 3 : 0.18362885996660017\n",
      "Losses Train 4 : 0.18211437249875634\n",
      "Best Loss :  [0.16287497287446803, 0.1385940660400824, 0.0952326637506485, 0.12220717240463604, 0.11810715491121465]\n"
     ]
    },
    {
     "name": "stderr",
     "output_type": "stream",
     "text": [
      "100%|██████████| 69/69 [00:09<00:00,  7.09it/s]\n"
     ]
    },
    {
     "name": "stdout",
     "output_type": "stream",
     "text": [
      "Len Val Data :  1100\n",
      "Losses Validate 0 : 0.17091287341984834\n",
      "Losses Validate 1 : 0.14992981412193992\n",
      "Losses Validate 2 : 0.09112395124001936\n",
      "Losses Validate 3 : 0.10521213786168532\n",
      "Losses Validate 4 : 0.11925141610882499\n",
      "Epoch : 8 / 10\n"
     ]
    },
    {
     "name": "stderr",
     "output_type": "stream",
     "text": [
      "100%|██████████| 711/711 [02:49<00:00,  4.18it/s]\n"
     ]
    },
    {
     "name": "stdout",
     "output_type": "stream",
     "text": [
      "Len Train Data :  5685\n",
      "Losses Train 0 : 0.06771110932399227\n",
      "Losses Train 1 : 0.07379625229166596\n",
      "Losses Train 2 : 0.1633709951776523\n",
      "Losses Train 3 : 0.16849122972161285\n",
      "Losses Train 4 : 0.17051889148844682\n",
      "Best Loss :  [0.16287497287446803, 0.1385940660400824, 0.0952326637506485, 0.12220717240463604, 0.11810715491121465]\n"
     ]
    },
    {
     "name": "stderr",
     "output_type": "stream",
     "text": [
      "100%|██████████| 69/69 [00:09<00:00,  7.16it/s]\n"
     ]
    },
    {
     "name": "stdout",
     "output_type": "stream",
     "text": [
      "Len Val Data :  1100\n",
      "Losses Validate 0 : 0.1844037315249443\n",
      "Losses Validate 1 : 0.14587579702789133\n",
      "Losses Validate 2 : 0.09204850419001145\n",
      "Losses Validate 3 : 0.1016518972678618\n",
      "Losses Validate 4 : 0.10731519677422263\n",
      "Epoch : 9 / 10\n"
     ]
    },
    {
     "name": "stderr",
     "output_type": "stream",
     "text": [
      "100%|██████████| 711/711 [02:49<00:00,  4.18it/s]\n"
     ]
    },
    {
     "name": "stdout",
     "output_type": "stream",
     "text": [
      "Len Train Data :  5685\n",
      "Losses Train 0 : 0.061891497838046323\n",
      "Losses Train 1 : 0.060255338496667\n",
      "Losses Train 2 : 0.15204242817539862\n",
      "Losses Train 3 : 0.15467425274450525\n",
      "Losses Train 4 : 0.15911739562411212\n",
      "Best Loss :  [0.16287497287446803, 0.1385940660400824, 0.0952326637506485, 0.12220717240463604, 0.11810715491121465]\n"
     ]
    },
    {
     "name": "stderr",
     "output_type": "stream",
     "text": [
      "100%|██████████| 69/69 [00:09<00:00,  7.12it/s]\n"
     ]
    },
    {
     "name": "stdout",
     "output_type": "stream",
     "text": [
      "Len Val Data :  1100\n",
      "Losses Validate 0 : 0.16500099556012587\n",
      "Losses Validate 1 : 0.16192179102789273\n",
      "Losses Validate 2 : 0.09292841103943912\n",
      "Losses Validate 3 : 0.10635685140436346\n",
      "Losses Validate 4 : 0.11384717973795803\n",
      "Epoch : 10 / 10\n"
     ]
    },
    {
     "name": "stderr",
     "output_type": "stream",
     "text": [
      "100%|██████████| 711/711 [02:49<00:00,  4.19it/s]\n"
     ]
    },
    {
     "name": "stdout",
     "output_type": "stream",
     "text": [
      "Len Train Data :  5685\n",
      "Losses Train 0 : 0.0605990581666574\n",
      "Losses Train 1 : 0.056061222247628655\n",
      "Losses Train 2 : 0.1425782225167636\n",
      "Losses Train 3 : 0.14317413407034693\n",
      "Losses Train 4 : 0.14423822926762025\n",
      "Best Loss :  [0.16287497287446803, 0.1385940660400824, 0.0952326637506485, 0.12220717240463604, 0.11810715491121465]\n"
     ]
    },
    {
     "name": "stderr",
     "output_type": "stream",
     "text": [
      "100%|██████████| 69/69 [00:09<00:00,  7.03it/s]\n"
     ]
    },
    {
     "name": "stdout",
     "output_type": "stream",
     "text": [
      "Len Val Data :  1100\n",
      "Losses Validate 0 : 0.16181788089600477\n",
      "Losses Validate 1 : 0.15859378826889126\n",
      "Losses Validate 2 : 0.0848761569369923\n",
      "Losses Validate 3 : 0.09915272582661022\n",
      "Losses Validate 4 : 0.10957139779220929\n"
     ]
    }
   ],
   "source": [
    "ins.train()"
   ]
  },
  {
   "cell_type": "code",
   "execution_count": 6,
   "metadata": {},
   "outputs": [
    {
     "name": "stdout",
     "output_type": "stream",
     "text": [
      "[[0 0 0 0 1]]\n",
      "[[1 0 1 0 1]]\n"
     ]
    }
   ],
   "source": [
    "# key=['AMBIENCE', 'QUALITY', 'PRICES', 'LOCATION', 'SERVICE']\n",
    "str = 'Ở đây cà phê ngon, rẻ, mát mẻ'\n",
    "\n",
    "str2 = 'Đồ ăn ngon, phục vụ như lol'\n",
    "# [1,1,1,0,0]\n",
    "# [0,1,0,0,1]\n",
    "ins.prediction(str, True)\n",
    "ins.prediction(str2, True)"
   ]
  }
 ],
 "metadata": {
  "kernelspec": {
   "display_name": "ml",
   "language": "python",
   "name": "python3"
  },
  "language_info": {
   "codemirror_mode": {
    "name": "ipython",
    "version": 3
   },
   "file_extension": ".py",
   "mimetype": "text/x-python",
   "name": "python",
   "nbconvert_exporter": "python",
   "pygments_lexer": "ipython3",
   "version": "3.11.5"
  }
 },
 "nbformat": 4,
 "nbformat_minor": 2
}
