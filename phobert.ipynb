{
 "cells": [
  {
   "cell_type": "code",
   "execution_count": 1,
   "metadata": {},
   "outputs": [],
   "source": [
    "# config = {\n",
    "#     'name_model' : 'vinai/phobert-base',\n",
    "#     'max_length' : 256,\n",
    "#     'device' : 'cuda',\n",
    "#     'batch_size' : 16,\n",
    "#     'drop_rate' : 0.2,\n",
    "#     'num_classes' : 5,\n",
    "#     'num_epochs' : 25,\n",
    "#     'weights' : [0.2, 0.3, 0.2, 0.15, 0.15],\n",
    "#     'type' : 'Hotel',\n",
    "# }\n",
    "# Restaurant Classification\n",
    "config = {\n",
    "    'name_model' : 'vinai/phobert-base',\n",
    "    'max_length' : 256,\n",
    "    'device' : 'cuda',\n",
    "    'batch_size' : 16,\n",
    "    'drop_rate' : 0.2,\n",
    "    'num_classes' : 5,\n",
    "    'num_epochs' : 10,\n",
    "    'weights' : [0.35, 0.35, 0.1, 0.1, 0.1],\n",
    "    'type' : 'Restaurant',\n",
    "    'seed' : 42,\n",
    "    'isKaggle' : False\n",
    "}"
   ]
  },
  {
   "cell_type": "code",
   "execution_count": 2,
   "metadata": {},
   "outputs": [
    {
     "name": "stderr",
     "output_type": "stream",
     "text": [
      "c:\\Users\\thanh\\anaconda3\\envs\\vlsp2018\\Lib\\site-packages\\tqdm\\auto.py:21: TqdmWarning: IProgress not found. Please update jupyter and ipywidgets. See https://ipywidgets.readthedocs.io/en/stable/user_install.html\n",
      "  from .autonotebook import tqdm as notebook_tqdm\n"
     ]
    }
   ],
   "source": [
    "from train import Instructor, InstructorVer2"
   ]
  },
  {
   "cell_type": "code",
   "execution_count": 3,
   "metadata": {},
   "outputs": [],
   "source": [
    "ins = Instructor(config)"
   ]
  },
  {
   "cell_type": "code",
   "execution_count": 4,
   "metadata": {},
   "outputs": [
    {
     "name": "stdout",
     "output_type": "stream",
     "text": [
      "Epoch : 1 / 10\n"
     ]
    },
    {
     "name": "stderr",
     "output_type": "stream",
     "text": [
      "100%|██████████| 554/554 [03:56<00:00,  2.34it/s]\n"
     ]
    },
    {
     "name": "stdout",
     "output_type": "stream",
     "text": [
      "Len Train Data :  8855\n",
      "Losses Train 0 : 0.41253194279888805\n",
      "Losses Train 1 : 0.41022669498964864\n",
      "Losses Train 2 : 0.4912434389737957\n",
      "Losses Train 3 : 0.4698464603359453\n",
      "Losses Train 4 : 0.4813852839790314\n",
      "Best Loss :  [1.908890030817552, 1.3566966876116666, 1.5010752669247713, 1.1720909751545299, 0.7291160665858876]\n"
     ]
    },
    {
     "name": "stderr",
     "output_type": "stream",
     "text": [
      "100%|██████████| 69/69 [00:09<00:00,  6.97it/s]\n"
     ]
    },
    {
     "name": "stdout",
     "output_type": "stream",
     "text": [
      "Len Val Data :  1100\n",
      "Losses Validate 0 : 0.3289724883166226\n",
      "Losses Validate 1 : 0.3018138015270233\n",
      "Losses Validate 2 : 0.28417261307889763\n",
      "Losses Validate 3 : 0.5309498485651883\n",
      "Losses Validate 4 : 0.3660648257082159\n",
      "Param optimizer : \n",
      "Learning rate 1e-05\n",
      "Beta (0.9, 0.999)\n",
      "Eps 1e-08\n",
      "Weight decay 0.01\n",
      "Initial lr 1e-05\n",
      "AdamGrad False\n",
      "Epoch : 2 / 10\n"
     ]
    },
    {
     "name": "stderr",
     "output_type": "stream",
     "text": [
      "100%|██████████| 554/554 [03:55<00:00,  2.35it/s]\n"
     ]
    },
    {
     "name": "stdout",
     "output_type": "stream",
     "text": [
      "Len Train Data :  8855\n",
      "Losses Train 0 : 0.22494686068551545\n",
      "Losses Train 1 : 0.28813139498402074\n",
      "Losses Train 2 : 0.2676578901098112\n",
      "Losses Train 3 : 0.3331502088377666\n",
      "Losses Train 4 : 0.29713840414614817\n",
      "Best Loss :  [0.3289724883166226, 0.3018138015270233, 0.28417261307889763, 0.5309498485651883, 0.3660648257082159]\n"
     ]
    },
    {
     "name": "stderr",
     "output_type": "stream",
     "text": [
      "100%|██████████| 69/69 [00:09<00:00,  7.06it/s]\n"
     ]
    },
    {
     "name": "stdout",
     "output_type": "stream",
     "text": [
      "Len Val Data :  1100\n",
      "Losses Validate 0 : 0.2996063808961348\n",
      "Losses Validate 1 : 0.2601531680063768\n",
      "Losses Validate 2 : 0.2204957757212899\n",
      "Losses Validate 3 : 0.3075141544775529\n",
      "Losses Validate 4 : 0.2643020779436285\n",
      "Param optimizer : \n",
      "Learning rate 1e-05\n",
      "Beta (0.9, 0.999)\n",
      "Eps 1e-08\n",
      "Weight decay 0.01\n",
      "Initial lr 1e-05\n",
      "AdamGrad False\n",
      "Epoch : 3 / 10\n"
     ]
    },
    {
     "name": "stderr",
     "output_type": "stream",
     "text": [
      "100%|██████████| 554/554 [03:54<00:00,  2.37it/s]\n"
     ]
    },
    {
     "name": "stdout",
     "output_type": "stream",
     "text": [
      "Len Train Data :  8855\n",
      "Losses Train 0 : 0.1707658749256748\n",
      "Losses Train 1 : 0.2339887609796831\n",
      "Losses Train 2 : 0.22196744946286479\n",
      "Losses Train 3 : 0.2637556926063869\n",
      "Losses Train 4 : 0.24949926201870454\n",
      "Best Loss :  [0.2996063808961348, 0.2601531680063768, 0.2204957757212899, 0.3075141544775529, 0.2643020779436285]\n"
     ]
    },
    {
     "name": "stderr",
     "output_type": "stream",
     "text": [
      "100%|██████████| 69/69 [00:09<00:00,  7.12it/s]\n"
     ]
    },
    {
     "name": "stdout",
     "output_type": "stream",
     "text": [
      "Len Val Data :  1100\n",
      "Losses Validate 0 : 0.30867871782996437\n",
      "Losses Validate 1 : 0.23487067439339376\n",
      "Losses Validate 2 : 0.19134103178977965\n",
      "Losses Validate 3 : 0.29435980796813965\n",
      "Losses Validate 4 : 0.26587443286722356\n",
      "Param optimizer : \n",
      "Learning rate 1e-05\n",
      "Beta (0.9, 0.999)\n",
      "Eps 1e-08\n",
      "Weight decay 0.01\n",
      "Initial lr 1e-05\n",
      "AdamGrad False\n",
      "Epoch : 4 / 10\n"
     ]
    },
    {
     "name": "stderr",
     "output_type": "stream",
     "text": [
      "100%|██████████| 554/554 [03:54<00:00,  2.36it/s]\n"
     ]
    },
    {
     "name": "stdout",
     "output_type": "stream",
     "text": [
      "Len Train Data :  8855\n",
      "Losses Train 0 : 0.13729359501166105\n",
      "Losses Train 1 : 0.18740514429325036\n",
      "Losses Train 2 : 0.20212802799457483\n",
      "Losses Train 3 : 0.23126715795257413\n",
      "Losses Train 4 : 0.2283944623608969\n",
      "Best Loss :  [0.30867871782996437, 0.23487067439339376, 0.19134103178977965, 0.29435980796813965, 0.26587443286722356]\n"
     ]
    },
    {
     "name": "stderr",
     "output_type": "stream",
     "text": [
      "100%|██████████| 69/69 [00:09<00:00,  7.24it/s]\n"
     ]
    },
    {
     "name": "stdout",
     "output_type": "stream",
     "text": [
      "Len Val Data :  1100\n",
      "Losses Validate 0 : 0.27748886265537953\n",
      "Losses Validate 1 : 0.2662958855520595\n",
      "Losses Validate 2 : 0.1966782772541046\n",
      "Losses Validate 3 : 0.2482147333838723\n",
      "Losses Validate 4 : 0.25977845267816024\n",
      "Param optimizer : \n",
      "Learning rate 1e-05\n",
      "Beta (0.9, 0.999)\n",
      "Eps 1e-08\n",
      "Weight decay 0.01\n",
      "Initial lr 1e-05\n",
      "AdamGrad False\n",
      "Epoch : 5 / 10\n"
     ]
    },
    {
     "name": "stderr",
     "output_type": "stream",
     "text": [
      "100%|██████████| 554/554 [03:54<00:00,  2.36it/s]\n"
     ]
    },
    {
     "name": "stdout",
     "output_type": "stream",
     "text": [
      "Len Train Data :  8855\n",
      "Losses Train 0 : 0.1182009176505211\n",
      "Losses Train 1 : 0.1489814037188913\n",
      "Losses Train 2 : 0.19028916206822968\n",
      "Losses Train 3 : 0.21164116222665916\n",
      "Losses Train 4 : 0.21490394249263958\n",
      "Best Loss :  [0.27748886265537953, 0.2662958855520595, 0.1966782772541046, 0.2482147333838723, 0.25977845267816024]\n"
     ]
    },
    {
     "name": "stderr",
     "output_type": "stream",
     "text": [
      "100%|██████████| 69/69 [00:09<00:00,  7.02it/s]\n"
     ]
    },
    {
     "name": "stdout",
     "output_type": "stream",
     "text": [
      "Len Val Data :  1100\n",
      "Losses Validate 0 : 0.29224849793044005\n",
      "Losses Validate 1 : 0.22811779975891114\n",
      "Losses Validate 2 : 0.1655899155139923\n",
      "Losses Validate 3 : 0.2423290234262293\n",
      "Losses Validate 4 : 0.24267278822985563\n",
      "Param optimizer : \n",
      "Learning rate 1e-05\n",
      "Beta (0.9, 0.999)\n",
      "Eps 1e-08\n",
      "Weight decay 0.01\n",
      "Initial lr 1e-05\n",
      "AdamGrad False\n",
      "Epoch : 6 / 10\n"
     ]
    },
    {
     "name": "stderr",
     "output_type": "stream",
     "text": [
      "100%|██████████| 554/554 [03:53<00:00,  2.37it/s]\n"
     ]
    },
    {
     "name": "stdout",
     "output_type": "stream",
     "text": [
      "Len Train Data :  8855\n",
      "Losses Train 0 : 0.09601605304010435\n",
      "Losses Train 1 : 0.11895397878649004\n",
      "Losses Train 2 : 0.18353538677424514\n",
      "Losses Train 3 : 0.20329267551911073\n",
      "Losses Train 4 : 0.20349679561337128\n",
      "Best Loss :  [0.29224849793044005, 0.22811779975891114, 0.1655899155139923, 0.2423290234262293, 0.24267278822985563]\n"
     ]
    },
    {
     "name": "stderr",
     "output_type": "stream",
     "text": [
      "100%|██████████| 69/69 [00:09<00:00,  7.20it/s]\n"
     ]
    },
    {
     "name": "stdout",
     "output_type": "stream",
     "text": [
      "Len Val Data :  1100\n",
      "Losses Validate 0 : 0.2876430072025819\n",
      "Losses Validate 1 : 0.2374704081361944\n",
      "Losses Validate 2 : 0.1808583897894079\n",
      "Losses Validate 3 : 0.22251579262993554\n",
      "Losses Validate 4 : 0.24774122714996338\n",
      "Param optimizer : \n",
      "Learning rate 1e-05\n",
      "Beta (0.9, 0.999)\n",
      "Eps 1e-08\n",
      "Weight decay 0.01\n",
      "Initial lr 1e-05\n",
      "AdamGrad False\n",
      "Epoch : 7 / 10\n"
     ]
    },
    {
     "name": "stderr",
     "output_type": "stream",
     "text": [
      "100%|██████████| 554/554 [03:52<00:00,  2.38it/s]\n"
     ]
    },
    {
     "name": "stdout",
     "output_type": "stream",
     "text": [
      "Len Train Data :  8855\n",
      "Losses Train 0 : 0.0815395481232396\n",
      "Losses Train 1 : 0.10120541571157252\n",
      "Losses Train 2 : 0.17515207123177526\n",
      "Losses Train 3 : 0.18893968875902242\n",
      "Losses Train 4 : 0.19230898072799002\n",
      "Best Loss :  [0.29224849793044005, 0.22811779975891114, 0.1655899155139923, 0.2423290234262293, 0.24267278822985563]\n"
     ]
    },
    {
     "name": "stderr",
     "output_type": "stream",
     "text": [
      "100%|██████████| 69/69 [00:09<00:00,  7.15it/s]\n"
     ]
    },
    {
     "name": "stdout",
     "output_type": "stream",
     "text": [
      "Len Val Data :  1100\n",
      "Losses Validate 0 : 0.2928192193399776\n",
      "Losses Validate 1 : 0.2326078699664636\n",
      "Losses Validate 2 : 0.17893833897330544\n",
      "Losses Validate 3 : 0.23377520236102017\n",
      "Losses Validate 4 : 0.2310213681784543\n",
      "Param optimizer : \n",
      "Learning rate 1e-05\n",
      "Beta (0.9, 0.999)\n",
      "Eps 1e-08\n",
      "Weight decay 0.01\n",
      "Initial lr 1e-05\n",
      "AdamGrad False\n",
      "Epoch : 8 / 10\n"
     ]
    },
    {
     "name": "stderr",
     "output_type": "stream",
     "text": [
      "100%|██████████| 554/554 [03:53<00:00,  2.38it/s]\n"
     ]
    },
    {
     "name": "stdout",
     "output_type": "stream",
     "text": [
      "Len Train Data :  8855\n",
      "Losses Train 0 : 0.07142325730595732\n",
      "Losses Train 1 : 0.08079070698602397\n",
      "Losses Train 2 : 0.16815424136426205\n",
      "Losses Train 3 : 0.17766448142904134\n",
      "Losses Train 4 : 0.18353994035370805\n",
      "Best Loss :  [0.2928192193399776, 0.2326078699664636, 0.17893833897330544, 0.23377520236102017, 0.2310213681784543]\n"
     ]
    },
    {
     "name": "stderr",
     "output_type": "stream",
     "text": [
      "100%|██████████| 69/69 [00:09<00:00,  7.20it/s]\n"
     ]
    },
    {
     "name": "stdout",
     "output_type": "stream",
     "text": [
      "Len Val Data :  1100\n",
      "Losses Validate 0 : 0.299900417490439\n",
      "Losses Validate 1 : 0.2460189869187095\n",
      "Losses Validate 2 : 0.17503864353353327\n",
      "Losses Validate 3 : 0.20624253045428884\n",
      "Losses Validate 4 : 0.2323016532984647\n",
      "Param optimizer : \n",
      "Learning rate 1e-05\n",
      "Beta (0.9, 0.999)\n",
      "Eps 1e-08\n",
      "Weight decay 0.01\n",
      "Initial lr 1e-05\n",
      "AdamGrad False\n",
      "Epoch : 9 / 10\n"
     ]
    },
    {
     "name": "stderr",
     "output_type": "stream",
     "text": [
      "100%|██████████| 554/554 [03:53<00:00,  2.37it/s]\n"
     ]
    },
    {
     "name": "stdout",
     "output_type": "stream",
     "text": [
      "Len Train Data :  8855\n",
      "Losses Train 0 : 0.06463411087911726\n",
      "Losses Train 1 : 0.0719460463133456\n",
      "Losses Train 2 : 0.1594813454023261\n",
      "Losses Train 3 : 0.16457894505382864\n",
      "Losses Train 4 : 0.1733091418989495\n",
      "Best Loss :  [0.299900417490439, 0.2460189869187095, 0.17503864353353327, 0.20624253045428884, 0.2323016532984647]\n"
     ]
    },
    {
     "name": "stderr",
     "output_type": "stream",
     "text": [
      "100%|██████████| 69/69 [00:09<00:00,  7.17it/s]\n"
     ]
    },
    {
     "name": "stdout",
     "output_type": "stream",
     "text": [
      "Len Val Data :  1100\n",
      "Losses Validate 0 : 0.3280434402552518\n",
      "Losses Validate 1 : 0.2510502248460596\n",
      "Losses Validate 2 : 0.172803566347469\n",
      "Losses Validate 3 : 0.21290694486011158\n",
      "Losses Validate 4 : 0.23327089363878423\n",
      "Param optimizer : \n",
      "Learning rate 1e-05\n",
      "Beta (0.9, 0.999)\n",
      "Eps 1e-08\n",
      "Weight decay 0.01\n",
      "Initial lr 1e-05\n",
      "AdamGrad False\n",
      "Epoch : 10 / 10\n"
     ]
    },
    {
     "name": "stderr",
     "output_type": "stream",
     "text": [
      "100%|██████████| 554/554 [03:52<00:00,  2.38it/s]\n"
     ]
    },
    {
     "name": "stdout",
     "output_type": "stream",
     "text": [
      "Len Train Data :  8855\n",
      "Losses Train 0 : 0.06172913662260498\n",
      "Losses Train 1 : 0.06396025065174889\n",
      "Losses Train 2 : 0.14966209420775506\n",
      "Losses Train 3 : 0.15721436711370038\n",
      "Losses Train 4 : 0.16284411525672468\n",
      "Best Loss :  [0.299900417490439, 0.2460189869187095, 0.17503864353353327, 0.20624253045428884, 0.2323016532984647]\n"
     ]
    },
    {
     "name": "stderr",
     "output_type": "stream",
     "text": [
      "100%|██████████| 69/69 [00:09<00:00,  7.26it/s]\n"
     ]
    },
    {
     "name": "stdout",
     "output_type": "stream",
     "text": [
      "Len Val Data :  1100\n",
      "Losses Validate 0 : 0.3073104127970609\n",
      "Losses Validate 1 : 0.2493758570335128\n",
      "Losses Validate 2 : 0.16839187416163356\n",
      "Losses Validate 3 : 0.20197999824177135\n",
      "Losses Validate 4 : 0.21308875766667454\n",
      "Param optimizer : \n",
      "Learning rate 1e-05\n",
      "Beta (0.9, 0.999)\n",
      "Eps 1e-08\n",
      "Weight decay 0.01\n",
      "Initial lr 1e-05\n",
      "AdamGrad False\n"
     ]
    }
   ],
   "source": [
    "ins.train()"
   ]
  },
  {
   "cell_type": "code",
   "execution_count": 7,
   "metadata": {},
   "outputs": [
    {
     "name": "stderr",
     "output_type": "stream",
     "text": [
      "c:\\Users\\thanh\\Documents\\GitHub\\ABSA\\train.py:256: FutureWarning: You are using `torch.load` with `weights_only=False` (the current default value), which uses the default pickle module implicitly. It is possible to construct malicious pickle data which will execute arbitrary code during unpickling (See https://github.com/pytorch/pytorch/blob/main/SECURITY.md#untrusted-models for more details). In a future release, the default value for `weights_only` will be flipped to `True`. This limits the functions that could be executed during unpickling. Arbitrary objects will no longer be allowed to be loaded via this mode unless they are explicitly allowlisted by the user via `torch.serialization.add_safe_globals`. We recommend you start setting `weights_only=True` for any use case where you don't have full control of the loaded file. Please open an issue on GitHub for any issues related to this experimental feature.\n",
      "  self.model.load_state_dict(torch.load(\n"
     ]
    },
    {
     "name": "stdout",
     "output_type": "stream",
     "text": [
      "Model checkpoint loaded successfully.\n",
      "[[0 1 1 0 0]]\n",
      "Model checkpoint loaded successfully.\n",
      "[[0 1 0 0 1]]\n"
     ]
    }
   ],
   "source": [
    "# key=['AMBIENCE', 'QUALITY', 'PRICES', 'LOCATION', 'SERVICE']\n",
    "str = 'Ở đây cà phê ngon, rẻ, mát mẻ'\n",
    "\n",
    "str2 = 'Đồ ăn ngon, phục vụ như lol'\n",
    "[1,1,1,0,0]\n",
    "[0,1,0,0,1]\n",
    "# ins.prediction(str, True)\n",
    "# ins.prediction(str2, True)\n",
    "ins.prediction(str)\n",
    "ins.prediction(str2)"
   ]
  }
 ],
 "metadata": {
  "kernelspec": {
   "display_name": "ml",
   "language": "python",
   "name": "python3"
  },
  "language_info": {
   "codemirror_mode": {
    "name": "ipython",
    "version": 3
   },
   "file_extension": ".py",
   "mimetype": "text/x-python",
   "name": "python",
   "nbconvert_exporter": "python",
   "pygments_lexer": "ipython3",
   "version": "3.11.5"
  }
 },
 "nbformat": 4,
 "nbformat_minor": 2
}
