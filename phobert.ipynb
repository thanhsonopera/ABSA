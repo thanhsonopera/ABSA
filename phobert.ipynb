{
 "cells": [
  {
   "cell_type": "code",
   "execution_count": 3,
   "metadata": {},
   "outputs": [],
   "source": [
    "\n",
    "# config = {\n",
    "#     'name_model' : 'vinai/phobert-base',\n",
    "#     'max_length' : 256,\n",
    "#     'device' : 'cuda',\n",
    "#     'batch_size' : 16,\n",
    "#     'drop_rate' : 0.2,\n",
    "#     'num_classes' : 5,\n",
    "#     'num_epochs' : 25,\n",
    "#     'weights' : [0.2, 0.3, 0.2, 0.15, 0.15],\n",
    "#     'type' : 'Hotel',\n",
    "# }\n",
    "# Restaurant Classification\n",
    "config = {\n",
    "    'name_model' : 'vinai/phobert-base',\n",
    "    'max_length' : 256,\n",
    "    'device' : 'cuda',\n",
    "    'batch_size' : 16,\n",
    "    'drop_rate' : 0.2,\n",
    "    'num_classes' : 5,\n",
    "    'num_epochs' : 10,\n",
    "    'weights' : [0.2, 0.2, 0.2, 0.2, 0.2],\n",
    "    'type' : 'Restaurant',\n",
    "}"
   ]
  },
  {
   "cell_type": "code",
   "execution_count": 2,
   "metadata": {},
   "outputs": [
    {
     "name": "stderr",
     "output_type": "stream",
     "text": [
      "c:\\Users\\thanh\\anaconda3\\envs\\vlsp2018\\Lib\\site-packages\\tqdm\\auto.py:21: TqdmWarning: IProgress not found. Please update jupyter and ipywidgets. See https://ipywidgets.readthedocs.io/en/stable/user_install.html\n",
      "  from .autonotebook import tqdm as notebook_tqdm\n"
     ]
    }
   ],
   "source": [
    "from train import Instructor, InstructorVer2"
   ]
  },
  {
   "cell_type": "code",
   "execution_count": 4,
   "metadata": {},
   "outputs": [],
   "source": [
    "ins = Instructor(config)"
   ]
  },
  {
   "cell_type": "code",
   "execution_count": 5,
   "metadata": {},
   "outputs": [
    {
     "name": "stdout",
     "output_type": "stream",
     "text": [
      "Epoch : 1 / 10\n"
     ]
    },
    {
     "name": "stderr",
     "output_type": "stream",
     "text": [
      "100%|██████████| 186/186 [01:21<00:00,  2.27it/s]\n"
     ]
    },
    {
     "name": "stdout",
     "output_type": "stream",
     "text": [
      "Len Train Data :  2961\n",
      "Losses Train 0 : 0.45209437171899963\n",
      "Losses Train 1 : 0.31638071461329387\n",
      "Losses Train 2 : 0.5264550827919169\n",
      "Losses Train 3 : 0.3710620089263298\n",
      "Losses Train 4 : 0.46338996102945984\n"
     ]
    },
    {
     "name": "stderr",
     "output_type": "stream",
     "text": [
      "100%|██████████| 81/81 [00:11<00:00,  7.00it/s]\n"
     ]
    },
    {
     "name": "stdout",
     "output_type": "stream",
     "text": [
      "Len Val Data :  1290\n",
      "Losses Validate 0 : 0.26036812672319337\n",
      "Losses Validate 1 : 0.27649829507798185\n",
      "Losses Validate 2 : 0.24195391789887302\n",
      "Losses Validate 3 : 0.25002210639243905\n",
      "Losses Validate 4 : 0.21202023565307143\n",
      "Epoch : 2 / 10\n"
     ]
    },
    {
     "name": "stderr",
     "output_type": "stream",
     "text": [
      "100%|██████████| 186/186 [01:20<00:00,  2.31it/s]\n"
     ]
    },
    {
     "name": "stdout",
     "output_type": "stream",
     "text": [
      "Len Train Data :  2961\n",
      "Losses Train 0 : 0.250778055823119\n",
      "Losses Train 1 : 0.2630735381718062\n",
      "Losses Train 2 : 0.19359515266658406\n",
      "Losses Train 3 : 0.2530989270079824\n",
      "Losses Train 4 : 0.21798869243790595\n"
     ]
    },
    {
     "name": "stderr",
     "output_type": "stream",
     "text": [
      "100%|██████████| 81/81 [00:11<00:00,  7.02it/s]\n"
     ]
    },
    {
     "name": "stdout",
     "output_type": "stream",
     "text": [
      "Len Val Data :  1290\n",
      "Losses Validate 0 : 0.16155395960622979\n",
      "Losses Validate 1 : 0.2561402705288673\n",
      "Losses Validate 2 : 0.1228388202744861\n",
      "Losses Validate 3 : 0.19993868091309716\n",
      "Losses Validate 4 : 0.10733463052631348\n",
      "Epoch : 3 / 10\n"
     ]
    },
    {
     "name": "stderr",
     "output_type": "stream",
     "text": [
      "100%|██████████| 186/186 [01:20<00:00,  2.31it/s]\n"
     ]
    },
    {
     "name": "stdout",
     "output_type": "stream",
     "text": [
      "Len Train Data :  2961\n",
      "Losses Train 0 : 0.15913953489445626\n",
      "Losses Train 1 : 0.2342788805252231\n",
      "Losses Train 2 : 0.13609402600835602\n",
      "Losses Train 3 : 0.15540175420212932\n",
      "Losses Train 4 : 0.1433662542697748\n"
     ]
    },
    {
     "name": "stderr",
     "output_type": "stream",
     "text": [
      "100%|██████████| 81/81 [00:11<00:00,  6.80it/s]\n"
     ]
    },
    {
     "name": "stdout",
     "output_type": "stream",
     "text": [
      "Len Val Data :  1290\n",
      "Losses Validate 0 : 0.14331692136073299\n",
      "Losses Validate 1 : 0.21379708264225214\n",
      "Losses Validate 2 : 0.11663741896780887\n",
      "Losses Validate 3 : 0.17190748910571255\n",
      "Losses Validate 4 : 0.09617901869522509\n",
      "Epoch : 4 / 10\n"
     ]
    },
    {
     "name": "stderr",
     "output_type": "stream",
     "text": [
      "100%|██████████| 186/186 [01:21<00:00,  2.28it/s]\n"
     ]
    },
    {
     "name": "stdout",
     "output_type": "stream",
     "text": [
      "Len Train Data :  2961\n",
      "Losses Train 0 : 0.1225761009587182\n",
      "Losses Train 1 : 0.185355046519312\n",
      "Losses Train 2 : 0.11114829325748432\n",
      "Losses Train 3 : 0.1223478018029724\n",
      "Losses Train 4 : 0.11203400412752434\n"
     ]
    },
    {
     "name": "stderr",
     "output_type": "stream",
     "text": [
      "100%|██████████| 81/81 [00:11<00:00,  7.05it/s]\n"
     ]
    },
    {
     "name": "stdout",
     "output_type": "stream",
     "text": [
      "Len Val Data :  1290\n",
      "Losses Validate 0 : 0.1368993936814079\n",
      "Losses Validate 1 : 0.19948169727658116\n",
      "Losses Validate 2 : 0.1064998513968416\n",
      "Losses Validate 3 : 0.1780260649069335\n",
      "Losses Validate 4 : 0.1050133970125701\n",
      "Epoch : 5 / 10\n"
     ]
    },
    {
     "name": "stderr",
     "output_type": "stream",
     "text": [
      "100%|██████████| 186/186 [01:20<00:00,  2.31it/s]\n"
     ]
    },
    {
     "name": "stdout",
     "output_type": "stream",
     "text": [
      "Len Train Data :  2961\n",
      "Losses Train 0 : 0.0934133510640327\n",
      "Losses Train 1 : 0.1618078052393692\n",
      "Losses Train 2 : 0.0888663198810218\n",
      "Losses Train 3 : 0.08845516139492317\n",
      "Losses Train 4 : 0.08961047727849909\n"
     ]
    },
    {
     "name": "stderr",
     "output_type": "stream",
     "text": [
      "100%|██████████| 81/81 [00:11<00:00,  7.12it/s]\n"
     ]
    },
    {
     "name": "stdout",
     "output_type": "stream",
     "text": [
      "Len Val Data :  1290\n",
      "Losses Validate 0 : 0.1353269134034482\n",
      "Losses Validate 1 : 0.19795697982921157\n",
      "Losses Validate 2 : 0.0913473130196564\n",
      "Losses Validate 3 : 0.18576996185520822\n",
      "Losses Validate 4 : 0.09427267966806427\n",
      "Epoch : 6 / 10\n"
     ]
    },
    {
     "name": "stderr",
     "output_type": "stream",
     "text": [
      "100%|██████████| 186/186 [01:19<00:00,  2.33it/s]\n"
     ]
    },
    {
     "name": "stdout",
     "output_type": "stream",
     "text": [
      "Len Train Data :  2961\n",
      "Losses Train 0 : 0.07781652715692484\n",
      "Losses Train 1 : 0.13550140740137895\n",
      "Losses Train 2 : 0.07901156070424833\n",
      "Losses Train 3 : 0.07772416583954664\n",
      "Losses Train 4 : 0.07426302673968863\n"
     ]
    },
    {
     "name": "stderr",
     "output_type": "stream",
     "text": [
      "100%|██████████| 81/81 [00:11<00:00,  7.15it/s]\n"
     ]
    },
    {
     "name": "stdout",
     "output_type": "stream",
     "text": [
      "Len Val Data :  1290\n",
      "Losses Validate 0 : 0.15463686610839164\n",
      "Losses Validate 1 : 0.1904715933540995\n",
      "Losses Validate 2 : 0.09547653456991033\n",
      "Losses Validate 3 : 0.1819573431745056\n",
      "Losses Validate 4 : 0.09978338184282762\n",
      "Epoch : 7 / 10\n"
     ]
    },
    {
     "name": "stderr",
     "output_type": "stream",
     "text": [
      "100%|██████████| 186/186 [01:19<00:00,  2.33it/s]\n"
     ]
    },
    {
     "name": "stdout",
     "output_type": "stream",
     "text": [
      "Len Train Data :  2961\n",
      "Losses Train 0 : 0.06327435359162521\n",
      "Losses Train 1 : 0.11167461884782669\n",
      "Losses Train 2 : 0.06106570275479658\n",
      "Losses Train 3 : 0.05825716580180291\n",
      "Losses Train 4 : 0.056663300068303564\n"
     ]
    },
    {
     "name": "stderr",
     "output_type": "stream",
     "text": [
      "100%|██████████| 81/81 [00:11<00:00,  7.13it/s]\n"
     ]
    },
    {
     "name": "stdout",
     "output_type": "stream",
     "text": [
      "Len Val Data :  1290\n",
      "Losses Validate 0 : 0.17856808382180311\n",
      "Losses Validate 1 : 0.2083480201950369\n",
      "Losses Validate 2 : 0.08986396520405776\n",
      "Losses Validate 3 : 0.1946590256090312\n",
      "Losses Validate 4 : 0.11112044936464738\n",
      "Epoch : 8 / 10\n"
     ]
    },
    {
     "name": "stderr",
     "output_type": "stream",
     "text": [
      "100%|██████████| 186/186 [01:19<00:00,  2.33it/s]\n"
     ]
    },
    {
     "name": "stdout",
     "output_type": "stream",
     "text": [
      "Len Train Data :  2961\n",
      "Losses Train 0 : 0.05671080693285516\n",
      "Losses Train 1 : 0.08646253623981727\n",
      "Losses Train 2 : 0.05438890499627417\n",
      "Losses Train 3 : 0.04793105015517972\n",
      "Losses Train 4 : 0.051804684145311294\n"
     ]
    },
    {
     "name": "stderr",
     "output_type": "stream",
     "text": [
      "100%|██████████| 81/81 [00:11<00:00,  7.13it/s]\n"
     ]
    },
    {
     "name": "stdout",
     "output_type": "stream",
     "text": [
      "Len Val Data :  1290\n",
      "Losses Validate 0 : 0.1435113594513531\n",
      "Losses Validate 1 : 0.20265100940253383\n",
      "Losses Validate 2 : 0.08972451646429623\n",
      "Losses Validate 3 : 0.19359357622704765\n",
      "Losses Validate 4 : 0.09033125224270562\n",
      "Epoch : 9 / 10\n"
     ]
    },
    {
     "name": "stderr",
     "output_type": "stream",
     "text": [
      "100%|██████████| 186/186 [01:19<00:00,  2.33it/s]\n"
     ]
    },
    {
     "name": "stdout",
     "output_type": "stream",
     "text": [
      "Len Train Data :  2961\n",
      "Losses Train 0 : 0.04709304450976209\n",
      "Losses Train 1 : 0.07198431402475035\n",
      "Losses Train 2 : 0.04611071911525662\n",
      "Losses Train 3 : 0.04548282441719285\n",
      "Losses Train 4 : 0.040527228204352915\n"
     ]
    },
    {
     "name": "stderr",
     "output_type": "stream",
     "text": [
      "100%|██████████| 81/81 [00:11<00:00,  7.16it/s]\n"
     ]
    },
    {
     "name": "stdout",
     "output_type": "stream",
     "text": [
      "Len Val Data :  1290\n",
      "Losses Validate 0 : 0.1478361605211746\n",
      "Losses Validate 1 : 0.21979782394198485\n",
      "Losses Validate 2 : 0.09220056584639143\n",
      "Losses Validate 3 : 0.22901100691898849\n",
      "Losses Validate 4 : 0.08372508979351946\n",
      "Epoch : 10 / 10\n"
     ]
    },
    {
     "name": "stderr",
     "output_type": "stream",
     "text": [
      "100%|██████████| 186/186 [01:19<00:00,  2.33it/s]\n"
     ]
    },
    {
     "name": "stdout",
     "output_type": "stream",
     "text": [
      "Len Train Data :  2961\n",
      "Losses Train 0 : 0.04358272895101195\n",
      "Losses Train 1 : 0.05923632686100309\n",
      "Losses Train 2 : 0.04021372459640136\n",
      "Losses Train 3 : 0.040540856863751036\n",
      "Losses Train 4 : 0.03725059264537975\n"
     ]
    },
    {
     "name": "stderr",
     "output_type": "stream",
     "text": [
      "100%|██████████| 81/81 [00:11<00:00,  7.19it/s]"
     ]
    },
    {
     "name": "stdout",
     "output_type": "stream",
     "text": [
      "Len Val Data :  1290\n",
      "Losses Validate 0 : 0.17820995669494302\n",
      "Losses Validate 1 : 0.20906467932139255\n",
      "Losses Validate 2 : 0.09112591475479362\n",
      "Losses Validate 3 : 0.21557203036870143\n",
      "Losses Validate 4 : 0.09349847965000212\n"
     ]
    },
    {
     "name": "stderr",
     "output_type": "stream",
     "text": [
      "\n"
     ]
    }
   ],
   "source": [
    "ins.train()"
   ]
  },
  {
   "cell_type": "code",
   "execution_count": 6,
   "metadata": {},
   "outputs": [
    {
     "name": "stdout",
     "output_type": "stream",
     "text": [
      "[[0.9163114  0.9654717  0.99790263 0.01420024 0.01952389]]\n"
     ]
    }
   ],
   "source": [
    "# key=['AMBIENCE', 'QUALITY', 'PRICES', 'LOCATION', 'SERVICE']\n",
    "str = 'Ở đây cà phê ngon, rẻ, mát mẻ'\n",
    "\n",
    "\n",
    "ins.prediction(str)"
   ]
  }
 ],
 "metadata": {
  "kernelspec": {
   "display_name": "ml",
   "language": "python",
   "name": "python3"
  },
  "language_info": {
   "codemirror_mode": {
    "name": "ipython",
    "version": 3
   },
   "file_extension": ".py",
   "mimetype": "text/x-python",
   "name": "python",
   "nbconvert_exporter": "python",
   "pygments_lexer": "ipython3",
   "version": "3.11.5"
  }
 },
 "nbformat": 4,
 "nbformat_minor": 2
}
