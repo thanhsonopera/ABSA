{
 "cells": [
  {
   "cell_type": "code",
   "execution_count": 1,
   "metadata": {},
   "outputs": [],
   "source": [
    "import pandas as pd\n",
    "import numpy as np"
   ]
  },
  {
   "cell_type": "markdown",
   "metadata": {},
   "source": [
    "### Restaurant"
   ]
  },
  {
   "cell_type": "code",
   "execution_count": 2,
   "metadata": {},
   "outputs": [],
   "source": [
    "data = pd.read_csv(r\"datasets\\vlsp2018_restaurant\\1-VLSP2018-SA-Restaurant-train.csv\")\n",
    "# data = pd.read_csv(r\"datasets\\vlsp2018_restaurant\\3-VLSP2018-SA-Restaurant-test.csv\")\n",
    "# data = pd.read_csv(r\"datasets\\vlsp2018_restaurant\\2-VLSP2018-SA-Restaurant-dev.csv\")\n"
   ]
  },
  {
   "cell_type": "code",
   "execution_count": 3,
   "metadata": {},
   "outputs": [
    {
     "data": {
      "text/html": [
       "<div>\n",
       "<style scoped>\n",
       "    .dataframe tbody tr th:only-of-type {\n",
       "        vertical-align: middle;\n",
       "    }\n",
       "\n",
       "    .dataframe tbody tr th {\n",
       "        vertical-align: top;\n",
       "    }\n",
       "\n",
       "    .dataframe thead th {\n",
       "        text-align: right;\n",
       "    }\n",
       "</style>\n",
       "<table border=\"1\" class=\"dataframe\">\n",
       "  <thead>\n",
       "    <tr style=\"text-align: right;\">\n",
       "      <th></th>\n",
       "      <th>Review</th>\n",
       "      <th>AMBIENCE#GENERAL</th>\n",
       "      <th>DRINKS#PRICES</th>\n",
       "      <th>DRINKS#QUALITY</th>\n",
       "      <th>DRINKS#STYLE&amp;OPTIONS</th>\n",
       "      <th>FOOD#PRICES</th>\n",
       "      <th>FOOD#QUALITY</th>\n",
       "      <th>FOOD#STYLE&amp;OPTIONS</th>\n",
       "      <th>LOCATION#GENERAL</th>\n",
       "      <th>RESTAURANT#GENERAL</th>\n",
       "      <th>RESTAURANT#MISCELLANEOUS</th>\n",
       "      <th>RESTAURANT#PRICES</th>\n",
       "      <th>SERVICE#GENERAL</th>\n",
       "    </tr>\n",
       "  </thead>\n",
       "  <tbody>\n",
       "    <tr>\n",
       "      <th>0</th>\n",
       "      <td>_ Ảnh chụp từ hôm qua, đi chơi với gia đình và...</td>\n",
       "      <td>0</td>\n",
       "      <td>0</td>\n",
       "      <td>0</td>\n",
       "      <td>0</td>\n",
       "      <td>0</td>\n",
       "      <td>3</td>\n",
       "      <td>3</td>\n",
       "      <td>0</td>\n",
       "      <td>0</td>\n",
       "      <td>0</td>\n",
       "      <td>0</td>\n",
       "      <td>0</td>\n",
       "    </tr>\n",
       "    <tr>\n",
       "      <th>1</th>\n",
       "      <td>_Hương vị thơm ngon, ăn cay cay rất thích, nêm...</td>\n",
       "      <td>1</td>\n",
       "      <td>0</td>\n",
       "      <td>0</td>\n",
       "      <td>0</td>\n",
       "      <td>3</td>\n",
       "      <td>1</td>\n",
       "      <td>1</td>\n",
       "      <td>0</td>\n",
       "      <td>1</td>\n",
       "      <td>0</td>\n",
       "      <td>3</td>\n",
       "      <td>2</td>\n",
       "    </tr>\n",
       "    <tr>\n",
       "      <th>2</th>\n",
       "      <td>- 1 bàn tiệc hoành tráng 3 đứa ăn no muốn tắt ...</td>\n",
       "      <td>2</td>\n",
       "      <td>0</td>\n",
       "      <td>0</td>\n",
       "      <td>0</td>\n",
       "      <td>1</td>\n",
       "      <td>1</td>\n",
       "      <td>1</td>\n",
       "      <td>2</td>\n",
       "      <td>1</td>\n",
       "      <td>1</td>\n",
       "      <td>0</td>\n",
       "      <td>1</td>\n",
       "    </tr>\n",
       "  </tbody>\n",
       "</table>\n",
       "</div>"
      ],
      "text/plain": [
       "                                              Review  AMBIENCE#GENERAL  \\\n",
       "0  _ Ảnh chụp từ hôm qua, đi chơi với gia đình và...                 0   \n",
       "1  _Hương vị thơm ngon, ăn cay cay rất thích, nêm...                 1   \n",
       "2  - 1 bàn tiệc hoành tráng 3 đứa ăn no muốn tắt ...                 2   \n",
       "\n",
       "   DRINKS#PRICES  DRINKS#QUALITY  DRINKS#STYLE&OPTIONS  FOOD#PRICES  \\\n",
       "0              0               0                     0            0   \n",
       "1              0               0                     0            3   \n",
       "2              0               0                     0            1   \n",
       "\n",
       "   FOOD#QUALITY  FOOD#STYLE&OPTIONS  LOCATION#GENERAL  RESTAURANT#GENERAL  \\\n",
       "0             3                   3                 0                   0   \n",
       "1             1                   1                 0                   1   \n",
       "2             1                   1                 2                   1   \n",
       "\n",
       "   RESTAURANT#MISCELLANEOUS  RESTAURANT#PRICES  SERVICE#GENERAL  \n",
       "0                         0                  0                0  \n",
       "1                         0                  3                2  \n",
       "2                         1                  0                1  "
      ]
     },
     "execution_count": 3,
     "metadata": {},
     "output_type": "execute_result"
    }
   ],
   "source": [
    "data.head(3)"
   ]
  },
  {
   "cell_type": "code",
   "execution_count": 4,
   "metadata": {},
   "outputs": [
    {
     "name": "stdout",
     "output_type": "stream",
     "text": [
      "<class 'pandas.core.frame.DataFrame'>\n",
      "RangeIndex: 2961 entries, 0 to 2960\n",
      "Data columns (total 13 columns):\n",
      " #   Column                    Non-Null Count  Dtype \n",
      "---  ------                    --------------  ----- \n",
      " 0   Review                    2961 non-null   object\n",
      " 1   AMBIENCE#GENERAL          2961 non-null   int64 \n",
      " 2   DRINKS#PRICES             2961 non-null   int64 \n",
      " 3   DRINKS#QUALITY            2961 non-null   int64 \n",
      " 4   DRINKS#STYLE&OPTIONS      2961 non-null   int64 \n",
      " 5   FOOD#PRICES               2961 non-null   int64 \n",
      " 6   FOOD#QUALITY              2961 non-null   int64 \n",
      " 7   FOOD#STYLE&OPTIONS        2961 non-null   int64 \n",
      " 8   LOCATION#GENERAL          2961 non-null   int64 \n",
      " 9   RESTAURANT#GENERAL        2961 non-null   int64 \n",
      " 10  RESTAURANT#MISCELLANEOUS  2961 non-null   int64 \n",
      " 11  RESTAURANT#PRICES         2961 non-null   int64 \n",
      " 12  SERVICE#GENERAL           2961 non-null   int64 \n",
      "dtypes: int64(12), object(1)\n",
      "memory usage: 300.9+ KB\n"
     ]
    },
    {
     "data": {
      "text/plain": [
       "(Index(['Review', 'AMBIENCE#GENERAL', 'DRINKS#PRICES', 'DRINKS#QUALITY',\n",
       "        'DRINKS#STYLE&OPTIONS', 'FOOD#PRICES', 'FOOD#QUALITY',\n",
       "        'FOOD#STYLE&OPTIONS', 'LOCATION#GENERAL', 'RESTAURANT#GENERAL',\n",
       "        'RESTAURANT#MISCELLANEOUS', 'RESTAURANT#PRICES', 'SERVICE#GENERAL'],\n",
       "       dtype='object'),\n",
       " None)"
      ]
     },
     "execution_count": 4,
     "metadata": {},
     "output_type": "execute_result"
    }
   ],
   "source": [
    "data.columns, data.info()"
   ]
  },
  {
   "cell_type": "code",
   "execution_count": 5,
   "metadata": {},
   "outputs": [],
   "source": [
    "def PriceMerge(row, data, key):\n",
    "    value = np.zeros(len(key))\n",
    "    cols = np.array(data.columns)[1:]\n",
    "    label = np.array(row)[1:]\n",
    "    dt = pd.DataFrame([value], columns=key, dtype=int)\n",
    "    for i, col in enumerate(cols):\n",
    "        for k in key:\n",
    "            if k in col:\n",
    "                if (label[i] > 0):\n",
    "                    dt[k] = 1\n",
    "    \n",
    "    return dt"
   ]
  },
  {
   "cell_type": "code",
   "execution_count": 6,
   "metadata": {},
   "outputs": [
    {
     "name": "stdout",
     "output_type": "stream",
     "text": [
      "                                              Review  AMBIENCE  QUALITY  \\\n",
      "0  _ Ảnh chụp từ hôm qua, đi chơi với gia đình và...         0        1   \n",
      "1  _Hương vị thơm ngon, ăn cay cay rất thích, nêm...         1        1   \n",
      "2  - 1 bàn tiệc hoành tráng 3 đứa ăn no muốn tắt ...         1        1   \n",
      "\n",
      "   PRICES  LOCATION  SERVICE  \n",
      "0       0         0        0  \n",
      "1       1         0        1  \n",
      "2       1         1        1  \n"
     ]
    }
   ],
   "source": [
    "key = ['Review', 'AMBIENCE', 'QUALITY', 'PRICES', 'LOCATION', 'SERVICE']\n",
    "newCol = data.apply(lambda row : PriceMerge(row, data, key[1:]), axis=1)\n",
    "result_df = pd.concat([data, pd.concat(newCol.values).reset_index(drop=True)], axis=1)\n",
    "result_df = result_df[key]\n",
    "print(result_df.head(3))"
   ]
  },
  {
   "cell_type": "code",
   "execution_count": 8,
   "metadata": {},
   "outputs": [],
   "source": [
    "result_df.to_csv(r'relabel\\restaurant\\Restaurant-train.csv', index=False)\n",
    "# result_df.to_csv(r'relabel\\restaurant\\Restaurant-dev.csv', index=False)\n",
    "# result_df.to_csv(r'relabel\\restaurant\\Restaurant-test.csv', index=False)"
   ]
  },
  {
   "cell_type": "code",
   "execution_count": 43,
   "metadata": {},
   "outputs": [],
   "source": [
    "data_train_change = pd.read_csv(r'relabel\\restaurant\\Restaurant-train.csv')\n",
    "data_dev_change = pd.read_csv(r'relabel\\restaurant\\Restaurant-dev.csv')\n",
    "data_test_change = pd.read_csv(r'relabel\\restaurant\\Restaurant-test.csv')"
   ]
  },
  {
   "cell_type": "code",
   "execution_count": 44,
   "metadata": {},
   "outputs": [
    {
     "data": {
      "text/plain": [
       "(373, 795, 737, 2686, 1648)"
      ]
     },
     "execution_count": 44,
     "metadata": {},
     "output_type": "execute_result"
    }
   ],
   "source": [
    "data_train_change['LOCATION'].sum(), data_train_change['SERVICE'].sum(), data_train_change['AMBIENCE'].sum(), data_train_change['QUALITY'].sum(), data_train_change['PRICES'].sum()"
   ]
  },
  {
   "cell_type": "code",
   "execution_count": 45,
   "metadata": {},
   "outputs": [
    {
     "data": {
      "text/plain": [
       "(134, 228, 205, 1170, 768)"
      ]
     },
     "execution_count": 45,
     "metadata": {},
     "output_type": "execute_result"
    }
   ],
   "source": [
    "data_dev_change['LOCATION'].sum(), data_dev_change['SERVICE'].sum(), data_dev_change['AMBIENCE'].sum(), data_dev_change['QUALITY'].sum(), data_dev_change['PRICES'].sum()"
   ]
  },
  {
   "cell_type": "code",
   "execution_count": 46,
   "metadata": {},
   "outputs": [
    {
     "data": {
      "text/plain": [
       "(179, 175, 255, 474, 405)"
      ]
     },
     "execution_count": 46,
     "metadata": {},
     "output_type": "execute_result"
    }
   ],
   "source": [
    "data_test_change['LOCATION'].sum(), data_test_change['SERVICE'].sum(), data_test_change['AMBIENCE'].sum(), data_test_change['QUALITY'].sum(), data_test_change['PRICES'].sum()"
   ]
  },
  {
   "cell_type": "markdown",
   "metadata": {},
   "source": [
    "### Hotel"
   ]
  },
  {
   "cell_type": "code",
   "execution_count": 35,
   "metadata": {},
   "outputs": [],
   "source": [
    "# data = pd.read_csv(r\"datasets\\vlsp2018_hotel\\1-VLSP2018-SA-Hotel-train.csv\")\n",
    "# data = pd.read_csv(r\"datasets\\vlsp2018_hotel\\2-VLSP2018-SA-Hotel-dev.csv\")\n",
    "data = pd.read_csv(r\"datasets\\vlsp2018_hotel\\3-VLSP2018-SA-Hotel-test.csv\")"
   ]
  },
  {
   "cell_type": "code",
   "execution_count": null,
   "metadata": {},
   "outputs": [],
   "source": [
    "data.head(3)"
   ]
  },
  {
   "cell_type": "code",
   "execution_count": null,
   "metadata": {},
   "outputs": [],
   "source": [
    "data.columns, data.info()"
   ]
  },
  {
   "cell_type": "code",
   "execution_count": 36,
   "metadata": {},
   "outputs": [],
   "source": [
    "def PriceMerge(row, data, key):\n",
    "    value = np.zeros(len(key))\n",
    "    cols = np.array(data.columns)[1:]\n",
    "    label = np.array(row)[1:]\n",
    "    dt = pd.DataFrame([value], columns=key, dtype=int)\n",
    "    for i, col in enumerate(cols):\n",
    "        for k in key:\n",
    "            kp = 'XXXXX'\n",
    "            if k == 'AMBIENCE': \n",
    "                kp = 'ROOM_AMENITIES'\n",
    "            if k == 'QUALITY':\n",
    "                kp = 'FACILITIES'\n",
    "            if (k in col) or (kp in col):\n",
    "                if (label[i] > 0):\n",
    "                    dt[k] = 1\n",
    "    \n",
    "    return dt"
   ]
  },
  {
   "cell_type": "code",
   "execution_count": 37,
   "metadata": {},
   "outputs": [
    {
     "name": "stdout",
     "output_type": "stream",
     "text": [
      "                                              Review  AMBIENCE  QUALITY  \\\n",
      "0  Ga giường không sạch, nhân viên quên dọn ph...         1        0   \n",
      "1  Nv nhiệt tình, phòng ở sạch sẽ, tiện nghi, vị ...         0        0   \n",
      "2  Đi bộ ra biển gần, tiện đi lại Phòng view biển...         0        0   \n",
      "\n",
      "   PRICES  LOCATION  SERVICE  \n",
      "0       0         0        1  \n",
      "1       0         1        1  \n",
      "2       0         1        0  \n"
     ]
    }
   ],
   "source": [
    "key = ['Review', 'AMBIENCE', 'QUALITY', 'PRICES', 'LOCATION', 'SERVICE']\n",
    "newCol = data.apply(lambda row : PriceMerge(row, data, key[1:]), axis=1)\n",
    "result_df = pd.concat([data, pd.concat(newCol.values).reset_index(drop=True)], axis=1)\n",
    "result_df = result_df[key]\n",
    "print(result_df.head(3))"
   ]
  },
  {
   "cell_type": "code",
   "execution_count": 38,
   "metadata": {},
   "outputs": [],
   "source": [
    "# result_df.to_csv(r'relabel\\hotel\\Hotel-train.csv', index=False)\n",
    "# result_df.to_csv(r'relabel\\hotel\\Hotel-dev.csv', index=False)\n",
    "result_df.to_csv(r'relabel\\hotel\\Hotel-test.csv', index=False)"
   ]
  },
  {
   "cell_type": "code",
   "execution_count": 39,
   "metadata": {},
   "outputs": [],
   "source": [
    "data_train_change = pd.read_csv(r'relabel\\hotel\\Hotel-train.csv')\n",
    "data_dev_change = pd.read_csv(r'relabel\\hotel\\Hotel-dev.csv')\n",
    "data_test_change = pd.read_csv(r'relabel\\hotel\\Hotel-test.csv')"
   ]
  },
  {
   "cell_type": "code",
   "execution_count": 40,
   "metadata": {},
   "outputs": [
    {
     "data": {
      "text/plain": [
       "(738, 1632, 814, 1196, 1912)"
      ]
     },
     "execution_count": 40,
     "metadata": {},
     "output_type": "execute_result"
    }
   ],
   "source": [
    "data_train_change['AMBIENCE'].sum(), data_train_change['QUALITY'].sum(), data_train_change['PRICES'].sum(), data_train_change['LOCATION'].sum(), data_train_change['SERVICE'].sum()"
   ]
  },
  {
   "cell_type": "code",
   "execution_count": 41,
   "metadata": {},
   "outputs": [
    {
     "data": {
      "text/plain": [
       "(669, 826, 245, 567, 1311)"
      ]
     },
     "execution_count": 41,
     "metadata": {},
     "output_type": "execute_result"
    }
   ],
   "source": [
    "data_dev_change['AMBIENCE'].sum(), data_dev_change['QUALITY'].sum(), data_dev_change['PRICES'].sum(), data_dev_change['LOCATION'].sum(), data_dev_change['SERVICE'].sum()"
   ]
  },
  {
   "cell_type": "code",
   "execution_count": 42,
   "metadata": {},
   "outputs": [
    {
     "data": {
      "text/plain": [
       "(242, 293, 119, 221, 416)"
      ]
     },
     "execution_count": 42,
     "metadata": {},
     "output_type": "execute_result"
    }
   ],
   "source": [
    "data_test_change['AMBIENCE'].sum(), data_test_change['QUALITY'].sum(), data_test_change['PRICES'].sum(), data_test_change['LOCATION'].sum(), data_test_change['SERVICE'].sum()"
   ]
  }
 ],
 "metadata": {
  "kernelspec": {
   "display_name": "ml",
   "language": "python",
   "name": "python3"
  },
  "language_info": {
   "codemirror_mode": {
    "name": "ipython",
    "version": 3
   },
   "file_extension": ".py",
   "mimetype": "text/x-python",
   "name": "python",
   "nbconvert_exporter": "python",
   "pygments_lexer": "ipython3",
   "version": "3.11.5"
  }
 },
 "nbformat": 4,
 "nbformat_minor": 2
}
