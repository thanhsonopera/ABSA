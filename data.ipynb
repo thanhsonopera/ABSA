{
 "cells": [
  {
   "cell_type": "code",
   "execution_count": 2,
   "metadata": {},
   "outputs": [],
   "source": [
    "import pandas as pd\n",
    "import numpy as np"
   ]
  },
  {
   "cell_type": "code",
   "execution_count": 33,
   "metadata": {},
   "outputs": [],
   "source": [
    "# data = pd.read_csv(r\"datasets\\vlsp2018_restaurant\\1-VLSP2018-SA-Restaurant-train.csv\")\n",
    "# data = pd.read_csv(r\"datasets\\vlsp2018_restaurant\\3-VLSP2018-SA-Restaurant-test.csv\")\n",
    "# data = pd.read_csv(r\"datasets\\vlsp2018_restaurant\\2-VLSP2018-SA-Restaurant-dev.csv\")\n",
    "data = pd.read_csv(r\"datasets\\vlsp2018_hotel\\1-VLSP2018-SA-Hotel-train.csv\")\n"
   ]
  },
  {
   "cell_type": "code",
   "execution_count": 34,
   "metadata": {},
   "outputs": [
    {
     "data": {
      "text/html": [
       "<div>\n",
       "<style scoped>\n",
       "    .dataframe tbody tr th:only-of-type {\n",
       "        vertical-align: middle;\n",
       "    }\n",
       "\n",
       "    .dataframe tbody tr th {\n",
       "        vertical-align: top;\n",
       "    }\n",
       "\n",
       "    .dataframe thead th {\n",
       "        text-align: right;\n",
       "    }\n",
       "</style>\n",
       "<table border=\"1\" class=\"dataframe\">\n",
       "  <thead>\n",
       "    <tr style=\"text-align: right;\">\n",
       "      <th></th>\n",
       "      <th>Review</th>\n",
       "      <th>FACILITIES#CLEANLINESS</th>\n",
       "      <th>FACILITIES#COMFORT</th>\n",
       "      <th>FACILITIES#DESIGN&amp;FEATURES</th>\n",
       "      <th>FACILITIES#GENERAL</th>\n",
       "      <th>FACILITIES#MISCELLANEOUS</th>\n",
       "      <th>FACILITIES#PRICES</th>\n",
       "      <th>FACILITIES#QUALITY</th>\n",
       "      <th>FOOD&amp;DRINKS#MISCELLANEOUS</th>\n",
       "      <th>FOOD&amp;DRINKS#PRICES</th>\n",
       "      <th>...</th>\n",
       "      <th>ROOMS#PRICES</th>\n",
       "      <th>ROOMS#QUALITY</th>\n",
       "      <th>ROOM_AMENITIES#CLEANLINESS</th>\n",
       "      <th>ROOM_AMENITIES#COMFORT</th>\n",
       "      <th>ROOM_AMENITIES#DESIGN&amp;FEATURES</th>\n",
       "      <th>ROOM_AMENITIES#GENERAL</th>\n",
       "      <th>ROOM_AMENITIES#MISCELLANEOUS</th>\n",
       "      <th>ROOM_AMENITIES#PRICES</th>\n",
       "      <th>ROOM_AMENITIES#QUALITY</th>\n",
       "      <th>SERVICE#GENERAL</th>\n",
       "    </tr>\n",
       "  </thead>\n",
       "  <tbody>\n",
       "    <tr>\n",
       "      <th>0</th>\n",
       "      <td>Rộng rãi KS mới nhưng rất vắng. Các dịch vụ ch...</td>\n",
       "      <td>0</td>\n",
       "      <td>0</td>\n",
       "      <td>0</td>\n",
       "      <td>0</td>\n",
       "      <td>0</td>\n",
       "      <td>0</td>\n",
       "      <td>0</td>\n",
       "      <td>0</td>\n",
       "      <td>0</td>\n",
       "      <td>...</td>\n",
       "      <td>0</td>\n",
       "      <td>0</td>\n",
       "      <td>0</td>\n",
       "      <td>0</td>\n",
       "      <td>0</td>\n",
       "      <td>0</td>\n",
       "      <td>0</td>\n",
       "      <td>0</td>\n",
       "      <td>0</td>\n",
       "      <td>0</td>\n",
       "    </tr>\n",
       "    <tr>\n",
       "      <th>1</th>\n",
       "      <td>Địa điểm thuận tiện, trong vòng bán kính 1,5km...</td>\n",
       "      <td>0</td>\n",
       "      <td>0</td>\n",
       "      <td>0</td>\n",
       "      <td>0</td>\n",
       "      <td>0</td>\n",
       "      <td>0</td>\n",
       "      <td>0</td>\n",
       "      <td>0</td>\n",
       "      <td>0</td>\n",
       "      <td>...</td>\n",
       "      <td>0</td>\n",
       "      <td>0</td>\n",
       "      <td>0</td>\n",
       "      <td>0</td>\n",
       "      <td>0</td>\n",
       "      <td>0</td>\n",
       "      <td>0</td>\n",
       "      <td>0</td>\n",
       "      <td>0</td>\n",
       "      <td>0</td>\n",
       "    </tr>\n",
       "    <tr>\n",
       "      <th>2</th>\n",
       "      <td>Phục vụ, view đẹp, vị trí</td>\n",
       "      <td>0</td>\n",
       "      <td>0</td>\n",
       "      <td>0</td>\n",
       "      <td>0</td>\n",
       "      <td>0</td>\n",
       "      <td>0</td>\n",
       "      <td>0</td>\n",
       "      <td>0</td>\n",
       "      <td>0</td>\n",
       "      <td>...</td>\n",
       "      <td>0</td>\n",
       "      <td>0</td>\n",
       "      <td>0</td>\n",
       "      <td>0</td>\n",
       "      <td>0</td>\n",
       "      <td>0</td>\n",
       "      <td>0</td>\n",
       "      <td>0</td>\n",
       "      <td>0</td>\n",
       "      <td>1</td>\n",
       "    </tr>\n",
       "  </tbody>\n",
       "</table>\n",
       "<p>3 rows × 35 columns</p>\n",
       "</div>"
      ],
      "text/plain": [
       "                                              Review  FACILITIES#CLEANLINESS  \\\n",
       "0  Rộng rãi KS mới nhưng rất vắng. Các dịch vụ ch...                       0   \n",
       "1  Địa điểm thuận tiện, trong vòng bán kính 1,5km...                       0   \n",
       "2                          Phục vụ, view đẹp, vị trí                       0   \n",
       "\n",
       "   FACILITIES#COMFORT  FACILITIES#DESIGN&FEATURES  FACILITIES#GENERAL  \\\n",
       "0                   0                           0                   0   \n",
       "1                   0                           0                   0   \n",
       "2                   0                           0                   0   \n",
       "\n",
       "   FACILITIES#MISCELLANEOUS  FACILITIES#PRICES  FACILITIES#QUALITY  \\\n",
       "0                         0                  0                   0   \n",
       "1                         0                  0                   0   \n",
       "2                         0                  0                   0   \n",
       "\n",
       "   FOOD&DRINKS#MISCELLANEOUS  FOOD&DRINKS#PRICES  ...  ROOMS#PRICES  \\\n",
       "0                          0                   0  ...             0   \n",
       "1                          0                   0  ...             0   \n",
       "2                          0                   0  ...             0   \n",
       "\n",
       "   ROOMS#QUALITY  ROOM_AMENITIES#CLEANLINESS  ROOM_AMENITIES#COMFORT  \\\n",
       "0              0                           0                       0   \n",
       "1              0                           0                       0   \n",
       "2              0                           0                       0   \n",
       "\n",
       "   ROOM_AMENITIES#DESIGN&FEATURES  ROOM_AMENITIES#GENERAL  \\\n",
       "0                               0                       0   \n",
       "1                               0                       0   \n",
       "2                               0                       0   \n",
       "\n",
       "   ROOM_AMENITIES#MISCELLANEOUS  ROOM_AMENITIES#PRICES  \\\n",
       "0                             0                      0   \n",
       "1                             0                      0   \n",
       "2                             0                      0   \n",
       "\n",
       "   ROOM_AMENITIES#QUALITY  SERVICE#GENERAL  \n",
       "0                       0                0  \n",
       "1                       0                0  \n",
       "2                       0                1  \n",
       "\n",
       "[3 rows x 35 columns]"
      ]
     },
     "execution_count": 34,
     "metadata": {},
     "output_type": "execute_result"
    }
   ],
   "source": [
    "data.head(3)"
   ]
  },
  {
   "cell_type": "code",
   "execution_count": 35,
   "metadata": {},
   "outputs": [
    {
     "name": "stdout",
     "output_type": "stream",
     "text": [
      "<class 'pandas.core.frame.DataFrame'>\n",
      "RangeIndex: 3000 entries, 0 to 2999\n",
      "Data columns (total 35 columns):\n",
      " #   Column                          Non-Null Count  Dtype \n",
      "---  ------                          --------------  ----- \n",
      " 0   Review                          3000 non-null   object\n",
      " 1   FACILITIES#CLEANLINESS          3000 non-null   int64 \n",
      " 2   FACILITIES#COMFORT              3000 non-null   int64 \n",
      " 3   FACILITIES#DESIGN&FEATURES      3000 non-null   int64 \n",
      " 4   FACILITIES#GENERAL              3000 non-null   int64 \n",
      " 5   FACILITIES#MISCELLANEOUS        3000 non-null   int64 \n",
      " 6   FACILITIES#PRICES               3000 non-null   int64 \n",
      " 7   FACILITIES#QUALITY              3000 non-null   int64 \n",
      " 8   FOOD&DRINKS#MISCELLANEOUS       3000 non-null   int64 \n",
      " 9   FOOD&DRINKS#PRICES              3000 non-null   int64 \n",
      " 10  FOOD&DRINKS#QUALITY             3000 non-null   int64 \n",
      " 11  FOOD&DRINKS#STYLE&OPTIONS       3000 non-null   int64 \n",
      " 12  HOTEL#CLEANLINESS               3000 non-null   int64 \n",
      " 13  HOTEL#COMFORT                   3000 non-null   int64 \n",
      " 14  HOTEL#DESIGN&FEATURES           3000 non-null   int64 \n",
      " 15  HOTEL#GENERAL                   3000 non-null   int64 \n",
      " 16  HOTEL#MISCELLANEOUS             3000 non-null   int64 \n",
      " 17  HOTEL#PRICES                    3000 non-null   int64 \n",
      " 18  HOTEL#QUALITY                   3000 non-null   int64 \n",
      " 19  LOCATION#GENERAL                3000 non-null   int64 \n",
      " 20  ROOMS#CLEANLINESS               3000 non-null   int64 \n",
      " 21  ROOMS#COMFORT                   3000 non-null   int64 \n",
      " 22  ROOMS#DESIGN&FEATURES           3000 non-null   int64 \n",
      " 23  ROOMS#GENERAL                   3000 non-null   int64 \n",
      " 24  ROOMS#MISCELLANEOUS             3000 non-null   int64 \n",
      " 25  ROOMS#PRICES                    3000 non-null   int64 \n",
      " 26  ROOMS#QUALITY                   3000 non-null   int64 \n",
      " 27  ROOM_AMENITIES#CLEANLINESS      3000 non-null   int64 \n",
      " 28  ROOM_AMENITIES#COMFORT          3000 non-null   int64 \n",
      " 29  ROOM_AMENITIES#DESIGN&FEATURES  3000 non-null   int64 \n",
      " 30  ROOM_AMENITIES#GENERAL          3000 non-null   int64 \n",
      " 31  ROOM_AMENITIES#MISCELLANEOUS    3000 non-null   int64 \n",
      " 32  ROOM_AMENITIES#PRICES           3000 non-null   int64 \n",
      " 33  ROOM_AMENITIES#QUALITY          3000 non-null   int64 \n",
      " 34  SERVICE#GENERAL                 3000 non-null   int64 \n",
      "dtypes: int64(34), object(1)\n",
      "memory usage: 820.4+ KB\n"
     ]
    },
    {
     "data": {
      "text/plain": [
       "(Index(['Review', 'FACILITIES#CLEANLINESS', 'FACILITIES#COMFORT',\n",
       "        'FACILITIES#DESIGN&FEATURES', 'FACILITIES#GENERAL',\n",
       "        'FACILITIES#MISCELLANEOUS', 'FACILITIES#PRICES', 'FACILITIES#QUALITY',\n",
       "        'FOOD&DRINKS#MISCELLANEOUS', 'FOOD&DRINKS#PRICES',\n",
       "        'FOOD&DRINKS#QUALITY', 'FOOD&DRINKS#STYLE&OPTIONS', 'HOTEL#CLEANLINESS',\n",
       "        'HOTEL#COMFORT', 'HOTEL#DESIGN&FEATURES', 'HOTEL#GENERAL',\n",
       "        'HOTEL#MISCELLANEOUS', 'HOTEL#PRICES', 'HOTEL#QUALITY',\n",
       "        'LOCATION#GENERAL', 'ROOMS#CLEANLINESS', 'ROOMS#COMFORT',\n",
       "        'ROOMS#DESIGN&FEATURES', 'ROOMS#GENERAL', 'ROOMS#MISCELLANEOUS',\n",
       "        'ROOMS#PRICES', 'ROOMS#QUALITY', 'ROOM_AMENITIES#CLEANLINESS',\n",
       "        'ROOM_AMENITIES#COMFORT', 'ROOM_AMENITIES#DESIGN&FEATURES',\n",
       "        'ROOM_AMENITIES#GENERAL', 'ROOM_AMENITIES#MISCELLANEOUS',\n",
       "        'ROOM_AMENITIES#PRICES', 'ROOM_AMENITIES#QUALITY', 'SERVICE#GENERAL'],\n",
       "       dtype='object'),\n",
       " None)"
      ]
     },
     "execution_count": 35,
     "metadata": {},
     "output_type": "execute_result"
    }
   ],
   "source": [
    "data.columns, data.info()"
   ]
  },
  {
   "cell_type": "code",
   "execution_count": 36,
   "metadata": {},
   "outputs": [],
   "source": [
    "def PriceMerge(row, data, key):\n",
    "    value = np.zeros(len(key))\n",
    "    cols = np.array(data.columns)[1:]\n",
    "    label = np.array(row)[1:]\n",
    "    dt = pd.DataFrame([value], columns=key, dtype=int)\n",
    "    for i, col in enumerate(cols):\n",
    "        for k in key:\n",
    "            if k in col:\n",
    "                if (label[i] > 0):\n",
    "                    dt[k] = 1\n",
    "    \n",
    "    return dt"
   ]
  },
  {
   "cell_type": "code",
   "execution_count": 37,
   "metadata": {},
   "outputs": [
    {
     "name": "stdout",
     "output_type": "stream",
     "text": [
      "                                              Review  AMBIENCE  QUALITY  \\\n",
      "0  Rộng rãi KS mới nhưng rất vắng. Các dịch vụ ch...         0        0   \n",
      "1  Địa điểm thuận tiện, trong vòng bán kính 1,5km...         0        0   \n",
      "2                          Phục vụ, view đẹp, vị trí         0        0   \n",
      "\n",
      "   PRICES  LOCATION  SERVICE  \n",
      "0       0         0        0  \n",
      "1       0         1        0  \n",
      "2       0         1        1  \n"
     ]
    }
   ],
   "source": [
    "key = ['Review', 'AMBIENCE', 'QUALITY', 'PRICES', 'LOCATION', 'SERVICE']\n",
    "newCol = data.apply(lambda row : PriceMerge(row, data, key[1:]), axis=1)\n",
    "result_df = pd.concat([data, pd.concat(newCol.values).reset_index(drop=True)], axis=1)\n",
    "result_df = result_df[key]\n",
    "print(result_df.head(3))"
   ]
  },
  {
   "cell_type": "code",
   "execution_count": 26,
   "metadata": {},
   "outputs": [],
   "source": [
    "result_df.to_csv('Restaurant-test-reLabel.csv', index=False)"
   ]
  },
  {
   "cell_type": "code",
   "execution_count": 38,
   "metadata": {},
   "outputs": [],
   "source": [
    "result_df.to_csv('Restaurant-train-reLabel.csv', index=False)"
   ]
  },
  {
   "cell_type": "code",
   "execution_count": 18,
   "metadata": {},
   "outputs": [],
   "source": [
    "result_df.to_csv('Restaurant-dev-reLabel.csv', index=False)"
   ]
  }
 ],
 "metadata": {
  "kernelspec": {
   "display_name": "ml",
   "language": "python",
   "name": "python3"
  },
  "language_info": {
   "codemirror_mode": {
    "name": "ipython",
    "version": 3
   },
   "file_extension": ".py",
   "mimetype": "text/x-python",
   "name": "python",
   "nbconvert_exporter": "python",
   "pygments_lexer": "ipython3",
   "version": "3.11.5"
  }
 },
 "nbformat": 4,
 "nbformat_minor": 2
}
