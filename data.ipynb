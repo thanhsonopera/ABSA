{
 "cells": [
  {
   "cell_type": "code",
   "execution_count": 1,
   "metadata": {},
   "outputs": [],
   "source": [
    "import pandas as pd\n",
    "import numpy as np"
   ]
  },
  {
   "cell_type": "markdown",
   "metadata": {},
   "source": [
    "### Restaurant"
   ]
  },
  {
   "cell_type": "code",
   "execution_count": 2,
   "metadata": {},
   "outputs": [],
   "source": [
    "# data = pd.read_csv(r\"datasets\\vlsp2018_restaurant\\1-VLSP2018-SA-Restaurant-train.csv\")\n",
    "data = pd.read_csv(r\"datasets\\vlsp2018_restaurant\\2-VLSP2018-SA-Restaurant-dev.csv\")\n",
    "# data = pd.read_csv(r\"datasets\\vlsp2018_restaurant\\3-VLSP2018-SA-Restaurant-test.csv\")\n"
   ]
  },
  {
   "cell_type": "code",
   "execution_count": 3,
   "metadata": {},
   "outputs": [
    {
     "data": {
      "text/html": [
       "<div>\n",
       "<style scoped>\n",
       "    .dataframe tbody tr th:only-of-type {\n",
       "        vertical-align: middle;\n",
       "    }\n",
       "\n",
       "    .dataframe tbody tr th {\n",
       "        vertical-align: top;\n",
       "    }\n",
       "\n",
       "    .dataframe thead th {\n",
       "        text-align: right;\n",
       "    }\n",
       "</style>\n",
       "<table border=\"1\" class=\"dataframe\">\n",
       "  <thead>\n",
       "    <tr style=\"text-align: right;\">\n",
       "      <th></th>\n",
       "      <th>Review</th>\n",
       "      <th>AMBIENCE#GENERAL</th>\n",
       "      <th>DRINKS#PRICES</th>\n",
       "      <th>DRINKS#QUALITY</th>\n",
       "      <th>DRINKS#STYLE&amp;OPTIONS</th>\n",
       "      <th>FOOD#PRICES</th>\n",
       "      <th>FOOD#QUALITY</th>\n",
       "      <th>FOOD#STYLE&amp;OPTIONS</th>\n",
       "      <th>LOCATION#GENERAL</th>\n",
       "      <th>RESTAURANT#GENERAL</th>\n",
       "      <th>RESTAURANT#MISCELLANEOUS</th>\n",
       "      <th>RESTAURANT#PRICES</th>\n",
       "      <th>SERVICE#GENERAL</th>\n",
       "    </tr>\n",
       "  </thead>\n",
       "  <tbody>\n",
       "    <tr>\n",
       "      <th>0</th>\n",
       "      <td>- 60k/1con- Tu hài to, siêu béo siêu ngon, nướ...</td>\n",
       "      <td>0</td>\n",
       "      <td>0</td>\n",
       "      <td>0</td>\n",
       "      <td>0</td>\n",
       "      <td>1</td>\n",
       "      <td>1</td>\n",
       "      <td>0</td>\n",
       "      <td>0</td>\n",
       "      <td>0</td>\n",
       "      <td>0</td>\n",
       "      <td>0</td>\n",
       "      <td>0</td>\n",
       "    </tr>\n",
       "    <tr>\n",
       "      <th>1</th>\n",
       "      <td>- Ăn hai người no căng :3- Nhiều đồ ăn kèm như...</td>\n",
       "      <td>0</td>\n",
       "      <td>0</td>\n",
       "      <td>0</td>\n",
       "      <td>0</td>\n",
       "      <td>1</td>\n",
       "      <td>0</td>\n",
       "      <td>1</td>\n",
       "      <td>0</td>\n",
       "      <td>1</td>\n",
       "      <td>0</td>\n",
       "      <td>0</td>\n",
       "      <td>0</td>\n",
       "    </tr>\n",
       "    <tr>\n",
       "      <th>2</th>\n",
       "      <td>- Ấn tượng đầu là quán siêu to siêu thoáng lại...</td>\n",
       "      <td>1</td>\n",
       "      <td>0</td>\n",
       "      <td>0</td>\n",
       "      <td>0</td>\n",
       "      <td>1</td>\n",
       "      <td>1</td>\n",
       "      <td>1</td>\n",
       "      <td>0</td>\n",
       "      <td>0</td>\n",
       "      <td>0</td>\n",
       "      <td>0</td>\n",
       "      <td>1</td>\n",
       "    </tr>\n",
       "  </tbody>\n",
       "</table>\n",
       "</div>"
      ],
      "text/plain": [
       "                                              Review  AMBIENCE#GENERAL  \\\n",
       "0  - 60k/1con- Tu hài to, siêu béo siêu ngon, nướ...                 0   \n",
       "1  - Ăn hai người no căng :3- Nhiều đồ ăn kèm như...                 0   \n",
       "2  - Ấn tượng đầu là quán siêu to siêu thoáng lại...                 1   \n",
       "\n",
       "   DRINKS#PRICES  DRINKS#QUALITY  DRINKS#STYLE&OPTIONS  FOOD#PRICES  \\\n",
       "0              0               0                     0            1   \n",
       "1              0               0                     0            1   \n",
       "2              0               0                     0            1   \n",
       "\n",
       "   FOOD#QUALITY  FOOD#STYLE&OPTIONS  LOCATION#GENERAL  RESTAURANT#GENERAL  \\\n",
       "0             1                   0                 0                   0   \n",
       "1             0                   1                 0                   1   \n",
       "2             1                   1                 0                   0   \n",
       "\n",
       "   RESTAURANT#MISCELLANEOUS  RESTAURANT#PRICES  SERVICE#GENERAL  \n",
       "0                         0                  0                0  \n",
       "1                         0                  0                0  \n",
       "2                         0                  0                1  "
      ]
     },
     "execution_count": 3,
     "metadata": {},
     "output_type": "execute_result"
    }
   ],
   "source": [
    "data.head(3)"
   ]
  },
  {
   "cell_type": "code",
   "execution_count": 4,
   "metadata": {},
   "outputs": [
    {
     "name": "stdout",
     "output_type": "stream",
     "text": [
      "<class 'pandas.core.frame.DataFrame'>\n",
      "RangeIndex: 1290 entries, 0 to 1289\n",
      "Data columns (total 13 columns):\n",
      " #   Column                    Non-Null Count  Dtype \n",
      "---  ------                    --------------  ----- \n",
      " 0   Review                    1290 non-null   object\n",
      " 1   AMBIENCE#GENERAL          1290 non-null   int64 \n",
      " 2   DRINKS#PRICES             1290 non-null   int64 \n",
      " 3   DRINKS#QUALITY            1290 non-null   int64 \n",
      " 4   DRINKS#STYLE&OPTIONS      1290 non-null   int64 \n",
      " 5   FOOD#PRICES               1290 non-null   int64 \n",
      " 6   FOOD#QUALITY              1290 non-null   int64 \n",
      " 7   FOOD#STYLE&OPTIONS        1290 non-null   int64 \n",
      " 8   LOCATION#GENERAL          1290 non-null   int64 \n",
      " 9   RESTAURANT#GENERAL        1290 non-null   int64 \n",
      " 10  RESTAURANT#MISCELLANEOUS  1290 non-null   int64 \n",
      " 11  RESTAURANT#PRICES         1290 non-null   int64 \n",
      " 12  SERVICE#GENERAL           1290 non-null   int64 \n",
      "dtypes: int64(12), object(1)\n",
      "memory usage: 131.1+ KB\n"
     ]
    },
    {
     "data": {
      "text/plain": [
       "(Index(['Review', 'AMBIENCE#GENERAL', 'DRINKS#PRICES', 'DRINKS#QUALITY',\n",
       "        'DRINKS#STYLE&OPTIONS', 'FOOD#PRICES', 'FOOD#QUALITY',\n",
       "        'FOOD#STYLE&OPTIONS', 'LOCATION#GENERAL', 'RESTAURANT#GENERAL',\n",
       "        'RESTAURANT#MISCELLANEOUS', 'RESTAURANT#PRICES', 'SERVICE#GENERAL'],\n",
       "       dtype='object'),\n",
       " None)"
      ]
     },
     "execution_count": 4,
     "metadata": {},
     "output_type": "execute_result"
    }
   ],
   "source": [
    "data.columns, data.info()"
   ]
  },
  {
   "cell_type": "code",
   "execution_count": 5,
   "metadata": {},
   "outputs": [],
   "source": [
    "def PriceMerge(row, data, key):\n",
    "    value = np.zeros(len(key))\n",
    "    cols = np.array(data.columns)[1:]\n",
    "    label = np.array(row)[1:]\n",
    "    dt = pd.DataFrame([value], columns=key, dtype=int)\n",
    "    for i, col in enumerate(cols):\n",
    "        for k in key:\n",
    "            if k in col:\n",
    "                if (label[i] > 0):\n",
    "                    dt[k] = 1\n",
    "    \n",
    "    return dt"
   ]
  },
  {
   "cell_type": "code",
   "execution_count": 6,
   "metadata": {},
   "outputs": [
    {
     "name": "stdout",
     "output_type": "stream",
     "text": [
      "<class 'pandas.core.frame.DataFrame'>\n",
      "RangeIndex: 1290 entries, 0 to 1289\n",
      "Data columns (total 6 columns):\n",
      " #   Column    Non-Null Count  Dtype \n",
      "---  ------    --------------  ----- \n",
      " 0   Review    1290 non-null   object\n",
      " 1   AMBIENCE  1290 non-null   int64 \n",
      " 2   QUALITY   1290 non-null   int64 \n",
      " 3   PRICES    1290 non-null   int64 \n",
      " 4   LOCATION  1290 non-null   int64 \n",
      " 5   SERVICE   1290 non-null   int64 \n",
      "dtypes: int64(5), object(1)\n",
      "memory usage: 60.6+ KB\n",
      "None\n"
     ]
    }
   ],
   "source": [
    "key = ['Review', 'AMBIENCE', 'QUALITY', 'PRICES', 'LOCATION', 'SERVICE']\n",
    "newCol = data.apply(lambda row : PriceMerge(row, data, key[1:]), axis=1)\n",
    "result_df = pd.concat([data, pd.concat(newCol.values).reset_index(drop=True)], axis=1)\n",
    "result_df = result_df[key]\n",
    "print(result_df.info())"
   ]
  },
  {
   "cell_type": "code",
   "execution_count": 7,
   "metadata": {},
   "outputs": [
    {
     "name": "stdout",
     "output_type": "stream",
     "text": [
      "<class 'pandas.core.frame.DataFrame'>\n",
      "Index: 1273 entries, 0 to 1289\n",
      "Data columns (total 6 columns):\n",
      " #   Column    Non-Null Count  Dtype \n",
      "---  ------    --------------  ----- \n",
      " 0   Review    1273 non-null   object\n",
      " 1   AMBIENCE  1273 non-null   int64 \n",
      " 2   QUALITY   1273 non-null   int64 \n",
      " 3   PRICES    1273 non-null   int64 \n",
      " 4   LOCATION  1273 non-null   int64 \n",
      " 5   SERVICE   1273 non-null   int64 \n",
      "dtypes: int64(5), object(1)\n",
      "memory usage: 69.6+ KB\n"
     ]
    }
   ],
   "source": [
    "last_df = result_df[(result_df[key[1:]] != 0).any(axis=1)]\n",
    "last_df.info()"
   ]
  },
  {
   "cell_type": "code",
   "execution_count": 8,
   "metadata": {},
   "outputs": [],
   "source": [
    "# last_df.to_csv(r'relabel\\restaurant\\vn\\Restaurant-train.csv', index=False)\n",
    "last_df.to_csv(r'relabel\\restaurant\\vn\\Restaurant-dev.csv', index=False)\n",
    "# last_df.to_csv(r'relabel\\restaurant\\vn\\Restaurant-test.csv', index=False)"
   ]
  },
  {
   "cell_type": "code",
   "execution_count": 53,
   "metadata": {},
   "outputs": [],
   "source": [
    "data_train_change = pd.read_csv(r'relabel\\restaurant\\vn\\Restaurant-train.csv')\n",
    "data_dev_change = pd.read_csv(r'relabel\\restaurant\\vn\\Restaurant-dev.csv')\n",
    "data_test_change = pd.read_csv(r'relabel\\restaurant\\vn\\Restaurant-test.csv')"
   ]
  },
  {
   "cell_type": "code",
   "execution_count": 54,
   "metadata": {},
   "outputs": [
    {
     "data": {
      "text/plain": [
       "(737, 2686, 1648, 373, 795)"
      ]
     },
     "execution_count": 54,
     "metadata": {},
     "output_type": "execute_result"
    }
   ],
   "source": [
    "data_train_change['AMBIENCE'].sum(), data_train_change['QUALITY'].sum(), data_train_change['PRICES'].sum(), data_train_change['LOCATION'].sum(), data_train_change['SERVICE'].sum()"
   ]
  },
  {
   "cell_type": "code",
   "execution_count": 55,
   "metadata": {},
   "outputs": [
    {
     "data": {
      "text/plain": [
       "(205, 1170, 768, 134, 228)"
      ]
     },
     "execution_count": 55,
     "metadata": {},
     "output_type": "execute_result"
    }
   ],
   "source": [
    "data_dev_change['AMBIENCE'].sum(), data_dev_change['QUALITY'].sum(), data_dev_change['PRICES'].sum(), data_dev_change['LOCATION'].sum(), data_dev_change['SERVICE'].sum()"
   ]
  },
  {
   "cell_type": "code",
   "execution_count": 12,
   "metadata": {},
   "outputs": [
    {
     "data": {
      "text/plain": [
       "(179, 175, 255, 474, 405)"
      ]
     },
     "execution_count": 12,
     "metadata": {},
     "output_type": "execute_result"
    }
   ],
   "source": [
    "data_test_change['LOCATION'].sum(), data_test_change['SERVICE'].sum(), data_test_change['AMBIENCE'].sum(), data_test_change['QUALITY'].sum(), data_test_change['PRICES'].sum()"
   ]
  },
  {
   "cell_type": "markdown",
   "metadata": {},
   "source": [
    "### Hotel"
   ]
  },
  {
   "cell_type": "code",
   "execution_count": 13,
   "metadata": {},
   "outputs": [],
   "source": [
    "data = pd.read_csv(r\"datasets\\vlsp2018_hotel\\1-VLSP2018-SA-Hotel-train.csv\")\n",
    "# data = pd.read_csv(r\"datasets\\vlsp2018_hotel\\2-VLSP2018-SA-Hotel-dev.csv\")\n",
    "# data = pd.read_csv(r\"datasets\\vlsp2018_hotel\\3-VLSP2018-SA-Hotel-test.csv\")"
   ]
  },
  {
   "cell_type": "code",
   "execution_count": 14,
   "metadata": {},
   "outputs": [
    {
     "data": {
      "text/html": [
       "<div>\n",
       "<style scoped>\n",
       "    .dataframe tbody tr th:only-of-type {\n",
       "        vertical-align: middle;\n",
       "    }\n",
       "\n",
       "    .dataframe tbody tr th {\n",
       "        vertical-align: top;\n",
       "    }\n",
       "\n",
       "    .dataframe thead th {\n",
       "        text-align: right;\n",
       "    }\n",
       "</style>\n",
       "<table border=\"1\" class=\"dataframe\">\n",
       "  <thead>\n",
       "    <tr style=\"text-align: right;\">\n",
       "      <th></th>\n",
       "      <th>Review</th>\n",
       "      <th>FACILITIES#CLEANLINESS</th>\n",
       "      <th>FACILITIES#COMFORT</th>\n",
       "      <th>FACILITIES#DESIGN&amp;FEATURES</th>\n",
       "      <th>FACILITIES#GENERAL</th>\n",
       "      <th>FACILITIES#MISCELLANEOUS</th>\n",
       "      <th>FACILITIES#PRICES</th>\n",
       "      <th>FACILITIES#QUALITY</th>\n",
       "      <th>FOOD&amp;DRINKS#MISCELLANEOUS</th>\n",
       "      <th>FOOD&amp;DRINKS#PRICES</th>\n",
       "      <th>...</th>\n",
       "      <th>ROOMS#PRICES</th>\n",
       "      <th>ROOMS#QUALITY</th>\n",
       "      <th>ROOM_AMENITIES#CLEANLINESS</th>\n",
       "      <th>ROOM_AMENITIES#COMFORT</th>\n",
       "      <th>ROOM_AMENITIES#DESIGN&amp;FEATURES</th>\n",
       "      <th>ROOM_AMENITIES#GENERAL</th>\n",
       "      <th>ROOM_AMENITIES#MISCELLANEOUS</th>\n",
       "      <th>ROOM_AMENITIES#PRICES</th>\n",
       "      <th>ROOM_AMENITIES#QUALITY</th>\n",
       "      <th>SERVICE#GENERAL</th>\n",
       "    </tr>\n",
       "  </thead>\n",
       "  <tbody>\n",
       "    <tr>\n",
       "      <th>0</th>\n",
       "      <td>Rộng rãi KS mới nhưng rất vắng. Các dịch vụ ch...</td>\n",
       "      <td>0</td>\n",
       "      <td>0</td>\n",
       "      <td>0</td>\n",
       "      <td>0</td>\n",
       "      <td>0</td>\n",
       "      <td>0</td>\n",
       "      <td>0</td>\n",
       "      <td>0</td>\n",
       "      <td>0</td>\n",
       "      <td>...</td>\n",
       "      <td>0</td>\n",
       "      <td>0</td>\n",
       "      <td>0</td>\n",
       "      <td>0</td>\n",
       "      <td>0</td>\n",
       "      <td>0</td>\n",
       "      <td>0</td>\n",
       "      <td>0</td>\n",
       "      <td>0</td>\n",
       "      <td>0</td>\n",
       "    </tr>\n",
       "    <tr>\n",
       "      <th>1</th>\n",
       "      <td>Địa điểm thuận tiện, trong vòng bán kính 1,5km...</td>\n",
       "      <td>0</td>\n",
       "      <td>0</td>\n",
       "      <td>0</td>\n",
       "      <td>0</td>\n",
       "      <td>0</td>\n",
       "      <td>0</td>\n",
       "      <td>0</td>\n",
       "      <td>0</td>\n",
       "      <td>0</td>\n",
       "      <td>...</td>\n",
       "      <td>0</td>\n",
       "      <td>0</td>\n",
       "      <td>0</td>\n",
       "      <td>0</td>\n",
       "      <td>0</td>\n",
       "      <td>0</td>\n",
       "      <td>0</td>\n",
       "      <td>0</td>\n",
       "      <td>0</td>\n",
       "      <td>0</td>\n",
       "    </tr>\n",
       "    <tr>\n",
       "      <th>2</th>\n",
       "      <td>Phục vụ, view đẹp, vị trí</td>\n",
       "      <td>0</td>\n",
       "      <td>0</td>\n",
       "      <td>0</td>\n",
       "      <td>0</td>\n",
       "      <td>0</td>\n",
       "      <td>0</td>\n",
       "      <td>0</td>\n",
       "      <td>0</td>\n",
       "      <td>0</td>\n",
       "      <td>...</td>\n",
       "      <td>0</td>\n",
       "      <td>0</td>\n",
       "      <td>0</td>\n",
       "      <td>0</td>\n",
       "      <td>0</td>\n",
       "      <td>0</td>\n",
       "      <td>0</td>\n",
       "      <td>0</td>\n",
       "      <td>0</td>\n",
       "      <td>1</td>\n",
       "    </tr>\n",
       "  </tbody>\n",
       "</table>\n",
       "<p>3 rows × 35 columns</p>\n",
       "</div>"
      ],
      "text/plain": [
       "                                              Review  FACILITIES#CLEANLINESS  \\\n",
       "0  Rộng rãi KS mới nhưng rất vắng. Các dịch vụ ch...                       0   \n",
       "1  Địa điểm thuận tiện, trong vòng bán kính 1,5km...                       0   \n",
       "2                          Phục vụ, view đẹp, vị trí                       0   \n",
       "\n",
       "   FACILITIES#COMFORT  FACILITIES#DESIGN&FEATURES  FACILITIES#GENERAL  \\\n",
       "0                   0                           0                   0   \n",
       "1                   0                           0                   0   \n",
       "2                   0                           0                   0   \n",
       "\n",
       "   FACILITIES#MISCELLANEOUS  FACILITIES#PRICES  FACILITIES#QUALITY  \\\n",
       "0                         0                  0                   0   \n",
       "1                         0                  0                   0   \n",
       "2                         0                  0                   0   \n",
       "\n",
       "   FOOD&DRINKS#MISCELLANEOUS  FOOD&DRINKS#PRICES  ...  ROOMS#PRICES  \\\n",
       "0                          0                   0  ...             0   \n",
       "1                          0                   0  ...             0   \n",
       "2                          0                   0  ...             0   \n",
       "\n",
       "   ROOMS#QUALITY  ROOM_AMENITIES#CLEANLINESS  ROOM_AMENITIES#COMFORT  \\\n",
       "0              0                           0                       0   \n",
       "1              0                           0                       0   \n",
       "2              0                           0                       0   \n",
       "\n",
       "   ROOM_AMENITIES#DESIGN&FEATURES  ROOM_AMENITIES#GENERAL  \\\n",
       "0                               0                       0   \n",
       "1                               0                       0   \n",
       "2                               0                       0   \n",
       "\n",
       "   ROOM_AMENITIES#MISCELLANEOUS  ROOM_AMENITIES#PRICES  \\\n",
       "0                             0                      0   \n",
       "1                             0                      0   \n",
       "2                             0                      0   \n",
       "\n",
       "   ROOM_AMENITIES#QUALITY  SERVICE#GENERAL  \n",
       "0                       0                0  \n",
       "1                       0                0  \n",
       "2                       0                1  \n",
       "\n",
       "[3 rows x 35 columns]"
      ]
     },
     "execution_count": 14,
     "metadata": {},
     "output_type": "execute_result"
    }
   ],
   "source": [
    "data.head(3)"
   ]
  },
  {
   "cell_type": "code",
   "execution_count": 15,
   "metadata": {},
   "outputs": [
    {
     "name": "stdout",
     "output_type": "stream",
     "text": [
      "<class 'pandas.core.frame.DataFrame'>\n",
      "RangeIndex: 3000 entries, 0 to 2999\n",
      "Data columns (total 35 columns):\n",
      " #   Column                          Non-Null Count  Dtype \n",
      "---  ------                          --------------  ----- \n",
      " 0   Review                          3000 non-null   object\n",
      " 1   FACILITIES#CLEANLINESS          3000 non-null   int64 \n",
      " 2   FACILITIES#COMFORT              3000 non-null   int64 \n",
      " 3   FACILITIES#DESIGN&FEATURES      3000 non-null   int64 \n",
      " 4   FACILITIES#GENERAL              3000 non-null   int64 \n",
      " 5   FACILITIES#MISCELLANEOUS        3000 non-null   int64 \n",
      " 6   FACILITIES#PRICES               3000 non-null   int64 \n",
      " 7   FACILITIES#QUALITY              3000 non-null   int64 \n",
      " 8   FOOD&DRINKS#MISCELLANEOUS       3000 non-null   int64 \n",
      " 9   FOOD&DRINKS#PRICES              3000 non-null   int64 \n",
      " 10  FOOD&DRINKS#QUALITY             3000 non-null   int64 \n",
      " 11  FOOD&DRINKS#STYLE&OPTIONS       3000 non-null   int64 \n",
      " 12  HOTEL#CLEANLINESS               3000 non-null   int64 \n",
      " 13  HOTEL#COMFORT                   3000 non-null   int64 \n",
      " 14  HOTEL#DESIGN&FEATURES           3000 non-null   int64 \n",
      " 15  HOTEL#GENERAL                   3000 non-null   int64 \n",
      " 16  HOTEL#MISCELLANEOUS             3000 non-null   int64 \n",
      " 17  HOTEL#PRICES                    3000 non-null   int64 \n",
      " 18  HOTEL#QUALITY                   3000 non-null   int64 \n",
      " 19  LOCATION#GENERAL                3000 non-null   int64 \n",
      " 20  ROOMS#CLEANLINESS               3000 non-null   int64 \n",
      " 21  ROOMS#COMFORT                   3000 non-null   int64 \n",
      " 22  ROOMS#DESIGN&FEATURES           3000 non-null   int64 \n",
      " 23  ROOMS#GENERAL                   3000 non-null   int64 \n",
      " 24  ROOMS#MISCELLANEOUS             3000 non-null   int64 \n",
      " 25  ROOMS#PRICES                    3000 non-null   int64 \n",
      " 26  ROOMS#QUALITY                   3000 non-null   int64 \n",
      " 27  ROOM_AMENITIES#CLEANLINESS      3000 non-null   int64 \n",
      " 28  ROOM_AMENITIES#COMFORT          3000 non-null   int64 \n",
      " 29  ROOM_AMENITIES#DESIGN&FEATURES  3000 non-null   int64 \n",
      " 30  ROOM_AMENITIES#GENERAL          3000 non-null   int64 \n",
      " 31  ROOM_AMENITIES#MISCELLANEOUS    3000 non-null   int64 \n",
      " 32  ROOM_AMENITIES#PRICES           3000 non-null   int64 \n",
      " 33  ROOM_AMENITIES#QUALITY          3000 non-null   int64 \n",
      " 34  SERVICE#GENERAL                 3000 non-null   int64 \n",
      "dtypes: int64(34), object(1)\n",
      "memory usage: 820.4+ KB\n"
     ]
    },
    {
     "data": {
      "text/plain": [
       "(Index(['Review', 'FACILITIES#CLEANLINESS', 'FACILITIES#COMFORT',\n",
       "        'FACILITIES#DESIGN&FEATURES', 'FACILITIES#GENERAL',\n",
       "        'FACILITIES#MISCELLANEOUS', 'FACILITIES#PRICES', 'FACILITIES#QUALITY',\n",
       "        'FOOD&DRINKS#MISCELLANEOUS', 'FOOD&DRINKS#PRICES',\n",
       "        'FOOD&DRINKS#QUALITY', 'FOOD&DRINKS#STYLE&OPTIONS', 'HOTEL#CLEANLINESS',\n",
       "        'HOTEL#COMFORT', 'HOTEL#DESIGN&FEATURES', 'HOTEL#GENERAL',\n",
       "        'HOTEL#MISCELLANEOUS', 'HOTEL#PRICES', 'HOTEL#QUALITY',\n",
       "        'LOCATION#GENERAL', 'ROOMS#CLEANLINESS', 'ROOMS#COMFORT',\n",
       "        'ROOMS#DESIGN&FEATURES', 'ROOMS#GENERAL', 'ROOMS#MISCELLANEOUS',\n",
       "        'ROOMS#PRICES', 'ROOMS#QUALITY', 'ROOM_AMENITIES#CLEANLINESS',\n",
       "        'ROOM_AMENITIES#COMFORT', 'ROOM_AMENITIES#DESIGN&FEATURES',\n",
       "        'ROOM_AMENITIES#GENERAL', 'ROOM_AMENITIES#MISCELLANEOUS',\n",
       "        'ROOM_AMENITIES#PRICES', 'ROOM_AMENITIES#QUALITY', 'SERVICE#GENERAL'],\n",
       "       dtype='object'),\n",
       " None)"
      ]
     },
     "execution_count": 15,
     "metadata": {},
     "output_type": "execute_result"
    }
   ],
   "source": [
    "data.columns, data.info()"
   ]
  },
  {
   "cell_type": "code",
   "execution_count": 16,
   "metadata": {},
   "outputs": [],
   "source": [
    "def PriceMerge(row, data, key):\n",
    "    value = np.zeros(len(key))\n",
    "    cols = np.array(data.columns)[1:]\n",
    "    label = np.array(row)[1:]\n",
    "    dt = pd.DataFrame([value], columns=key, dtype=int)\n",
    "    for i, col in enumerate(cols):\n",
    "        for k in key:\n",
    "            kp = 'XXXXX'\n",
    "            if k == 'AMBIENCE': \n",
    "                kp = 'ROOM_AMENITIES'\n",
    "            if k == 'QUALITY':\n",
    "                kp = 'FACILITIES'\n",
    "            if (k in col) or (kp in col):\n",
    "                if (label[i] > 0):\n",
    "                    dt[k] = 1\n",
    "    \n",
    "    return dt"
   ]
  },
  {
   "cell_type": "code",
   "execution_count": 17,
   "metadata": {},
   "outputs": [
    {
     "name": "stdout",
     "output_type": "stream",
     "text": [
      "                                              Review  AMBIENCE  QUALITY  \\\n",
      "0  Rộng rãi KS mới nhưng rất vắng. Các dịch vụ ch...         0        0   \n",
      "1  Địa điểm thuận tiện, trong vòng bán kính 1,5km...         0        0   \n",
      "2                          Phục vụ, view đẹp, vị trí         0        0   \n",
      "\n",
      "   PRICES  LOCATION  SERVICE  \n",
      "0       0         0        0  \n",
      "1       0         1        0  \n",
      "2       0         1        1  \n"
     ]
    }
   ],
   "source": [
    "key = ['Review', 'AMBIENCE', 'QUALITY', 'PRICES', 'LOCATION', 'SERVICE']\n",
    "newCol = data.apply(lambda row : PriceMerge(row, data, key[1:]), axis=1)\n",
    "result_df = pd.concat([data, pd.concat(newCol.values).reset_index(drop=True)], axis=1)\n",
    "result_df = result_df[key]\n",
    "print(result_df.head(3))"
   ]
  },
  {
   "cell_type": "code",
   "execution_count": 18,
   "metadata": {},
   "outputs": [
    {
     "name": "stdout",
     "output_type": "stream",
     "text": [
      "<class 'pandas.core.frame.DataFrame'>\n",
      "Index: 2790 entries, 1 to 2999\n",
      "Data columns (total 6 columns):\n",
      " #   Column    Non-Null Count  Dtype \n",
      "---  ------    --------------  ----- \n",
      " 0   Review    2790 non-null   object\n",
      " 1   AMBIENCE  2790 non-null   int64 \n",
      " 2   QUALITY   2790 non-null   int64 \n",
      " 3   PRICES    2790 non-null   int64 \n",
      " 4   LOCATION  2790 non-null   int64 \n",
      " 5   SERVICE   2790 non-null   int64 \n",
      "dtypes: int64(5), object(1)\n",
      "memory usage: 152.6+ KB\n"
     ]
    }
   ],
   "source": [
    "last_df = result_df[(result_df[key[1:]] != 0).any(axis=1)]\n",
    "last_df.info()"
   ]
  },
  {
   "cell_type": "code",
   "execution_count": 19,
   "metadata": {},
   "outputs": [],
   "source": [
    "last_df.to_csv(r'relabel\\hotel\\Hotel-train.csv', index=False)\n",
    "# result_df.to_csv(r'relabel\\hotel\\Hotel-dev.csv', index=False)\n",
    "# result_df.to_csv(r'relabel\\hotel\\Hotel-test.csv', index=False)"
   ]
  },
  {
   "cell_type": "code",
   "execution_count": 20,
   "metadata": {},
   "outputs": [],
   "source": [
    "data_train_change = pd.read_csv(r'relabel\\hotel\\Hotel-train.csv')\n",
    "data_dev_change = pd.read_csv(r'relabel\\hotel\\Hotel-dev.csv')\n",
    "data_test_change = pd.read_csv(r'relabel\\hotel\\Hotel-test.csv')"
   ]
  },
  {
   "cell_type": "code",
   "execution_count": 21,
   "metadata": {},
   "outputs": [
    {
     "data": {
      "text/plain": [
       "(738, 1632, 814, 1196, 1912)"
      ]
     },
     "execution_count": 21,
     "metadata": {},
     "output_type": "execute_result"
    }
   ],
   "source": [
    "data_train_change['AMBIENCE'].sum(), data_train_change['QUALITY'].sum(), data_train_change['PRICES'].sum(), data_train_change['LOCATION'].sum(), data_train_change['SERVICE'].sum()"
   ]
  },
  {
   "cell_type": "code",
   "execution_count": 22,
   "metadata": {},
   "outputs": [
    {
     "data": {
      "text/plain": [
       "(669, 826, 245, 567, 1311)"
      ]
     },
     "execution_count": 22,
     "metadata": {},
     "output_type": "execute_result"
    }
   ],
   "source": [
    "data_dev_change['AMBIENCE'].sum(), data_dev_change['QUALITY'].sum(), data_dev_change['PRICES'].sum(), data_dev_change['LOCATION'].sum(), data_dev_change['SERVICE'].sum()"
   ]
  },
  {
   "cell_type": "code",
   "execution_count": 23,
   "metadata": {},
   "outputs": [
    {
     "data": {
      "text/plain": [
       "(242, 293, 119, 221, 416)"
      ]
     },
     "execution_count": 23,
     "metadata": {},
     "output_type": "execute_result"
    }
   ],
   "source": [
    "data_test_change['AMBIENCE'].sum(), data_test_change['QUALITY'].sum(), data_test_change['PRICES'].sum(), data_test_change['LOCATION'].sum(), data_test_change['SERVICE'].sum()"
   ]
  },
  {
   "cell_type": "markdown",
   "metadata": {},
   "source": [
    "### Restaurant En"
   ]
  },
  {
   "cell_type": "code",
   "execution_count": 24,
   "metadata": {},
   "outputs": [
    {
     "ename": "FileNotFoundError",
     "evalue": "[Errno 2] No such file or directory: 'enData\\\\restaurant\\\\ABSA16_Restaurants_Train_SB1_v2_Aspect.csv'",
     "output_type": "error",
     "traceback": [
      "\u001b[1;31m---------------------------------------------------------------------------\u001b[0m",
      "\u001b[1;31mFileNotFoundError\u001b[0m                         Traceback (most recent call last)",
      "Cell \u001b[1;32mIn[24], line 1\u001b[0m\n\u001b[1;32m----> 1\u001b[0m data \u001b[38;5;241m=\u001b[39m \u001b[43mpd\u001b[49m\u001b[38;5;241;43m.\u001b[39;49m\u001b[43mread_csv\u001b[49m\u001b[43m(\u001b[49m\u001b[38;5;124;43mr\u001b[39;49m\u001b[38;5;124;43m\"\u001b[39;49m\u001b[38;5;124;43menData\u001b[39;49m\u001b[38;5;124;43m\\\u001b[39;49m\u001b[38;5;124;43mrestaurant\u001b[39;49m\u001b[38;5;124;43m\\\u001b[39;49m\u001b[38;5;124;43mABSA16_Restaurants_Train_SB1_v2_Aspect.csv\u001b[39;49m\u001b[38;5;124;43m\"\u001b[39;49m\u001b[43m)\u001b[49m\n",
      "File \u001b[1;32mc:\\Users\\thanh\\anaconda3\\envs\\vlsp2\\Lib\\site-packages\\pandas\\io\\parsers\\readers.py:1026\u001b[0m, in \u001b[0;36mread_csv\u001b[1;34m(filepath_or_buffer, sep, delimiter, header, names, index_col, usecols, dtype, engine, converters, true_values, false_values, skipinitialspace, skiprows, skipfooter, nrows, na_values, keep_default_na, na_filter, verbose, skip_blank_lines, parse_dates, infer_datetime_format, keep_date_col, date_parser, date_format, dayfirst, cache_dates, iterator, chunksize, compression, thousands, decimal, lineterminator, quotechar, quoting, doublequote, escapechar, comment, encoding, encoding_errors, dialect, on_bad_lines, delim_whitespace, low_memory, memory_map, float_precision, storage_options, dtype_backend)\u001b[0m\n\u001b[0;32m   1013\u001b[0m kwds_defaults \u001b[38;5;241m=\u001b[39m _refine_defaults_read(\n\u001b[0;32m   1014\u001b[0m     dialect,\n\u001b[0;32m   1015\u001b[0m     delimiter,\n\u001b[1;32m   (...)\u001b[0m\n\u001b[0;32m   1022\u001b[0m     dtype_backend\u001b[38;5;241m=\u001b[39mdtype_backend,\n\u001b[0;32m   1023\u001b[0m )\n\u001b[0;32m   1024\u001b[0m kwds\u001b[38;5;241m.\u001b[39mupdate(kwds_defaults)\n\u001b[1;32m-> 1026\u001b[0m \u001b[38;5;28;01mreturn\u001b[39;00m \u001b[43m_read\u001b[49m\u001b[43m(\u001b[49m\u001b[43mfilepath_or_buffer\u001b[49m\u001b[43m,\u001b[49m\u001b[43m \u001b[49m\u001b[43mkwds\u001b[49m\u001b[43m)\u001b[49m\n",
      "File \u001b[1;32mc:\\Users\\thanh\\anaconda3\\envs\\vlsp2\\Lib\\site-packages\\pandas\\io\\parsers\\readers.py:620\u001b[0m, in \u001b[0;36m_read\u001b[1;34m(filepath_or_buffer, kwds)\u001b[0m\n\u001b[0;32m    617\u001b[0m _validate_names(kwds\u001b[38;5;241m.\u001b[39mget(\u001b[38;5;124m\"\u001b[39m\u001b[38;5;124mnames\u001b[39m\u001b[38;5;124m\"\u001b[39m, \u001b[38;5;28;01mNone\u001b[39;00m))\n\u001b[0;32m    619\u001b[0m \u001b[38;5;66;03m# Create the parser.\u001b[39;00m\n\u001b[1;32m--> 620\u001b[0m parser \u001b[38;5;241m=\u001b[39m \u001b[43mTextFileReader\u001b[49m\u001b[43m(\u001b[49m\u001b[43mfilepath_or_buffer\u001b[49m\u001b[43m,\u001b[49m\u001b[43m \u001b[49m\u001b[38;5;241;43m*\u001b[39;49m\u001b[38;5;241;43m*\u001b[39;49m\u001b[43mkwds\u001b[49m\u001b[43m)\u001b[49m\n\u001b[0;32m    622\u001b[0m \u001b[38;5;28;01mif\u001b[39;00m chunksize \u001b[38;5;129;01mor\u001b[39;00m iterator:\n\u001b[0;32m    623\u001b[0m     \u001b[38;5;28;01mreturn\u001b[39;00m parser\n",
      "File \u001b[1;32mc:\\Users\\thanh\\anaconda3\\envs\\vlsp2\\Lib\\site-packages\\pandas\\io\\parsers\\readers.py:1620\u001b[0m, in \u001b[0;36mTextFileReader.__init__\u001b[1;34m(self, f, engine, **kwds)\u001b[0m\n\u001b[0;32m   1617\u001b[0m     \u001b[38;5;28mself\u001b[39m\u001b[38;5;241m.\u001b[39moptions[\u001b[38;5;124m\"\u001b[39m\u001b[38;5;124mhas_index_names\u001b[39m\u001b[38;5;124m\"\u001b[39m] \u001b[38;5;241m=\u001b[39m kwds[\u001b[38;5;124m\"\u001b[39m\u001b[38;5;124mhas_index_names\u001b[39m\u001b[38;5;124m\"\u001b[39m]\n\u001b[0;32m   1619\u001b[0m \u001b[38;5;28mself\u001b[39m\u001b[38;5;241m.\u001b[39mhandles: IOHandles \u001b[38;5;241m|\u001b[39m \u001b[38;5;28;01mNone\u001b[39;00m \u001b[38;5;241m=\u001b[39m \u001b[38;5;28;01mNone\u001b[39;00m\n\u001b[1;32m-> 1620\u001b[0m \u001b[38;5;28mself\u001b[39m\u001b[38;5;241m.\u001b[39m_engine \u001b[38;5;241m=\u001b[39m \u001b[38;5;28;43mself\u001b[39;49m\u001b[38;5;241;43m.\u001b[39;49m\u001b[43m_make_engine\u001b[49m\u001b[43m(\u001b[49m\u001b[43mf\u001b[49m\u001b[43m,\u001b[49m\u001b[43m \u001b[49m\u001b[38;5;28;43mself\u001b[39;49m\u001b[38;5;241;43m.\u001b[39;49m\u001b[43mengine\u001b[49m\u001b[43m)\u001b[49m\n",
      "File \u001b[1;32mc:\\Users\\thanh\\anaconda3\\envs\\vlsp2\\Lib\\site-packages\\pandas\\io\\parsers\\readers.py:1880\u001b[0m, in \u001b[0;36mTextFileReader._make_engine\u001b[1;34m(self, f, engine)\u001b[0m\n\u001b[0;32m   1878\u001b[0m     \u001b[38;5;28;01mif\u001b[39;00m \u001b[38;5;124m\"\u001b[39m\u001b[38;5;124mb\u001b[39m\u001b[38;5;124m\"\u001b[39m \u001b[38;5;129;01mnot\u001b[39;00m \u001b[38;5;129;01min\u001b[39;00m mode:\n\u001b[0;32m   1879\u001b[0m         mode \u001b[38;5;241m+\u001b[39m\u001b[38;5;241m=\u001b[39m \u001b[38;5;124m\"\u001b[39m\u001b[38;5;124mb\u001b[39m\u001b[38;5;124m\"\u001b[39m\n\u001b[1;32m-> 1880\u001b[0m \u001b[38;5;28mself\u001b[39m\u001b[38;5;241m.\u001b[39mhandles \u001b[38;5;241m=\u001b[39m \u001b[43mget_handle\u001b[49m\u001b[43m(\u001b[49m\n\u001b[0;32m   1881\u001b[0m \u001b[43m    \u001b[49m\u001b[43mf\u001b[49m\u001b[43m,\u001b[49m\n\u001b[0;32m   1882\u001b[0m \u001b[43m    \u001b[49m\u001b[43mmode\u001b[49m\u001b[43m,\u001b[49m\n\u001b[0;32m   1883\u001b[0m \u001b[43m    \u001b[49m\u001b[43mencoding\u001b[49m\u001b[38;5;241;43m=\u001b[39;49m\u001b[38;5;28;43mself\u001b[39;49m\u001b[38;5;241;43m.\u001b[39;49m\u001b[43moptions\u001b[49m\u001b[38;5;241;43m.\u001b[39;49m\u001b[43mget\u001b[49m\u001b[43m(\u001b[49m\u001b[38;5;124;43m\"\u001b[39;49m\u001b[38;5;124;43mencoding\u001b[39;49m\u001b[38;5;124;43m\"\u001b[39;49m\u001b[43m,\u001b[49m\u001b[43m \u001b[49m\u001b[38;5;28;43;01mNone\u001b[39;49;00m\u001b[43m)\u001b[49m\u001b[43m,\u001b[49m\n\u001b[0;32m   1884\u001b[0m \u001b[43m    \u001b[49m\u001b[43mcompression\u001b[49m\u001b[38;5;241;43m=\u001b[39;49m\u001b[38;5;28;43mself\u001b[39;49m\u001b[38;5;241;43m.\u001b[39;49m\u001b[43moptions\u001b[49m\u001b[38;5;241;43m.\u001b[39;49m\u001b[43mget\u001b[49m\u001b[43m(\u001b[49m\u001b[38;5;124;43m\"\u001b[39;49m\u001b[38;5;124;43mcompression\u001b[39;49m\u001b[38;5;124;43m\"\u001b[39;49m\u001b[43m,\u001b[49m\u001b[43m \u001b[49m\u001b[38;5;28;43;01mNone\u001b[39;49;00m\u001b[43m)\u001b[49m\u001b[43m,\u001b[49m\n\u001b[0;32m   1885\u001b[0m \u001b[43m    \u001b[49m\u001b[43mmemory_map\u001b[49m\u001b[38;5;241;43m=\u001b[39;49m\u001b[38;5;28;43mself\u001b[39;49m\u001b[38;5;241;43m.\u001b[39;49m\u001b[43moptions\u001b[49m\u001b[38;5;241;43m.\u001b[39;49m\u001b[43mget\u001b[49m\u001b[43m(\u001b[49m\u001b[38;5;124;43m\"\u001b[39;49m\u001b[38;5;124;43mmemory_map\u001b[39;49m\u001b[38;5;124;43m\"\u001b[39;49m\u001b[43m,\u001b[49m\u001b[43m \u001b[49m\u001b[38;5;28;43;01mFalse\u001b[39;49;00m\u001b[43m)\u001b[49m\u001b[43m,\u001b[49m\n\u001b[0;32m   1886\u001b[0m \u001b[43m    \u001b[49m\u001b[43mis_text\u001b[49m\u001b[38;5;241;43m=\u001b[39;49m\u001b[43mis_text\u001b[49m\u001b[43m,\u001b[49m\n\u001b[0;32m   1887\u001b[0m \u001b[43m    \u001b[49m\u001b[43merrors\u001b[49m\u001b[38;5;241;43m=\u001b[39;49m\u001b[38;5;28;43mself\u001b[39;49m\u001b[38;5;241;43m.\u001b[39;49m\u001b[43moptions\u001b[49m\u001b[38;5;241;43m.\u001b[39;49m\u001b[43mget\u001b[49m\u001b[43m(\u001b[49m\u001b[38;5;124;43m\"\u001b[39;49m\u001b[38;5;124;43mencoding_errors\u001b[39;49m\u001b[38;5;124;43m\"\u001b[39;49m\u001b[43m,\u001b[49m\u001b[43m \u001b[49m\u001b[38;5;124;43m\"\u001b[39;49m\u001b[38;5;124;43mstrict\u001b[39;49m\u001b[38;5;124;43m\"\u001b[39;49m\u001b[43m)\u001b[49m\u001b[43m,\u001b[49m\n\u001b[0;32m   1888\u001b[0m \u001b[43m    \u001b[49m\u001b[43mstorage_options\u001b[49m\u001b[38;5;241;43m=\u001b[39;49m\u001b[38;5;28;43mself\u001b[39;49m\u001b[38;5;241;43m.\u001b[39;49m\u001b[43moptions\u001b[49m\u001b[38;5;241;43m.\u001b[39;49m\u001b[43mget\u001b[49m\u001b[43m(\u001b[49m\u001b[38;5;124;43m\"\u001b[39;49m\u001b[38;5;124;43mstorage_options\u001b[39;49m\u001b[38;5;124;43m\"\u001b[39;49m\u001b[43m,\u001b[49m\u001b[43m \u001b[49m\u001b[38;5;28;43;01mNone\u001b[39;49;00m\u001b[43m)\u001b[49m\u001b[43m,\u001b[49m\n\u001b[0;32m   1889\u001b[0m \u001b[43m\u001b[49m\u001b[43m)\u001b[49m\n\u001b[0;32m   1890\u001b[0m \u001b[38;5;28;01massert\u001b[39;00m \u001b[38;5;28mself\u001b[39m\u001b[38;5;241m.\u001b[39mhandles \u001b[38;5;129;01mis\u001b[39;00m \u001b[38;5;129;01mnot\u001b[39;00m \u001b[38;5;28;01mNone\u001b[39;00m\n\u001b[0;32m   1891\u001b[0m f \u001b[38;5;241m=\u001b[39m \u001b[38;5;28mself\u001b[39m\u001b[38;5;241m.\u001b[39mhandles\u001b[38;5;241m.\u001b[39mhandle\n",
      "File \u001b[1;32mc:\\Users\\thanh\\anaconda3\\envs\\vlsp2\\Lib\\site-packages\\pandas\\io\\common.py:873\u001b[0m, in \u001b[0;36mget_handle\u001b[1;34m(path_or_buf, mode, encoding, compression, memory_map, is_text, errors, storage_options)\u001b[0m\n\u001b[0;32m    868\u001b[0m \u001b[38;5;28;01melif\u001b[39;00m \u001b[38;5;28misinstance\u001b[39m(handle, \u001b[38;5;28mstr\u001b[39m):\n\u001b[0;32m    869\u001b[0m     \u001b[38;5;66;03m# Check whether the filename is to be opened in binary mode.\u001b[39;00m\n\u001b[0;32m    870\u001b[0m     \u001b[38;5;66;03m# Binary mode does not support 'encoding' and 'newline'.\u001b[39;00m\n\u001b[0;32m    871\u001b[0m     \u001b[38;5;28;01mif\u001b[39;00m ioargs\u001b[38;5;241m.\u001b[39mencoding \u001b[38;5;129;01mand\u001b[39;00m \u001b[38;5;124m\"\u001b[39m\u001b[38;5;124mb\u001b[39m\u001b[38;5;124m\"\u001b[39m \u001b[38;5;129;01mnot\u001b[39;00m \u001b[38;5;129;01min\u001b[39;00m ioargs\u001b[38;5;241m.\u001b[39mmode:\n\u001b[0;32m    872\u001b[0m         \u001b[38;5;66;03m# Encoding\u001b[39;00m\n\u001b[1;32m--> 873\u001b[0m         handle \u001b[38;5;241m=\u001b[39m \u001b[38;5;28mopen\u001b[39m(\n\u001b[0;32m    874\u001b[0m             handle,\n\u001b[0;32m    875\u001b[0m             ioargs\u001b[38;5;241m.\u001b[39mmode,\n\u001b[0;32m    876\u001b[0m             encoding\u001b[38;5;241m=\u001b[39mioargs\u001b[38;5;241m.\u001b[39mencoding,\n\u001b[0;32m    877\u001b[0m             errors\u001b[38;5;241m=\u001b[39merrors,\n\u001b[0;32m    878\u001b[0m             newline\u001b[38;5;241m=\u001b[39m\u001b[38;5;124m\"\u001b[39m\u001b[38;5;124m\"\u001b[39m,\n\u001b[0;32m    879\u001b[0m         )\n\u001b[0;32m    880\u001b[0m     \u001b[38;5;28;01melse\u001b[39;00m:\n\u001b[0;32m    881\u001b[0m         \u001b[38;5;66;03m# Binary mode\u001b[39;00m\n\u001b[0;32m    882\u001b[0m         handle \u001b[38;5;241m=\u001b[39m \u001b[38;5;28mopen\u001b[39m(handle, ioargs\u001b[38;5;241m.\u001b[39mmode)\n",
      "\u001b[1;31mFileNotFoundError\u001b[0m: [Errno 2] No such file or directory: 'enData\\\\restaurant\\\\ABSA16_Restaurants_Train_SB1_v2_Aspect.csv'"
     ]
    }
   ],
   "source": [
    "data = pd.read_csv(r\"enData\\restaurant\\ABSA16_Restaurants_Train_SB1_v2_Aspect.csv\")"
   ]
  },
  {
   "cell_type": "code",
   "execution_count": null,
   "metadata": {},
   "outputs": [],
   "source": [
    "def PriceMerge(row, data, key):\n",
    "    value = np.zeros(len(key))\n",
    "    cols = np.array(data.columns)[1:]\n",
    "    label = np.array(row)[1:]\n",
    "    dt = pd.DataFrame([value], columns=key, dtype=int)\n",
    "    for i, col in enumerate(cols):\n",
    "        for k in key:\n",
    "            if k in col:\n",
    "                if (label[i] > 0):\n",
    "                    dt[k] = 1\n",
    "    \n",
    "    return dt"
   ]
  },
  {
   "cell_type": "code",
   "execution_count": null,
   "metadata": {},
   "outputs": [
    {
     "name": "stdout",
     "output_type": "stream",
     "text": [
      "                                              Review  AMBIENCE  QUALITY  \\\n",
      "0  Judging from previous posts this used to be a ...         0        0   \n",
      "1  We, there were four of us, arrived at noon - t...         0        0   \n",
      "2  They never brought us complimentary noodles, i...         0        0   \n",
      "\n",
      "   PRICES  LOCATION  SERVICE  \n",
      "0       0         0        0  \n",
      "1       0         0        1  \n",
      "2       0         0        1  \n"
     ]
    }
   ],
   "source": [
    "key = ['Review', 'AMBIENCE', 'QUALITY', 'PRICES', 'LOCATION', 'SERVICE']\n",
    "newCol = data.apply(lambda row : PriceMerge(row, data, key[1:]), axis=1)\n",
    "result_df = pd.concat([data, pd.concat(newCol.values).reset_index(drop=True)], axis=1)\n",
    "result_df = result_df[key]\n",
    "print(result_df.head(3))"
   ]
  },
  {
   "cell_type": "code",
   "execution_count": null,
   "metadata": {},
   "outputs": [],
   "source": [
    "result_df.to_csv(r'relabel\\restaurant\\en\\Restaurant-train.csv', index=False)"
   ]
  },
  {
   "cell_type": "code",
   "execution_count": null,
   "metadata": {},
   "outputs": [],
   "source": [
    "data_train_change = pd.read_csv(r'relabel\\restaurant\\en\\Restaurant-train.csv')"
   ]
  },
  {
   "cell_type": "code",
   "execution_count": null,
   "metadata": {},
   "outputs": [],
   "source": [
    "filtered_df = data_train_change[data_train_change['LOCATION'] == 1]"
   ]
  },
  {
   "cell_type": "code",
   "execution_count": null,
   "metadata": {},
   "outputs": [
    {
     "data": {
      "text/plain": [
       "(28, 419, 226, 716, 177)"
      ]
     },
     "execution_count": 8,
     "metadata": {},
     "output_type": "execute_result"
    }
   ],
   "source": [
    "data_train_change['LOCATION'].sum(), data_train_change['SERVICE'].sum(), data_train_change['AMBIENCE'].sum(), data_train_change['QUALITY'].sum(), data_train_change['PRICES'].sum()"
   ]
  },
  {
   "cell_type": "code",
   "execution_count": null,
   "metadata": {},
   "outputs": [
    {
     "data": {
      "text/plain": [
       "(28, 4, 7, 10, 3)"
      ]
     },
     "execution_count": 10,
     "metadata": {},
     "output_type": "execute_result"
    }
   ],
   "source": [
    "filtered_df['LOCATION'].sum(), filtered_df['SERVICE'].sum(), filtered_df['AMBIENCE'].sum(), filtered_df['QUALITY'].sum(), filtered_df['PRICES'].sum()"
   ]
  },
  {
   "cell_type": "markdown",
   "metadata": {},
   "source": [
    "### Merge"
   ]
  },
  {
   "cell_type": "markdown",
   "metadata": {},
   "source": [
    "#### Train"
   ]
  },
  {
   "cell_type": "code",
   "execution_count": 42,
   "metadata": {},
   "outputs": [],
   "source": [
    "train_ht = pd.read_csv(r'relabel\\hotel\\Hotel-train.csv')\n",
    "train_re = pd.read_csv(r'relabel\\restaurant\\vn\\Restaurant-train.csv')"
   ]
  },
  {
   "cell_type": "code",
   "execution_count": 43,
   "metadata": {},
   "outputs": [
    {
     "name": "stdout",
     "output_type": "stream",
     "text": [
      "<class 'pandas.core.frame.DataFrame'>\n",
      "RangeIndex: 2790 entries, 0 to 2789\n",
      "Data columns (total 6 columns):\n",
      " #   Column    Non-Null Count  Dtype \n",
      "---  ------    --------------  ----- \n",
      " 0   Review    2790 non-null   object\n",
      " 1   AMBIENCE  2790 non-null   int64 \n",
      " 2   QUALITY   2790 non-null   int64 \n",
      " 3   PRICES    2790 non-null   int64 \n",
      " 4   LOCATION  2790 non-null   int64 \n",
      " 5   SERVICE   2790 non-null   int64 \n",
      "dtypes: int64(5), object(1)\n",
      "memory usage: 130.9+ KB\n",
      "<class 'pandas.core.frame.DataFrame'>\n",
      "RangeIndex: 2895 entries, 0 to 2894\n",
      "Data columns (total 6 columns):\n",
      " #   Column    Non-Null Count  Dtype \n",
      "---  ------    --------------  ----- \n",
      " 0   Review    2895 non-null   object\n",
      " 1   AMBIENCE  2895 non-null   int64 \n",
      " 2   QUALITY   2895 non-null   int64 \n",
      " 3   PRICES    2895 non-null   int64 \n",
      " 4   LOCATION  2895 non-null   int64 \n",
      " 5   SERVICE   2895 non-null   int64 \n",
      "dtypes: int64(5), object(1)\n",
      "memory usage: 135.8+ KB\n"
     ]
    },
    {
     "data": {
      "text/plain": [
       "(None, None)"
      ]
     },
     "execution_count": 43,
     "metadata": {},
     "output_type": "execute_result"
    }
   ],
   "source": [
    "train_ht.info(), train_re.info()"
   ]
  },
  {
   "cell_type": "code",
   "execution_count": 44,
   "metadata": {},
   "outputs": [
    {
     "data": {
      "text/plain": [
       "(738, 1632, 814, 1196, 1912)"
      ]
     },
     "execution_count": 44,
     "metadata": {},
     "output_type": "execute_result"
    }
   ],
   "source": [
    "train_ht['AMBIENCE'].sum(), train_ht['QUALITY'].sum(), train_ht['PRICES'].sum(), train_ht['LOCATION'].sum(), train_ht['SERVICE'].sum()"
   ]
  },
  {
   "cell_type": "code",
   "execution_count": 45,
   "metadata": {},
   "outputs": [
    {
     "data": {
      "text/plain": [
       "(737, 2686, 1648, 373, 795)"
      ]
     },
     "execution_count": 45,
     "metadata": {},
     "output_type": "execute_result"
    }
   ],
   "source": [
    "train_re['AMBIENCE'].sum(), train_re['QUALITY'].sum(), train_re['PRICES'].sum(), train_re['LOCATION'].sum(), train_re['SERVICE'].sum()"
   ]
  },
  {
   "cell_type": "code",
   "execution_count": 46,
   "metadata": {},
   "outputs": [],
   "source": [
    "train_merge = pd.concat([train_ht, train_re], axis=0)"
   ]
  },
  {
   "cell_type": "code",
   "execution_count": 47,
   "metadata": {},
   "outputs": [
    {
     "name": "stdout",
     "output_type": "stream",
     "text": [
      "<class 'pandas.core.frame.DataFrame'>\n",
      "Index: 5685 entries, 0 to 2894\n",
      "Data columns (total 6 columns):\n",
      " #   Column    Non-Null Count  Dtype \n",
      "---  ------    --------------  ----- \n",
      " 0   Review    5685 non-null   object\n",
      " 1   AMBIENCE  5685 non-null   int64 \n",
      " 2   QUALITY   5685 non-null   int64 \n",
      " 3   PRICES    5685 non-null   int64 \n",
      " 4   LOCATION  5685 non-null   int64 \n",
      " 5   SERVICE   5685 non-null   int64 \n",
      "dtypes: int64(5), object(1)\n",
      "memory usage: 310.9+ KB\n"
     ]
    }
   ],
   "source": [
    "train_merge.info()"
   ]
  },
  {
   "cell_type": "code",
   "execution_count": 48,
   "metadata": {},
   "outputs": [],
   "source": [
    "train_merge.to_csv(r'relabel\\train_merge.csv', index=False)"
   ]
  },
  {
   "cell_type": "code",
   "execution_count": 49,
   "metadata": {},
   "outputs": [
    {
     "data": {
      "text/plain": [
       "(1475, 4318, 2462, 1569, 2707)"
      ]
     },
     "execution_count": 49,
     "metadata": {},
     "output_type": "execute_result"
    }
   ],
   "source": [
    "train_merge['AMBIENCE'].sum(), train_merge['QUALITY'].sum(), train_merge['PRICES'].sum(), train_merge['LOCATION'].sum(), train_merge['SERVICE'].sum()"
   ]
  },
  {
   "cell_type": "markdown",
   "metadata": {},
   "source": [
    "#### Dev"
   ]
  },
  {
   "cell_type": "code",
   "execution_count": 26,
   "metadata": {},
   "outputs": [],
   "source": [
    "dev_ht = pd.read_csv(r'relabel\\hotel\\Hotel-dev.csv')\n",
    "dev_re = pd.read_csv(r'relabel\\restaurant\\vn\\Restaurant-dev.csv')"
   ]
  },
  {
   "cell_type": "code",
   "execution_count": 27,
   "metadata": {},
   "outputs": [
    {
     "name": "stdout",
     "output_type": "stream",
     "text": [
      "<class 'pandas.core.frame.DataFrame'>\n",
      "RangeIndex: 2000 entries, 0 to 1999\n",
      "Data columns (total 6 columns):\n",
      " #   Column    Non-Null Count  Dtype \n",
      "---  ------    --------------  ----- \n",
      " 0   Review    2000 non-null   object\n",
      " 1   AMBIENCE  2000 non-null   int64 \n",
      " 2   QUALITY   2000 non-null   int64 \n",
      " 3   PRICES    2000 non-null   int64 \n",
      " 4   LOCATION  2000 non-null   int64 \n",
      " 5   SERVICE   2000 non-null   int64 \n",
      "dtypes: int64(5), object(1)\n",
      "memory usage: 93.9+ KB\n",
      "<class 'pandas.core.frame.DataFrame'>\n",
      "RangeIndex: 1273 entries, 0 to 1272\n",
      "Data columns (total 6 columns):\n",
      " #   Column    Non-Null Count  Dtype \n",
      "---  ------    --------------  ----- \n",
      " 0   Review    1273 non-null   object\n",
      " 1   AMBIENCE  1273 non-null   int64 \n",
      " 2   QUALITY   1273 non-null   int64 \n",
      " 3   PRICES    1273 non-null   int64 \n",
      " 4   LOCATION  1273 non-null   int64 \n",
      " 5   SERVICE   1273 non-null   int64 \n",
      "dtypes: int64(5), object(1)\n",
      "memory usage: 59.8+ KB\n"
     ]
    },
    {
     "data": {
      "text/plain": [
       "(None, None)"
      ]
     },
     "execution_count": 27,
     "metadata": {},
     "output_type": "execute_result"
    }
   ],
   "source": [
    "dev_ht.info(), dev_re.info()"
   ]
  },
  {
   "cell_type": "code",
   "execution_count": 31,
   "metadata": {},
   "outputs": [
    {
     "data": {
      "text/plain": [
       "(669, 826, 245, 567, 1311)"
      ]
     },
     "execution_count": 31,
     "metadata": {},
     "output_type": "execute_result"
    }
   ],
   "source": [
    "dev_ht['AMBIENCE'].sum(), dev_ht['QUALITY'].sum(), dev_ht['PRICES'].sum(), dev_ht['LOCATION'].sum(), dev_ht['SERVICE'].sum()"
   ]
  },
  {
   "cell_type": "code",
   "execution_count": 32,
   "metadata": {},
   "outputs": [
    {
     "data": {
      "text/plain": [
       "(205, 1170, 768, 134, 228)"
      ]
     },
     "execution_count": 32,
     "metadata": {},
     "output_type": "execute_result"
    }
   ],
   "source": [
    "dev_re['AMBIENCE'].sum(), dev_re['QUALITY'].sum(), dev_re['PRICES'].sum(), dev_re['LOCATION'].sum(), dev_re['SERVICE'].sum()"
   ]
  },
  {
   "cell_type": "code",
   "execution_count": 28,
   "metadata": {},
   "outputs": [],
   "source": [
    "dev_merge = pd.concat([dev_ht, dev_re], axis=0) "
   ]
  },
  {
   "cell_type": "code",
   "execution_count": 29,
   "metadata": {},
   "outputs": [
    {
     "name": "stdout",
     "output_type": "stream",
     "text": [
      "<class 'pandas.core.frame.DataFrame'>\n",
      "Index: 3273 entries, 0 to 1272\n",
      "Data columns (total 6 columns):\n",
      " #   Column    Non-Null Count  Dtype \n",
      "---  ------    --------------  ----- \n",
      " 0   Review    3273 non-null   object\n",
      " 1   AMBIENCE  3273 non-null   int64 \n",
      " 2   QUALITY   3273 non-null   int64 \n",
      " 3   PRICES    3273 non-null   int64 \n",
      " 4   LOCATION  3273 non-null   int64 \n",
      " 5   SERVICE   3273 non-null   int64 \n",
      "dtypes: int64(5), object(1)\n",
      "memory usage: 179.0+ KB\n"
     ]
    }
   ],
   "source": [
    "dev_merge.info()"
   ]
  },
  {
   "cell_type": "code",
   "execution_count": 30,
   "metadata": {},
   "outputs": [
    {
     "data": {
      "text/plain": [
       "(874, 1996, 1013, 701, 1539)"
      ]
     },
     "execution_count": 30,
     "metadata": {},
     "output_type": "execute_result"
    }
   ],
   "source": [
    "dev_merge['AMBIENCE'].sum(), dev_merge['QUALITY'].sum(), dev_merge['PRICES'].sum(), dev_merge['LOCATION'].sum(), dev_merge['SERVICE'].sum()"
   ]
  },
  {
   "cell_type": "code",
   "execution_count": 40,
   "metadata": {},
   "outputs": [],
   "source": [
    "dev_merge.to_csv(r'relabel\\dev_merge.csv', index=False)"
   ]
  },
  {
   "cell_type": "markdown",
   "metadata": {},
   "source": [
    "#### Test"
   ]
  },
  {
   "cell_type": "code",
   "execution_count": 33,
   "metadata": {},
   "outputs": [],
   "source": [
    "test_ht = pd.read_csv(r'relabel\\hotel\\Hotel-test.csv')\n",
    "test_re = pd.read_csv(r'relabel\\restaurant\\vn\\Restaurant-test.csv') "
   ]
  },
  {
   "cell_type": "code",
   "execution_count": 34,
   "metadata": {},
   "outputs": [
    {
     "data": {
      "text/plain": [
       "(242, 293, 119, 221, 416)"
      ]
     },
     "execution_count": 34,
     "metadata": {},
     "output_type": "execute_result"
    }
   ],
   "source": [
    "test_ht['AMBIENCE'].sum(), test_ht['QUALITY'].sum(), test_ht['PRICES'].sum(), test_ht['LOCATION'].sum(), test_ht['SERVICE'].sum()"
   ]
  },
  {
   "cell_type": "code",
   "execution_count": 37,
   "metadata": {},
   "outputs": [
    {
     "data": {
      "text/plain": [
       "(255, 474, 405, 179, 175)"
      ]
     },
     "execution_count": 37,
     "metadata": {},
     "output_type": "execute_result"
    }
   ],
   "source": [
    "test_re['AMBIENCE'].sum(), test_re['QUALITY'].sum(), test_re['PRICES'].sum(), test_re['LOCATION'].sum(), test_re['SERVICE'].sum()"
   ]
  },
  {
   "cell_type": "code",
   "execution_count": 38,
   "metadata": {},
   "outputs": [],
   "source": [
    "test_merge = pd.concat([test_ht, test_re], axis=0)  "
   ]
  },
  {
   "cell_type": "code",
   "execution_count": 39,
   "metadata": {},
   "outputs": [
    {
     "data": {
      "text/plain": [
       "(497, 767, 524, 400, 591)"
      ]
     },
     "execution_count": 39,
     "metadata": {},
     "output_type": "execute_result"
    }
   ],
   "source": [
    "test_merge['AMBIENCE'].sum(), test_merge['QUALITY'].sum(), test_merge['PRICES'].sum(), test_merge['LOCATION'].sum(), test_merge['SERVICE'].sum()"
   ]
  },
  {
   "cell_type": "code",
   "execution_count": 41,
   "metadata": {},
   "outputs": [],
   "source": [
    "test_merge.to_csv(r'relabel\\test_merge.csv', index=False)"
   ]
  },
  {
   "cell_type": "markdown",
   "metadata": {},
   "source": [
    "#### Merge train + test"
   ]
  },
  {
   "cell_type": "code",
   "execution_count": 50,
   "metadata": {},
   "outputs": [],
   "source": [
    "train_test = pd.concat([train_merge, test_merge], axis=0)"
   ]
  },
  {
   "cell_type": "code",
   "execution_count": 52,
   "metadata": {},
   "outputs": [
    {
     "data": {
      "text/plain": [
       "(1972, 5085, 2986, 1969, 3298)"
      ]
     },
     "execution_count": 52,
     "metadata": {},
     "output_type": "execute_result"
    }
   ],
   "source": [
    "train_test['AMBIENCE'].sum(), train_test['QUALITY'].sum(), train_test['PRICES'].sum(), train_test['LOCATION'].sum(), train_test['SERVICE'].sum()"
   ]
  },
  {
   "cell_type": "code",
   "execution_count": 56,
   "metadata": {},
   "outputs": [],
   "source": [
    "train_test.to_csv(r'relabel\\train_test.csv', index=False)"
   ]
  }
 ],
 "metadata": {
  "kernelspec": {
   "display_name": "ml",
   "language": "python",
   "name": "python3"
  },
  "language_info": {
   "codemirror_mode": {
    "name": "ipython",
    "version": 3
   },
   "file_extension": ".py",
   "mimetype": "text/x-python",
   "name": "python",
   "nbconvert_exporter": "python",
   "pygments_lexer": "ipython3",
   "version": "3.11.5"
  }
 },
 "nbformat": 4,
 "nbformat_minor": 2
}
